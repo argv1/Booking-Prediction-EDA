{
 "cells": [
  {
   "cell_type": "markdown",
   "metadata": {},
   "source": [
    "# Hotel EDA\n",
    "\n",
    "![Logo](img/hotel-logo.png)"
   ]
  },
  {
   "cell_type": "markdown",
   "metadata": {},
   "source": [
    "### Import required libraries"
   ]
  },
  {
   "cell_type": "code",
   "execution_count": 1,
   "metadata": {
    "ExecuteTime": {
     "end_time": "2020-08-02T21:11:37.996158Z",
     "start_time": "2020-08-02T21:11:37.098559Z"
    }
   },
   "outputs": [],
   "source": [
    "import pandas as pd\n",
    "import numpy as np\n",
    "pd.set_option(\"display.max_columns\", None)\n",
    "\n",
    "from sklearn.datasets import make_classification\n",
    "from sklearn.linear_model import LogisticRegression\n",
    "from sklearn.metrics import confusion_matrix\n",
    "from sklearn.model_selection import train_test_split\n",
    "\n",
    "#visualisations\n",
    "import seaborn as sns\n",
    "import matplotlib.pyplot as plt\n",
    "sns.set(style=\"whitegrid\")\n",
    "%matplotlib inline"
   ]
  },
  {
   "cell_type": "code",
   "execution_count": 2,
   "metadata": {
    "ExecuteTime": {
     "end_time": "2020-08-02T21:11:38.012116Z",
     "start_time": "2020-08-02T21:11:37.997156Z"
    }
   },
   "outputs": [],
   "source": [
    "#import eli5 # https://pypi.org/project/eli5/"
   ]
  },
  {
   "cell_type": "markdown",
   "metadata": {},
   "source": [
    "#### Loading cleaned dataset"
   ]
  },
  {
   "cell_type": "code",
   "execution_count": 3,
   "metadata": {
    "ExecuteTime": {
     "end_time": "2020-08-02T21:11:38.898746Z",
     "start_time": "2020-08-02T21:11:38.013114Z"
    }
   },
   "outputs": [],
   "source": [
    "df = pd.read_csv(\"data/cleaned_dataset.csv\", index_col=0, encoding=\"iso-8859-15\")"
   ]
  },
  {
   "cell_type": "code",
   "execution_count": 4,
   "metadata": {
    "ExecuteTime": {
     "end_time": "2020-08-02T21:11:38.930660Z",
     "start_time": "2020-08-02T21:11:38.899743Z"
    }
   },
   "outputs": [
    {
     "data": {
      "text/html": [
       "<div>\n",
       "<style scoped>\n",
       "    .dataframe tbody tr th:only-of-type {\n",
       "        vertical-align: middle;\n",
       "    }\n",
       "\n",
       "    .dataframe tbody tr th {\n",
       "        vertical-align: top;\n",
       "    }\n",
       "\n",
       "    .dataframe thead th {\n",
       "        text-align: right;\n",
       "    }\n",
       "</style>\n",
       "<table border=\"1\" class=\"dataframe\">\n",
       "  <thead>\n",
       "    <tr style=\"text-align: right;\">\n",
       "      <th></th>\n",
       "      <th>buchungsdatum</th>\n",
       "      <th>anreisedatum</th>\n",
       "      <th>abreisedatum</th>\n",
       "      <th>naechte_insgesamt</th>\n",
       "      <th>gebuchte_naechte</th>\n",
       "      <th>personen_anzahl</th>\n",
       "      <th>gesamtpreis</th>\n",
       "      <th>saison</th>\n",
       "      <th>buchung_telefon</th>\n",
       "      <th>buchung_online</th>\n",
       "      <th>buchung_reisebuero</th>\n",
       "      <th>zimmerarten</th>\n",
       "      <th>reise_adventure</th>\n",
       "      <th>reise_relax</th>\n",
       "      <th>reise_standard</th>\n",
       "      <th>reise_genuss</th>\n",
       "      <th>kind</th>\n",
       "      <th>entfernung</th>\n",
       "      <th>zahler</th>\n",
       "      <th>kunden_id</th>\n",
       "      <th>buchungsnr</th>\n",
       "      <th>buchungsnr_reisebuero</th>\n",
       "      <th>menue_code</th>\n",
       "      <th>zusatzleistung</th>\n",
       "      <th>destination</th>\n",
       "      <th>anrede</th>\n",
       "      <th>plz</th>\n",
       "      <th>ort</th>\n",
       "      <th>kein_email_ad</th>\n",
       "      <th>kein_brief_ad</th>\n",
       "      <th>kein_anruf_ad</th>\n",
       "      <th>kein_katalog_ad</th>\n",
       "      <th>kein_sms_ad</th>\n",
       "      <th>keine_werbung</th>\n",
       "      <th>kundenclub</th>\n",
       "      <th>sprache_deutsch</th>\n",
       "      <th>jahrgangsalter_klassiert</th>\n",
       "      <th>bundesland</th>\n",
       "      <th>einwohner_adjusted_plz</th>\n",
       "      <th>bev_m_plz</th>\n",
       "      <th>bev_w_plz</th>\n",
       "      <th>bev_insgesamt_ort</th>\n",
       "      <th>bev_weiblich_ort</th>\n",
       "      <th>bev_maennlich_ort</th>\n",
       "      <th>qkm_plz</th>\n",
       "      <th>flaeche_ort</th>\n",
       "      <th>einwohnerdichte_prokm2_plz</th>\n",
       "      <th>haushalte_regiog_2017_plz</th>\n",
       "      <th>kaufkraft_einwohner_in_eur_regio</th>\n",
       "      <th>kk_einwohner_index_regiog_2017</th>\n",
       "      <th>kk_hh_index_regiog_2017</th>\n",
       "      <th>gemeindetyp_regiostar_2016</th>\n",
       "      <th>wirtschaftskraftmr1</th>\n",
       "      <th>wirtschaftskraftmr2</th>\n",
       "    </tr>\n",
       "  </thead>\n",
       "  <tbody>\n",
       "    <tr>\n",
       "      <th>0</th>\n",
       "      <td>2010-01-29</td>\n",
       "      <td>2010-04-02</td>\n",
       "      <td>2010-04-10</td>\n",
       "      <td>8.0</td>\n",
       "      <td>8</td>\n",
       "      <td>2</td>\n",
       "      <td>2982</td>\n",
       "      <td>2010</td>\n",
       "      <td>0</td>\n",
       "      <td>0</td>\n",
       "      <td>1</td>\n",
       "      <td>classic</td>\n",
       "      <td>0</td>\n",
       "      <td>0</td>\n",
       "      <td>0</td>\n",
       "      <td>1</td>\n",
       "      <td>0</td>\n",
       "      <td>535.48</td>\n",
       "      <td>1</td>\n",
       "      <td>1</td>\n",
       "      <td>1151</td>\n",
       "      <td>456</td>\n",
       "      <td>5</td>\n",
       "      <td>5</td>\n",
       "      <td>linz</td>\n",
       "      <td>Herr</td>\n",
       "      <td>29664</td>\n",
       "      <td>Walsrode</td>\n",
       "      <td>0</td>\n",
       "      <td>0</td>\n",
       "      <td>0</td>\n",
       "      <td>0</td>\n",
       "      <td>0</td>\n",
       "      <td>0</td>\n",
       "      <td>0</td>\n",
       "      <td>1</td>\n",
       "      <td>55-64</td>\n",
       "      <td>Niedersachsen</td>\n",
       "      <td>25173</td>\n",
       "      <td>12540</td>\n",
       "      <td>12633</td>\n",
       "      <td>25173</td>\n",
       "      <td>11577</td>\n",
       "      <td>11491</td>\n",
       "      <td>344.326464</td>\n",
       "      <td>344.326464</td>\n",
       "      <td>73.108</td>\n",
       "      <td>11453</td>\n",
       "      <td>20641.89</td>\n",
       "      <td>92.819</td>\n",
       "      <td>98.104</td>\n",
       "      <td>Landregion - Zentrale Stadt</td>\n",
       "      <td>-0.333392</td>\n",
       "      <td>-0.388738</td>\n",
       "    </tr>\n",
       "    <tr>\n",
       "      <th>1</th>\n",
       "      <td>2010-01-14</td>\n",
       "      <td>2010-04-05</td>\n",
       "      <td>2010-04-10</td>\n",
       "      <td>5.0</td>\n",
       "      <td>5</td>\n",
       "      <td>2</td>\n",
       "      <td>1437</td>\n",
       "      <td>2010</td>\n",
       "      <td>0</td>\n",
       "      <td>0</td>\n",
       "      <td>1</td>\n",
       "      <td>classic</td>\n",
       "      <td>0</td>\n",
       "      <td>0</td>\n",
       "      <td>1</td>\n",
       "      <td>0</td>\n",
       "      <td>0</td>\n",
       "      <td>544.72</td>\n",
       "      <td>0</td>\n",
       "      <td>2</td>\n",
       "      <td>40</td>\n",
       "      <td>6413</td>\n",
       "      <td>5</td>\n",
       "      <td>5</td>\n",
       "      <td>linz</td>\n",
       "      <td>Frau</td>\n",
       "      <td>50226</td>\n",
       "      <td>Frechen</td>\n",
       "      <td>1</td>\n",
       "      <td>1</td>\n",
       "      <td>1</td>\n",
       "      <td>1</td>\n",
       "      <td>1</td>\n",
       "      <td>1</td>\n",
       "      <td>0</td>\n",
       "      <td>1</td>\n",
       "      <td>55-64</td>\n",
       "      <td>Nordrhein-Westfalen</td>\n",
       "      <td>52473</td>\n",
       "      <td>25645</td>\n",
       "      <td>26828</td>\n",
       "      <td>52473</td>\n",
       "      <td>26828</td>\n",
       "      <td>25645</td>\n",
       "      <td>45.118960</td>\n",
       "      <td>45.118960</td>\n",
       "      <td>1162.992</td>\n",
       "      <td>26227</td>\n",
       "      <td>25268.58</td>\n",
       "      <td>113.623</td>\n",
       "      <td>111.379</td>\n",
       "      <td>Landregion - Zentrale Stadt</td>\n",
       "      <td>0.853802</td>\n",
       "      <td>-0.345112</td>\n",
       "    </tr>\n",
       "    <tr>\n",
       "      <th>2</th>\n",
       "      <td>2010-03-01</td>\n",
       "      <td>2010-04-05</td>\n",
       "      <td>2010-04-10</td>\n",
       "      <td>5.0</td>\n",
       "      <td>5</td>\n",
       "      <td>2</td>\n",
       "      <td>1737</td>\n",
       "      <td>2010</td>\n",
       "      <td>0</td>\n",
       "      <td>0</td>\n",
       "      <td>1</td>\n",
       "      <td>classic</td>\n",
       "      <td>0</td>\n",
       "      <td>0</td>\n",
       "      <td>1</td>\n",
       "      <td>0</td>\n",
       "      <td>0</td>\n",
       "      <td>606.63</td>\n",
       "      <td>0</td>\n",
       "      <td>3</td>\n",
       "      <td>2134</td>\n",
       "      <td>4322</td>\n",
       "      <td>5</td>\n",
       "      <td>5</td>\n",
       "      <td>linz</td>\n",
       "      <td>Herr</td>\n",
       "      <td>23970</td>\n",
       "      <td>Wismar</td>\n",
       "      <td>0</td>\n",
       "      <td>0</td>\n",
       "      <td>0</td>\n",
       "      <td>0</td>\n",
       "      <td>0</td>\n",
       "      <td>0</td>\n",
       "      <td>0</td>\n",
       "      <td>1</td>\n",
       "      <td>75-84</td>\n",
       "      <td>Mecklenburg-Vorpommern</td>\n",
       "      <td>1423</td>\n",
       "      <td>692</td>\n",
       "      <td>731</td>\n",
       "      <td>46442</td>\n",
       "      <td>21844</td>\n",
       "      <td>20706</td>\n",
       "      <td>50.563027</td>\n",
       "      <td>83.131346</td>\n",
       "      <td>17.117</td>\n",
       "      <td>6355</td>\n",
       "      <td>18697.65</td>\n",
       "      <td>84.076</td>\n",
       "      <td>73.665</td>\n",
       "      <td>Stadtregion - Kleinstädtischer, dörflicher Raum</td>\n",
       "      <td>-1.012536</td>\n",
       "      <td>-1.012536</td>\n",
       "    </tr>\n",
       "    <tr>\n",
       "      <th>3</th>\n",
       "      <td>2010-01-25</td>\n",
       "      <td>2010-03-21</td>\n",
       "      <td>2010-03-25</td>\n",
       "      <td>4.0</td>\n",
       "      <td>4</td>\n",
       "      <td>2</td>\n",
       "      <td>1047</td>\n",
       "      <td>2010</td>\n",
       "      <td>0</td>\n",
       "      <td>0</td>\n",
       "      <td>1</td>\n",
       "      <td>classic</td>\n",
       "      <td>0</td>\n",
       "      <td>1</td>\n",
       "      <td>0</td>\n",
       "      <td>0</td>\n",
       "      <td>0</td>\n",
       "      <td>421.59</td>\n",
       "      <td>1</td>\n",
       "      <td>4</td>\n",
       "      <td>776</td>\n",
       "      <td>6414</td>\n",
       "      <td>69</td>\n",
       "      <td>9</td>\n",
       "      <td>linz</td>\n",
       "      <td>Frau</td>\n",
       "      <td>15732</td>\n",
       "      <td>Eichwalde</td>\n",
       "      <td>0</td>\n",
       "      <td>0</td>\n",
       "      <td>0</td>\n",
       "      <td>0</td>\n",
       "      <td>0</td>\n",
       "      <td>0</td>\n",
       "      <td>0</td>\n",
       "      <td>1</td>\n",
       "      <td>65-74</td>\n",
       "      <td>Brandenburg</td>\n",
       "      <td>14690</td>\n",
       "      <td>7302</td>\n",
       "      <td>7388</td>\n",
       "      <td>14690</td>\n",
       "      <td>4135</td>\n",
       "      <td>4087</td>\n",
       "      <td>11.965427</td>\n",
       "      <td>11.965427</td>\n",
       "      <td>1227.704</td>\n",
       "      <td>7159</td>\n",
       "      <td>23442.06</td>\n",
       "      <td>105.410</td>\n",
       "      <td>104.087</td>\n",
       "      <td>Landregion - Städtischer Raum</td>\n",
       "      <td>0.417226</td>\n",
       "      <td>0.417226</td>\n",
       "    </tr>\n",
       "    <tr>\n",
       "      <th>4</th>\n",
       "      <td>2010-01-26</td>\n",
       "      <td>2010-03-07</td>\n",
       "      <td>2010-03-09</td>\n",
       "      <td>2.0</td>\n",
       "      <td>2</td>\n",
       "      <td>20</td>\n",
       "      <td>5279</td>\n",
       "      <td>2010</td>\n",
       "      <td>0</td>\n",
       "      <td>0</td>\n",
       "      <td>1</td>\n",
       "      <td>classic</td>\n",
       "      <td>1</td>\n",
       "      <td>0</td>\n",
       "      <td>0</td>\n",
       "      <td>0</td>\n",
       "      <td>0</td>\n",
       "      <td>37.88</td>\n",
       "      <td>0</td>\n",
       "      <td>5</td>\n",
       "      <td>813</td>\n",
       "      <td>2938</td>\n",
       "      <td>113</td>\n",
       "      <td>2</td>\n",
       "      <td>duesseldorf</td>\n",
       "      <td>Frau</td>\n",
       "      <td>53881</td>\n",
       "      <td>Euskirchen</td>\n",
       "      <td>0</td>\n",
       "      <td>0</td>\n",
       "      <td>0</td>\n",
       "      <td>0</td>\n",
       "      <td>0</td>\n",
       "      <td>0</td>\n",
       "      <td>1</td>\n",
       "      <td>1</td>\n",
       "      <td>45-54</td>\n",
       "      <td>Nordrhein-Westfalen</td>\n",
       "      <td>28531</td>\n",
       "      <td>13975</td>\n",
       "      <td>14556</td>\n",
       "      <td>57975</td>\n",
       "      <td>29578</td>\n",
       "      <td>28397</td>\n",
       "      <td>127.679129</td>\n",
       "      <td>139.430913</td>\n",
       "      <td>204.625</td>\n",
       "      <td>11683</td>\n",
       "      <td>23328.82</td>\n",
       "      <td>104.901</td>\n",
       "      <td>120.110</td>\n",
       "      <td>Stadtregion - Kleinstädtischer, dörflicher Raum</td>\n",
       "      <td>0.212335</td>\n",
       "      <td>-0.579173</td>\n",
       "    </tr>\n",
       "  </tbody>\n",
       "</table>\n",
       "</div>"
      ],
      "text/plain": [
       "  buchungsdatum anreisedatum abreisedatum  naechte_insgesamt  \\\n",
       "0    2010-01-29   2010-04-02   2010-04-10                8.0   \n",
       "1    2010-01-14   2010-04-05   2010-04-10                5.0   \n",
       "2    2010-03-01   2010-04-05   2010-04-10                5.0   \n",
       "3    2010-01-25   2010-03-21   2010-03-25                4.0   \n",
       "4    2010-01-26   2010-03-07   2010-03-09                2.0   \n",
       "\n",
       "   gebuchte_naechte  personen_anzahl  gesamtpreis  saison  buchung_telefon  \\\n",
       "0                 8                2         2982    2010                0   \n",
       "1                 5                2         1437    2010                0   \n",
       "2                 5                2         1737    2010                0   \n",
       "3                 4                2         1047    2010                0   \n",
       "4                 2               20         5279    2010                0   \n",
       "\n",
       "   buchung_online  buchung_reisebuero zimmerarten  reise_adventure  \\\n",
       "0               0                   1     classic                0   \n",
       "1               0                   1     classic                0   \n",
       "2               0                   1     classic                0   \n",
       "3               0                   1     classic                0   \n",
       "4               0                   1     classic                1   \n",
       "\n",
       "   reise_relax  reise_standard  reise_genuss  kind  entfernung  zahler  \\\n",
       "0            0               0             1     0      535.48       1   \n",
       "1            0               1             0     0      544.72       0   \n",
       "2            0               1             0     0      606.63       0   \n",
       "3            1               0             0     0      421.59       1   \n",
       "4            0               0             0     0       37.88       0   \n",
       "\n",
       "   kunden_id  buchungsnr  buchungsnr_reisebuero  menue_code  zusatzleistung  \\\n",
       "0          1        1151                    456           5               5   \n",
       "1          2          40                   6413           5               5   \n",
       "2          3        2134                   4322           5               5   \n",
       "3          4         776                   6414          69               9   \n",
       "4          5         813                   2938         113               2   \n",
       "\n",
       "   destination anrede    plz         ort  kein_email_ad  kein_brief_ad  \\\n",
       "0         linz   Herr  29664    Walsrode              0              0   \n",
       "1         linz   Frau  50226     Frechen              1              1   \n",
       "2         linz   Herr  23970      Wismar              0              0   \n",
       "3         linz   Frau  15732   Eichwalde              0              0   \n",
       "4  duesseldorf   Frau  53881  Euskirchen              0              0   \n",
       "\n",
       "   kein_anruf_ad  kein_katalog_ad  kein_sms_ad  keine_werbung  kundenclub  \\\n",
       "0              0                0            0              0           0   \n",
       "1              1                1            1              1           0   \n",
       "2              0                0            0              0           0   \n",
       "3              0                0            0              0           0   \n",
       "4              0                0            0              0           1   \n",
       "\n",
       "   sprache_deutsch jahrgangsalter_klassiert              bundesland  \\\n",
       "0                1                    55-64           Niedersachsen   \n",
       "1                1                    55-64     Nordrhein-Westfalen   \n",
       "2                1                    75-84  Mecklenburg-Vorpommern   \n",
       "3                1                    65-74             Brandenburg   \n",
       "4                1                    45-54     Nordrhein-Westfalen   \n",
       "\n",
       "   einwohner_adjusted_plz  bev_m_plz  bev_w_plz  bev_insgesamt_ort  \\\n",
       "0                   25173      12540      12633              25173   \n",
       "1                   52473      25645      26828              52473   \n",
       "2                    1423        692        731              46442   \n",
       "3                   14690       7302       7388              14690   \n",
       "4                   28531      13975      14556              57975   \n",
       "\n",
       "   bev_weiblich_ort  bev_maennlich_ort     qkm_plz  flaeche_ort  \\\n",
       "0             11577              11491  344.326464   344.326464   \n",
       "1             26828              25645   45.118960    45.118960   \n",
       "2             21844              20706   50.563027    83.131346   \n",
       "3              4135               4087   11.965427    11.965427   \n",
       "4             29578              28397  127.679129   139.430913   \n",
       "\n",
       "   einwohnerdichte_prokm2_plz  haushalte_regiog_2017_plz  \\\n",
       "0                      73.108                      11453   \n",
       "1                    1162.992                      26227   \n",
       "2                      17.117                       6355   \n",
       "3                    1227.704                       7159   \n",
       "4                     204.625                      11683   \n",
       "\n",
       "   kaufkraft_einwohner_in_eur_regio  kk_einwohner_index_regiog_2017  \\\n",
       "0                          20641.89                          92.819   \n",
       "1                          25268.58                         113.623   \n",
       "2                          18697.65                          84.076   \n",
       "3                          23442.06                         105.410   \n",
       "4                          23328.82                         104.901   \n",
       "\n",
       "   kk_hh_index_regiog_2017                       gemeindetyp_regiostar_2016  \\\n",
       "0                   98.104                      Landregion - Zentrale Stadt   \n",
       "1                  111.379                      Landregion - Zentrale Stadt   \n",
       "2                   73.665  Stadtregion - Kleinstädtischer, dörflicher Raum   \n",
       "3                  104.087                    Landregion - Städtischer Raum   \n",
       "4                  120.110  Stadtregion - Kleinstädtischer, dörflicher Raum   \n",
       "\n",
       "   wirtschaftskraftmr1  wirtschaftskraftmr2  \n",
       "0            -0.333392            -0.388738  \n",
       "1             0.853802            -0.345112  \n",
       "2            -1.012536            -1.012536  \n",
       "3             0.417226             0.417226  \n",
       "4             0.212335            -0.579173  "
      ]
     },
     "execution_count": 4,
     "metadata": {},
     "output_type": "execute_result"
    }
   ],
   "source": [
    "df.head()"
   ]
  },
  {
   "cell_type": "markdown",
   "metadata": {},
   "source": [
    "## New Features"
   ]
  },
  {
   "cell_type": "markdown",
   "metadata": {},
   "source": [
    "#### Weekday, week and quarter of booking, arrival and departure\n",
    "\n",
    "also split booking, arrival and departure by year, month and day"
   ]
  },
  {
   "cell_type": "code",
   "execution_count": 5,
   "metadata": {
    "ExecuteTime": {
     "end_time": "2020-08-02T21:11:39.261775Z",
     "start_time": "2020-08-02T21:11:38.931658Z"
    }
   },
   "outputs": [],
   "source": [
    "df[\"buchungsdatum\"]      = pd.to_datetime(df[\"buchungsdatum\"])\n",
    "df[\"wochentag_buchung\"]  =  df.buchungsdatum.dt.dayofweek\n",
    "df[\"buchungstag\"]        = df[\"buchungsdatum\"].dt.day\n",
    "df[\"buchungsmonat\"]      = df[\"buchungsdatum\"].dt.month\n",
    "df[\"buchungsjahr\"]       = df[\"buchungsdatum\"].dt.year\n",
    "df[\"buchungswoche\"]      = df[\"buchungsdatum\"].dt.week\n",
    "df[\"buchungsquartal\"]    = df[\"buchungsdatum\"].dt.quarter\n",
    "\n",
    "df[\"anreisedatum\"]       = pd.to_datetime(df[\"anreisedatum\"])\n",
    "df[\"wochentag_anreise\"]  =  df.anreisedatum.dt.dayofweek\n",
    "df[\"anreisetag\"]         = df[\"anreisedatum\"].dt.day\n",
    "df[\"anreisemonat\"]       = df[\"anreisedatum\"].dt.month\n",
    "df[\"anreisejahr\"]        = df[\"anreisedatum\"].dt.year\n",
    "df[\"anreisewoche\"]       = df[\"anreisedatum\"].dt.week\n",
    "df[\"anreisequartal\"]     = df[\"anreisedatum\"].dt.quarter\n",
    "\n",
    "df[\"abreisedatum\"]       = pd.to_datetime(df[\"abreisedatum\"])\n",
    "df[\"wochentag_abreise\"]  =  df.abreisedatum.dt.dayofweek\n",
    "df[\"abreisetag\"]         = df[\"abreisedatum\"].dt.day\n",
    "df[\"abreisemonat\"]       = df[\"abreisedatum\"].dt.month\n",
    "df[\"abreisejahr\"]        = df[\"abreisedatum\"].dt.year\n",
    "df[\"abreisewoche\"]       = df[\"abreisedatum\"].dt.week\n",
    "df[\"abreisequartal\"]     = df[\"abreisedatum\"].dt.quarter"
   ]
  },
  {
   "cell_type": "markdown",
   "metadata": {},
   "source": [
    "#### Season (saison)\n",
    "identifying season start and end month with new feature arrival year (anreisejahr) and depature year (abreisejahr)"
   ]
  },
  {
   "cell_type": "code",
   "execution_count": 6,
   "metadata": {
    "ExecuteTime": {
     "end_time": "2020-08-02T21:11:39.355525Z",
     "start_time": "2020-08-02T21:11:39.262773Z"
    }
   },
   "outputs": [
    {
     "name": "stdout",
     "output_type": "stream",
     "text": [
      "2110 entries for saison are unequal the arrival year\n",
      "5393 entries for saison are unequal the departure year\n",
      "2110 entries of saison are not equal An- nor Abreisedatum\n",
      "\n",
      "0 of these entries are with a different arrival date than January\n",
      "January is counting to the previous saison\n",
      "\n",
      "12092 with year of arrival 2019 and higher.\n",
      "0 with year of booking 2019 and higher.\n"
     ]
    }
   ],
   "source": [
    "print(f\"{df.query('saison != anreisejahr').count()[0]} entries for saison are unequal the arrival year\")\n",
    "print(f\"{df.query('saison != abreisejahr').count()[0]} entries for saison are unequal the departure year\")\n",
    "print(f\"{df.query('saison != anreisejahr and saison != abreisejahr').count()[0]} entries of saison are not equal An- nor Abreisedatum\")\n",
    "\n",
    "print(f\"\\n{df.query('saison != anreisejahr and saison != abreisejahr and anreisemonat != 1').count()[0]} of these entries are with a different arrival date than January\")\n",
    "print(f\"January is counting to the previous saison\")\n",
    "\n",
    "print(f\"\\n{df.query('anreisejahr > 2018 ').count()[0]} with year of arrival 2019 and higher.\")\n",
    "print(f\"{df.query('buchungsjahr > 2018 ').count()[0]} with year of booking 2019 and higher.\")"
   ]
  },
  {
   "cell_type": "markdown",
   "metadata": {},
   "source": [
    "#### Booking channel\n",
    "reverse dummy variable"
   ]
  },
  {
   "cell_type": "code",
   "execution_count": 7,
   "metadata": {
    "ExecuteTime": {
     "end_time": "2020-08-02T21:11:39.402399Z",
     "start_time": "2020-08-02T21:11:39.356523Z"
    }
   },
   "outputs": [
    {
     "data": {
      "text/plain": [
       "reisebuero    125138\n",
       "Telefon        20208\n",
       "Online         14954\n",
       "Name: buchungskanal, dtype: int64"
      ]
     },
     "execution_count": 7,
     "metadata": {},
     "output_type": "execute_result"
    }
   ],
   "source": [
    "df['buchungskanal'] = 'reisebuero'\n",
    "\n",
    "mask = df['buchung_telefon'] == 1\n",
    "df.loc[mask, 'buchungskanal'] = 'Telefon'\n",
    "\n",
    "mask = df['buchung_online'] == 1\n",
    "df.loc[mask, 'buchungskanal'] = 'Online'\n",
    "\n",
    "df.buchungskanal.value_counts()"
   ]
  },
  {
   "cell_type": "markdown",
   "metadata": {},
   "source": [
    "#### Advertisment ban\n",
    "reverse dummy variable"
   ]
  },
  {
   "cell_type": "code",
   "execution_count": 54,
   "metadata": {
    "ExecuteTime": {
     "end_time": "2020-08-02T22:01:21.495590Z",
     "start_time": "2020-08-02T22:01:21.371921Z"
    },
    "scrolled": true
   },
   "outputs": [
    {
     "data": {
      "text/plain": [
       "keine                                          129774\n",
       "email, brief, generell                          11054\n",
       "email, brief, anruf, sms, generell              10459\n",
       "email, brief, anruf, katalog, sms, generell      8090\n",
       "email, brief, anruf, sms                          588\n",
       "email, anruf, sms                                  85\n",
       "email                                              59\n",
       "brief, anruf, sms                                  56\n",
       "brief                                              48\n",
       "anruf, sms                                         24\n",
       "email, anruf, katalog, sms                         14\n",
       "brief, anruf, katalog, sms                          3\n",
       "brief, katalog                                      2\n",
       "email, katalog                                      2\n",
       "email, brief                                        1\n",
       "Name: werbeban, dtype: int64"
      ]
     },
     "execution_count": 54,
     "metadata": {},
     "output_type": "execute_result"
    }
   ],
   "source": [
    "df['werbeban'] = ''\n",
    "\n",
    "mask = df['kein_email_ad'] == 1\n",
    "df.loc[mask, 'werbeban'] = 'email, '\n",
    "\n",
    "mask = df['kein_brief_ad'] == 1\n",
    "df.loc[mask, 'werbeban'] += 'brief, '\n",
    "\n",
    "mask = df['kein_anruf_ad'] == 1\n",
    "df.loc[mask, 'werbeban'] += 'anruf, '\n",
    "\n",
    "mask = df['kein_katalog_ad'] == 1\n",
    "df.loc[mask, 'werbeban'] += 'katalog, '\n",
    "\n",
    "mask = df['kein_sms_ad'] == 1\n",
    "df.loc[mask, 'werbeban'] += 'sms, '\n",
    "\n",
    "mask = df['keine_werbung'] == 1\n",
    "df.loc[mask, 'werbeban'] += 'generell'\n",
    "\n",
    "df.werbeban = df.werbeban.str.rstrip(', ')\n",
    "\n",
    "mask = df['werbeban'] == ''\n",
    "df.loc[mask, 'werbeban'] = 'keine'\n",
    "\n",
    "df.werbeban.value_counts()"
   ]
  },
  {
   "cell_type": "markdown",
   "metadata": {},
   "source": [
    "#### Nights stayed (aufenthalt)\n",
    "check if depature date minus arrival date equals total nights (naechte_insgesamt)"
   ]
  },
  {
   "cell_type": "code",
   "execution_count": 9,
   "metadata": {
    "ExecuteTime": {
     "end_time": "2020-08-02T21:11:39.606853Z",
     "start_time": "2020-08-02T21:11:39.546016Z"
    }
   },
   "outputs": [
    {
     "name": "stdout",
     "output_type": "stream",
     "text": [
      "6297 rows with different values for naechte_insgesamt and gebuchte_naechte.\n",
      "\n",
      "648 rows with different values for naechte_insgesamt and aufenthalt.\n"
     ]
    },
    {
     "data": {
      "text/html": [
       "<div>\n",
       "<style scoped>\n",
       "    .dataframe tbody tr th:only-of-type {\n",
       "        vertical-align: middle;\n",
       "    }\n",
       "\n",
       "    .dataframe tbody tr th {\n",
       "        vertical-align: top;\n",
       "    }\n",
       "\n",
       "    .dataframe thead th {\n",
       "        text-align: right;\n",
       "    }\n",
       "</style>\n",
       "<table border=\"1\" class=\"dataframe\">\n",
       "  <thead>\n",
       "    <tr style=\"text-align: right;\">\n",
       "      <th></th>\n",
       "      <th>naechte_insgesamt</th>\n",
       "      <th>gebuchte_naechte</th>\n",
       "      <th>aufenthalt</th>\n",
       "    </tr>\n",
       "  </thead>\n",
       "  <tbody>\n",
       "    <tr>\n",
       "      <th>56</th>\n",
       "      <td>3.0</td>\n",
       "      <td>4</td>\n",
       "      <td>4</td>\n",
       "    </tr>\n",
       "    <tr>\n",
       "      <th>61</th>\n",
       "      <td>3.0</td>\n",
       "      <td>4</td>\n",
       "      <td>4</td>\n",
       "    </tr>\n",
       "    <tr>\n",
       "      <th>65</th>\n",
       "      <td>3.0</td>\n",
       "      <td>4</td>\n",
       "      <td>4</td>\n",
       "    </tr>\n",
       "    <tr>\n",
       "      <th>67</th>\n",
       "      <td>4.0</td>\n",
       "      <td>5</td>\n",
       "      <td>5</td>\n",
       "    </tr>\n",
       "    <tr>\n",
       "      <th>69</th>\n",
       "      <td>3.0</td>\n",
       "      <td>4</td>\n",
       "      <td>4</td>\n",
       "    </tr>\n",
       "  </tbody>\n",
       "</table>\n",
       "</div>"
      ],
      "text/plain": [
       "    naechte_insgesamt  gebuchte_naechte  aufenthalt\n",
       "56                3.0                 4           4\n",
       "61                3.0                 4           4\n",
       "65                3.0                 4           4\n",
       "67                4.0                 5           5\n",
       "69                3.0                 4           4"
      ]
     },
     "execution_count": 9,
     "metadata": {},
     "output_type": "execute_result"
    }
   ],
   "source": [
    "df[\"aufenthalt\"] = (df.abreisedatum - df.anreisedatum).astype('timedelta64[D]').astype('int64')\n",
    "print(f'{len(df[df.naechte_insgesamt != df.gebuchte_naechte])} rows with different values for naechte_insgesamt and gebuchte_naechte.')\n",
    "print(f'\\n{len(df[df.naechte_insgesamt != df.aufenthalt])} rows with different values for naechte_insgesamt and aufenthalt.')\n",
    "df.loc[df[\"naechte_insgesamt\"] != df[\"aufenthalt\"], [\"naechte_insgesamt\", \"gebuchte_naechte\", \"aufenthalt\"]].head()"
   ]
  },
  {
   "cell_type": "markdown",
   "metadata": {},
   "source": [
    "replace missing values and  naechte_insgesamt > aufenthalt by aufenthalt"
   ]
  },
  {
   "cell_type": "code",
   "execution_count": 10,
   "metadata": {
    "ExecuteTime": {
     "end_time": "2020-08-02T21:11:39.622810Z",
     "start_time": "2020-08-02T21:11:39.607851Z"
    }
   },
   "outputs": [],
   "source": [
    "mask = df[df.naechte_insgesamt != df.aufenthalt]\n",
    "df.loc[mask.index, \"naechte_insgesamt\"] = df.loc[mask.index, \"aufenthalt\"]"
   ]
  },
  {
   "cell_type": "markdown",
   "metadata": {},
   "source": [
    "#### Nights in total (naechte_insgesamt)\n",
    "filling the NaN from values of aufenthalt\n",
    "and transfort naechte_insgesamt to integer"
   ]
  },
  {
   "cell_type": "code",
   "execution_count": 11,
   "metadata": {
    "ExecuteTime": {
     "end_time": "2020-08-02T21:11:39.750469Z",
     "start_time": "2020-08-02T21:11:39.623810Z"
    }
   },
   "outputs": [
    {
     "name": "stdout",
     "output_type": "stream",
     "text": [
      "\n",
      "0 entry with NaN for naechte_insgesamt.\n",
      "\n",
      "<class 'float'>    160300\n",
      "Name: naechte_insgesamt, dtype: int64\n",
      "\n",
      "\n",
      "41 rows with 0 or more than 22 nights in total dropped\n"
     ]
    }
   ],
   "source": [
    "rows = df.loc[pd.isna(df.naechte_insgesamt)]\n",
    "print(f\"\\n{len(rows)} entry with NaN for naechte_insgesamt.\")\n",
    "\n",
    "df[\"naechte_insgesamt\"].fillna(df[\"aufenthalt\"], inplace=True)\n",
    "\n",
    "print(f\"\\n{df.naechte_insgesamt.apply(type).value_counts()}\\n\")\n",
    "df.naechte_insgesamt = df.naechte_insgesamt.astype(\"int64\")\n",
    "\n",
    "rows = df.query('naechte_insgesamt > 22 or naechte_insgesamt == 0')\n",
    "print(f\"\\n{len(rows)} rows with 0 or more than 22 nights in total dropped\")\n",
    "df.drop(rows.index, inplace=True)"
   ]
  },
  {
   "cell_type": "markdown",
   "metadata": {},
   "source": [
    "#### Nights out of hotel (naechte_ausserhalb)\n",
    "naechte_insgesamt - gebuchte_naechte"
   ]
  },
  {
   "cell_type": "code",
   "execution_count": 12,
   "metadata": {
    "ExecuteTime": {
     "end_time": "2020-08-02T21:11:39.846213Z",
     "start_time": "2020-08-02T21:11:39.751468Z"
    }
   },
   "outputs": [
    {
     "name": "stdout",
     "output_type": "stream",
     "text": [
      "0     154498\n",
      "1       3987\n",
      "2        899\n",
      "3        548\n",
      "4        105\n",
      "7         79\n",
      "5         58\n",
      "6         24\n",
      "10        16\n",
      "9         13\n",
      "14         9\n",
      "8          8\n",
      "11         8\n",
      "12         3\n",
      "13         2\n",
      "15         1\n",
      "16         1\n",
      "Name: naechte_ausserhalb, dtype: int64\n",
      "\n",
      "0 nights out of hotel smaller 0 dropped.\n"
     ]
    }
   ],
   "source": [
    "df[\"naechte_ausserhalb\"] = df.naechte_insgesamt - df.gebuchte_naechte\n",
    "print(f\"{df.naechte_ausserhalb.value_counts(dropna=False)}\")\n",
    "rows = df.query(\"naechte_ausserhalb < 0\")\n",
    "print(f\"\\n{len(rows)} nights out of hotel smaller 0 dropped.\")\n",
    "df.drop(rows.index, inplace=True)"
   ]
  },
  {
   "cell_type": "code",
   "execution_count": 13,
   "metadata": {
    "ExecuteTime": {
     "end_time": "2020-08-02T21:11:39.894085Z",
     "start_time": "2020-08-02T21:11:39.847211Z"
    }
   },
   "outputs": [
    {
     "name": "stdout",
     "output_type": "stream",
     "text": [
      "\n",
      "0 naechte_ausserhalb smaller 0 dropped.\n"
     ]
    }
   ],
   "source": [
    "rows = df.query(\"naechte_ausserhalb < 0\")\n",
    "print(f\"\\n{len(rows)} naechte_ausserhalb smaller 0 dropped.\")\n",
    "df.drop(rows.index, inplace=True)"
   ]
  },
  {
   "cell_type": "markdown",
   "metadata": {},
   "source": [
    "#### Amount of bookings (anz_buch)"
   ]
  },
  {
   "cell_type": "code",
   "execution_count": null,
   "metadata": {},
   "outputs": [],
   "source": []
  },
  {
   "cell_type": "markdown",
   "metadata": {},
   "source": [
    "#### Lead time (Buchungsvorlauf)\n",
    "how long in advance do the client book their room(s)?"
   ]
  },
  {
   "cell_type": "code",
   "execution_count": 14,
   "metadata": {
    "ExecuteTime": {
     "end_time": "2020-08-02T21:11:39.910043Z",
     "start_time": "2020-08-02T21:11:39.895082Z"
    }
   },
   "outputs": [
    {
     "data": {
      "text/plain": [
       "74    858\n",
       "60    844\n",
       "66    833\n",
       "68    833\n",
       "61    815\n",
       "Name: buchungs_vorlauf, dtype: int64"
      ]
     },
     "execution_count": 14,
     "metadata": {},
     "output_type": "execute_result"
    }
   ],
   "source": [
    "df[\"buchungs_vorlauf\"] = (df.anreisedatum - df.buchungsdatum).astype('timedelta64[D]').astype('int64')\n",
    "df.buchungs_vorlauf.value_counts().head()"
   ]
  },
  {
   "cell_type": "markdown",
   "metadata": {},
   "source": [
    "#### ADR (average daily rate)\n",
    "based on all bookings for a day for one property divided by booked rooms"
   ]
  },
  {
   "cell_type": "code",
   "execution_count": 15,
   "metadata": {
    "ExecuteTime": {
     "end_time": "2020-08-02T21:11:39.926000Z",
     "start_time": "2020-08-02T21:11:39.911040Z"
    }
   },
   "outputs": [],
   "source": [
    "# ändern\n",
    "# zweites df mit jedem tag als reihe, spalte pro destination\n",
    "# muss ich eventuell df jede buchung aufsplitten auf jeden einzelnen tag?"
   ]
  },
  {
   "cell_type": "markdown",
   "metadata": {},
   "source": [
    "#### Price per Person"
   ]
  },
  {
   "cell_type": "code",
   "execution_count": 16,
   "metadata": {
    "ExecuteTime": {
     "end_time": "2020-08-02T21:11:39.957915Z",
     "start_time": "2020-08-02T21:11:39.926998Z"
    }
   },
   "outputs": [],
   "source": [
    "df[\"preis_per\"] = round(df.gesamtpreis / df.personen_anzahl,2)"
   ]
  },
  {
   "cell_type": "markdown",
   "metadata": {},
   "source": [
    "#### Price per day (for the booking)"
   ]
  },
  {
   "cell_type": "code",
   "execution_count": 17,
   "metadata": {
    "ExecuteTime": {
     "end_time": "2020-08-02T21:11:39.973872Z",
     "start_time": "2020-08-02T21:11:39.958912Z"
    }
   },
   "outputs": [],
   "source": [
    "df[\"preis_nacht\"] = round(df.gesamtpreis / df.gebuchte_naechte,2)"
   ]
  },
  {
   "cell_type": "markdown",
   "metadata": {},
   "source": [
    "#### Price per Day per person  (for the booking)"
   ]
  },
  {
   "cell_type": "code",
   "execution_count": 18,
   "metadata": {
    "ExecuteTime": {
     "end_time": "2020-08-02T21:11:40.005786Z",
     "start_time": "2020-08-02T21:11:39.974870Z"
    }
   },
   "outputs": [],
   "source": [
    "df[\"preis_nacht_per\"] = round(df.preis_nacht / df.personen_anzahl,2)"
   ]
  },
  {
   "cell_type": "markdown",
   "metadata": {},
   "source": [
    "#### Row correspondant to the booking number\n",
    "(Rows not rooms, since we got could have two rows for a double bed room booking as well as for two single bed room booking)"
   ]
  },
  {
   "cell_type": "code",
   "execution_count": 19,
   "metadata": {
    "ExecuteTime": {
     "end_time": "2020-08-02T21:11:40.083578Z",
     "start_time": "2020-08-02T21:11:40.006784Z"
    }
   },
   "outputs": [
    {
     "data": {
      "text/html": [
       "<div>\n",
       "<style scoped>\n",
       "    .dataframe tbody tr th:only-of-type {\n",
       "        vertical-align: middle;\n",
       "    }\n",
       "\n",
       "    .dataframe tbody tr th {\n",
       "        vertical-align: top;\n",
       "    }\n",
       "\n",
       "    .dataframe thead th {\n",
       "        text-align: right;\n",
       "    }\n",
       "</style>\n",
       "<table border=\"1\" class=\"dataframe\">\n",
       "  <thead>\n",
       "    <tr style=\"text-align: right;\">\n",
       "      <th></th>\n",
       "      <th>buchungsnr</th>\n",
       "      <th>buch_zeilen</th>\n",
       "      <th>personen_anzahl</th>\n",
       "    </tr>\n",
       "  </thead>\n",
       "  <tbody>\n",
       "    <tr>\n",
       "      <th>67341</th>\n",
       "      <td>1</td>\n",
       "      <td>2</td>\n",
       "      <td>2</td>\n",
       "    </tr>\n",
       "    <tr>\n",
       "      <th>11487</th>\n",
       "      <td>1</td>\n",
       "      <td>2</td>\n",
       "      <td>2</td>\n",
       "    </tr>\n",
       "    <tr>\n",
       "      <th>10158</th>\n",
       "      <td>3</td>\n",
       "      <td>2</td>\n",
       "      <td>2</td>\n",
       "    </tr>\n",
       "    <tr>\n",
       "      <th>118740</th>\n",
       "      <td>3</td>\n",
       "      <td>2</td>\n",
       "      <td>2</td>\n",
       "    </tr>\n",
       "    <tr>\n",
       "      <th>53856</th>\n",
       "      <td>4</td>\n",
       "      <td>2</td>\n",
       "      <td>2</td>\n",
       "    </tr>\n",
       "    <tr>\n",
       "      <th>60714</th>\n",
       "      <td>4</td>\n",
       "      <td>2</td>\n",
       "      <td>2</td>\n",
       "    </tr>\n",
       "    <tr>\n",
       "      <th>105426</th>\n",
       "      <td>5</td>\n",
       "      <td>3</td>\n",
       "      <td>11</td>\n",
       "    </tr>\n",
       "    <tr>\n",
       "      <th>136357</th>\n",
       "      <td>5</td>\n",
       "      <td>3</td>\n",
       "      <td>11</td>\n",
       "    </tr>\n",
       "    <tr>\n",
       "      <th>142836</th>\n",
       "      <td>5</td>\n",
       "      <td>3</td>\n",
       "      <td>11</td>\n",
       "    </tr>\n",
       "    <tr>\n",
       "      <th>5387</th>\n",
       "      <td>7</td>\n",
       "      <td>2</td>\n",
       "      <td>2</td>\n",
       "    </tr>\n",
       "  </tbody>\n",
       "</table>\n",
       "</div>"
      ],
      "text/plain": [
       "        buchungsnr  buch_zeilen  personen_anzahl\n",
       "67341            1            2                2\n",
       "11487            1            2                2\n",
       "10158            3            2                2\n",
       "118740           3            2                2\n",
       "53856            4            2                2\n",
       "60714            4            2                2\n",
       "105426           5            3               11\n",
       "136357           5            3               11\n",
       "142836           5            3               11\n",
       "5387             7            2                2"
      ]
     },
     "execution_count": 19,
     "metadata": {},
     "output_type": "execute_result"
    }
   ],
   "source": [
    "tmp = df[\"buchungsnr\"].value_counts().to_frame()\n",
    "df[\"buch_zeilen\"] = df[\"buchungsnr\"].map(tmp.set_index(tmp.index)[\"buchungsnr\"])\n",
    "df[[\"buchungsnr\", \"buch_zeilen\", \"personen_anzahl\"]].sort_values(by=[\"buchungsnr\"]).head(10)"
   ]
  },
  {
   "cell_type": "markdown",
   "metadata": {},
   "source": [
    "check if the rows are corresponding to the amount of guests"
   ]
  },
  {
   "cell_type": "code",
   "execution_count": 20,
   "metadata": {
    "ExecuteTime": {
     "end_time": "2020-08-02T21:11:40.474534Z",
     "start_time": "2020-08-02T21:11:40.084576Z"
    }
   },
   "outputs": [
    {
     "name": "stdout",
     "output_type": "stream",
     "text": [
      " 0     83358\n",
      "-1     56111\n",
      "-2     10888\n",
      "-3      4299\n",
      "-4      1971\n",
      "-5      1007\n",
      "-6       595\n",
      "-7       400\n",
      "-8       267\n",
      "-9       239\n",
      "-10      186\n",
      "-24       93\n",
      "-11       89\n",
      "-14       88\n",
      "-21       86\n",
      "-13       85\n",
      "-27       84\n",
      "-17       82\n",
      "-15       70\n",
      "-12       62\n",
      "-18       50\n",
      "-25       21\n",
      "-28       15\n",
      "-30       14\n",
      "-54       12\n",
      "-22       11\n",
      "-23       11\n",
      "-51       10\n",
      "-20       10\n",
      "-32        9\n",
      "-52        8\n",
      "-43        7\n",
      "-34        6\n",
      "-45        5\n",
      "-56        5\n",
      "-31        4\n",
      "-35        1\n",
      "Name: Diff, dtype: int64\n",
      "\n",
      "76901 rows with negative difference.\n",
      "This corresponds to 47.99 percent\n"
     ]
    },
    {
     "data": {
      "image/png": "[encoded data removed]",
      "text/plain": [
       "<Figure size 1440x360 with 1 Axes>"
      ]
     },
     "metadata": {
      "needs_background": "light"
     },
     "output_type": "display_data"
    }
   ],
   "source": [
    "df[\"Diff\"] = df.buch_zeilen - df.personen_anzahl\n",
    "print(f\"{df['Diff'].value_counts(dropna=False)}\")\n",
    "\n",
    "print(f\"\\n{df.query('Diff < 0').count()[0]} rows with negative difference.\")\n",
    "print(f\"This corresponds to {round(df.query('Diff < 0').count()[0]/df.shape[0]*100,2)} percent\")\n",
    "# should drop all rows with difference between those to columns\n",
    "\n",
    "plt.figure(figsize=(20,5))\n",
    "sns.distplot(df.Diff);"
   ]
  },
  {
   "cell_type": "code",
   "execution_count": 21,
   "metadata": {
    "ExecuteTime": {
     "end_time": "2020-08-02T21:11:40.586235Z",
     "start_time": "2020-08-02T21:11:40.475532Z"
    }
   },
   "outputs": [
    {
     "name": "stdout",
     "output_type": "stream",
     "text": [
      "\n",
      "37201 rows with negative difference für destination Linz.\n",
      "\n",
      "30658 rows with negative difference für destination Duesseldorf.\n",
      "\n",
      "7283 rows with negative difference für destination Saint Etienne.\n",
      "\n",
      "1419 rows with negative difference für destination Chalons-Sur-Marne.\n",
      "\n",
      "340 rows with negative difference für destination Viana do Castelo.\n"
     ]
    }
   ],
   "source": [
    "res = df.query(\"Diff < 0 and destination == 'linz'\")\n",
    "print(f\"\\n{len(res)} rows with negative difference für destination Linz.\")\n",
    "\n",
    "res = df.query(\"Diff < 0 and destination == 'duesseldorf'\")\n",
    "print(f\"\\n{len(res)} rows with negative difference für destination Duesseldorf.\")\n",
    "\n",
    "res = df.query(\"Diff < 0 and destination == 'saint etienne'\")\n",
    "print(f\"\\n{len(res)} rows with negative difference für destination Saint Etienne.\")\n",
    "\n",
    "res = df.query(\"Diff < 0 and destination == 'chalons-sur-marne'\")\n",
    "print(f\"\\n{len(res)} rows with negative difference für destination Chalons-Sur-Marne.\")\n",
    "\n",
    "res = df.query(\"Diff < 0 and destination == 'viana do castelo'\")\n",
    "print(f\"\\n{len(res)} rows with negative difference für destination Viana do Castelo.\")\n",
    "\n",
    "df.drop(\"Diff\", axis=1, inplace=True)"
   ]
  },
  {
   "cell_type": "markdown",
   "metadata": {},
   "source": [
    "#### Initial booking\n",
    "first booking by each client id"
   ]
  },
  {
   "cell_type": "code",
   "execution_count": 22,
   "metadata": {
    "ExecuteTime": {
     "end_time": "2020-08-02T21:11:53.355130Z",
     "start_time": "2020-08-02T21:11:40.587233Z"
    }
   },
   "outputs": [
    {
     "data": {
      "text/plain": [
       "1.0    129462\n",
       "0.0     30797\n",
       "Name: erst_buchung, dtype: int64"
      ]
     },
     "execution_count": 22,
     "metadata": {},
     "output_type": "execute_result"
    }
   ],
   "source": [
    "df.loc[df.groupby(['kunden_id'])['buchungsdatum'].idxmin(),'erst_buchung'] = 1\n",
    "df.erst_buchung.fillna(0, inplace=True) \n",
    "df.erst_buchung.value_counts()"
   ]
  },
  {
   "cell_type": "markdown",
   "metadata": {},
   "source": [
    "#### Follow-up booking (folgebuchung)"
   ]
  },
  {
   "cell_type": "code",
   "execution_count": 23,
   "metadata": {
    "ExecuteTime": {
     "end_time": "2020-08-02T21:12:07.230364Z",
     "start_time": "2020-08-02T21:11:53.358115Z"
    }
   },
   "outputs": [
    {
     "data": {
      "text/plain": [
       "0.0    129462\n",
       "1.0     30797\n",
       "Name: folgebuchung, dtype: int64"
      ]
     },
     "execution_count": 23,
     "metadata": {},
     "output_type": "execute_result"
    }
   ],
   "source": [
    "df.loc[df.groupby(['kunden_id'])['buchungsdatum'].idxmin(),'folgebuchung'] = 0\n",
    "df.folgebuchung.fillna(1, inplace=True) \n",
    "df.folgebuchung.value_counts()"
   ]
  },
  {
   "cell_type": "markdown",
   "metadata": {},
   "source": [
    "#### Repeater\n",
    "guests who have more than one booking (flagged at every booking)"
   ]
  },
  {
   "cell_type": "code",
   "execution_count": 24,
   "metadata": {
    "ExecuteTime": {
     "end_time": "2020-08-02T21:12:07.246322Z",
     "start_time": "2020-08-02T21:12:07.232359Z"
    }
   },
   "outputs": [
    {
     "data": {
      "text/plain": [
       "False    110712\n",
       "True      49547\n",
       "Name: repeater, dtype: int64"
      ]
     },
     "execution_count": 24,
     "metadata": {},
     "output_type": "execute_result"
    }
   ],
   "source": [
    "df['repeater'] = df['kunden_id'].duplicated(keep=False)\n",
    "df.repeater.value_counts(dropna=False)"
   ]
  },
  {
   "cell_type": "code",
   "execution_count": 25,
   "metadata": {
    "ExecuteTime": {
     "end_time": "2020-08-02T21:12:07.292706Z",
     "start_time": "2020-08-02T21:12:07.247320Z"
    }
   },
   "outputs": [
    {
     "data": {
      "text/html": [
       "<div>\n",
       "<style scoped>\n",
       "    .dataframe tbody tr th:only-of-type {\n",
       "        vertical-align: middle;\n",
       "    }\n",
       "\n",
       "    .dataframe tbody tr th {\n",
       "        vertical-align: top;\n",
       "    }\n",
       "\n",
       "    .dataframe thead th {\n",
       "        text-align: right;\n",
       "    }\n",
       "</style>\n",
       "<table border=\"1\" class=\"dataframe\">\n",
       "  <thead>\n",
       "    <tr style=\"text-align: right;\">\n",
       "      <th></th>\n",
       "      <th>buchungsdatum</th>\n",
       "      <th>anreisedatum</th>\n",
       "      <th>abreisedatum</th>\n",
       "      <th>naechte_insgesamt</th>\n",
       "      <th>gebuchte_naechte</th>\n",
       "      <th>personen_anzahl</th>\n",
       "      <th>gesamtpreis</th>\n",
       "      <th>saison</th>\n",
       "      <th>buchung_telefon</th>\n",
       "      <th>buchung_online</th>\n",
       "      <th>buchung_reisebuero</th>\n",
       "      <th>zimmerarten</th>\n",
       "      <th>reise_adventure</th>\n",
       "      <th>reise_relax</th>\n",
       "      <th>reise_standard</th>\n",
       "      <th>reise_genuss</th>\n",
       "      <th>kind</th>\n",
       "      <th>entfernung</th>\n",
       "      <th>zahler</th>\n",
       "      <th>kunden_id</th>\n",
       "      <th>buchungsnr</th>\n",
       "      <th>buchungsnr_reisebuero</th>\n",
       "      <th>menue_code</th>\n",
       "      <th>zusatzleistung</th>\n",
       "      <th>destination</th>\n",
       "      <th>anrede</th>\n",
       "      <th>plz</th>\n",
       "      <th>ort</th>\n",
       "      <th>kein_email_ad</th>\n",
       "      <th>kein_brief_ad</th>\n",
       "      <th>kein_anruf_ad</th>\n",
       "      <th>kein_katalog_ad</th>\n",
       "      <th>kein_sms_ad</th>\n",
       "      <th>keine_werbung</th>\n",
       "      <th>kundenclub</th>\n",
       "      <th>sprache_deutsch</th>\n",
       "      <th>jahrgangsalter_klassiert</th>\n",
       "      <th>bundesland</th>\n",
       "      <th>einwohner_adjusted_plz</th>\n",
       "      <th>bev_m_plz</th>\n",
       "      <th>bev_w_plz</th>\n",
       "      <th>bev_insgesamt_ort</th>\n",
       "      <th>bev_weiblich_ort</th>\n",
       "      <th>bev_maennlich_ort</th>\n",
       "      <th>qkm_plz</th>\n",
       "      <th>flaeche_ort</th>\n",
       "      <th>einwohnerdichte_prokm2_plz</th>\n",
       "      <th>haushalte_regiog_2017_plz</th>\n",
       "      <th>kaufkraft_einwohner_in_eur_regio</th>\n",
       "      <th>kk_einwohner_index_regiog_2017</th>\n",
       "      <th>kk_hh_index_regiog_2017</th>\n",
       "      <th>gemeindetyp_regiostar_2016</th>\n",
       "      <th>wirtschaftskraftmr1</th>\n",
       "      <th>wirtschaftskraftmr2</th>\n",
       "      <th>wochentag_buchung</th>\n",
       "      <th>buchungstag</th>\n",
       "      <th>buchungsmonat</th>\n",
       "      <th>buchungsjahr</th>\n",
       "      <th>buchungswoche</th>\n",
       "      <th>buchungsquartal</th>\n",
       "      <th>wochentag_anreise</th>\n",
       "      <th>anreisetag</th>\n",
       "      <th>anreisemonat</th>\n",
       "      <th>anreisejahr</th>\n",
       "      <th>anreisewoche</th>\n",
       "      <th>anreisequartal</th>\n",
       "      <th>wochentag_abreise</th>\n",
       "      <th>abreisetag</th>\n",
       "      <th>abreisemonat</th>\n",
       "      <th>abreisejahr</th>\n",
       "      <th>abreisewoche</th>\n",
       "      <th>abreisequartal</th>\n",
       "      <th>buchungskanal</th>\n",
       "      <th>werbeban</th>\n",
       "      <th>aufenthalt</th>\n",
       "      <th>naechte_ausserhalb</th>\n",
       "      <th>buchungs_vorlauf</th>\n",
       "      <th>preis_per</th>\n",
       "      <th>preis_nacht</th>\n",
       "      <th>preis_nacht_per</th>\n",
       "      <th>buch_zeilen</th>\n",
       "      <th>erst_buchung</th>\n",
       "      <th>folgebuchung</th>\n",
       "      <th>repeater</th>\n",
       "    </tr>\n",
       "  </thead>\n",
       "  <tbody>\n",
       "    <tr>\n",
       "      <th>0</th>\n",
       "      <td>2010-01-29</td>\n",
       "      <td>2010-04-02</td>\n",
       "      <td>2010-04-10</td>\n",
       "      <td>8</td>\n",
       "      <td>8</td>\n",
       "      <td>2</td>\n",
       "      <td>2982</td>\n",
       "      <td>2010</td>\n",
       "      <td>0</td>\n",
       "      <td>0</td>\n",
       "      <td>1</td>\n",
       "      <td>classic</td>\n",
       "      <td>0</td>\n",
       "      <td>0</td>\n",
       "      <td>0</td>\n",
       "      <td>1</td>\n",
       "      <td>0</td>\n",
       "      <td>535.48</td>\n",
       "      <td>1</td>\n",
       "      <td>1</td>\n",
       "      <td>1151</td>\n",
       "      <td>456</td>\n",
       "      <td>5</td>\n",
       "      <td>5</td>\n",
       "      <td>linz</td>\n",
       "      <td>Herr</td>\n",
       "      <td>29664</td>\n",
       "      <td>Walsrode</td>\n",
       "      <td>0</td>\n",
       "      <td>0</td>\n",
       "      <td>0</td>\n",
       "      <td>0</td>\n",
       "      <td>0</td>\n",
       "      <td>0</td>\n",
       "      <td>0</td>\n",
       "      <td>1</td>\n",
       "      <td>55-64</td>\n",
       "      <td>Niedersachsen</td>\n",
       "      <td>25173</td>\n",
       "      <td>12540</td>\n",
       "      <td>12633</td>\n",
       "      <td>25173</td>\n",
       "      <td>11577</td>\n",
       "      <td>11491</td>\n",
       "      <td>344.326464</td>\n",
       "      <td>344.326464</td>\n",
       "      <td>73.108</td>\n",
       "      <td>11453</td>\n",
       "      <td>20641.89</td>\n",
       "      <td>92.819</td>\n",
       "      <td>98.104</td>\n",
       "      <td>Landregion - Zentrale Stadt</td>\n",
       "      <td>-0.333392</td>\n",
       "      <td>-0.388738</td>\n",
       "      <td>4</td>\n",
       "      <td>29</td>\n",
       "      <td>1</td>\n",
       "      <td>2010</td>\n",
       "      <td>4</td>\n",
       "      <td>1</td>\n",
       "      <td>4</td>\n",
       "      <td>2</td>\n",
       "      <td>4</td>\n",
       "      <td>2010</td>\n",
       "      <td>13</td>\n",
       "      <td>2</td>\n",
       "      <td>5</td>\n",
       "      <td>10</td>\n",
       "      <td>4</td>\n",
       "      <td>2010</td>\n",
       "      <td>14</td>\n",
       "      <td>2</td>\n",
       "      <td>reisebuero</td>\n",
       "      <td></td>\n",
       "      <td>8</td>\n",
       "      <td>0</td>\n",
       "      <td>63</td>\n",
       "      <td>1491.00</td>\n",
       "      <td>372.75</td>\n",
       "      <td>186.38</td>\n",
       "      <td>2</td>\n",
       "      <td>1.0</td>\n",
       "      <td>0.0</td>\n",
       "      <td>False</td>\n",
       "    </tr>\n",
       "    <tr>\n",
       "      <th>1</th>\n",
       "      <td>2010-01-14</td>\n",
       "      <td>2010-04-05</td>\n",
       "      <td>2010-04-10</td>\n",
       "      <td>5</td>\n",
       "      <td>5</td>\n",
       "      <td>2</td>\n",
       "      <td>1437</td>\n",
       "      <td>2010</td>\n",
       "      <td>0</td>\n",
       "      <td>0</td>\n",
       "      <td>1</td>\n",
       "      <td>classic</td>\n",
       "      <td>0</td>\n",
       "      <td>0</td>\n",
       "      <td>1</td>\n",
       "      <td>0</td>\n",
       "      <td>0</td>\n",
       "      <td>544.72</td>\n",
       "      <td>0</td>\n",
       "      <td>2</td>\n",
       "      <td>40</td>\n",
       "      <td>6413</td>\n",
       "      <td>5</td>\n",
       "      <td>5</td>\n",
       "      <td>linz</td>\n",
       "      <td>Frau</td>\n",
       "      <td>50226</td>\n",
       "      <td>Frechen</td>\n",
       "      <td>1</td>\n",
       "      <td>1</td>\n",
       "      <td>1</td>\n",
       "      <td>1</td>\n",
       "      <td>1</td>\n",
       "      <td>1</td>\n",
       "      <td>0</td>\n",
       "      <td>1</td>\n",
       "      <td>55-64</td>\n",
       "      <td>Nordrhein-Westfalen</td>\n",
       "      <td>52473</td>\n",
       "      <td>25645</td>\n",
       "      <td>26828</td>\n",
       "      <td>52473</td>\n",
       "      <td>26828</td>\n",
       "      <td>25645</td>\n",
       "      <td>45.118960</td>\n",
       "      <td>45.118960</td>\n",
       "      <td>1162.992</td>\n",
       "      <td>26227</td>\n",
       "      <td>25268.58</td>\n",
       "      <td>113.623</td>\n",
       "      <td>111.379</td>\n",
       "      <td>Landregion - Zentrale Stadt</td>\n",
       "      <td>0.853802</td>\n",
       "      <td>-0.345112</td>\n",
       "      <td>3</td>\n",
       "      <td>14</td>\n",
       "      <td>1</td>\n",
       "      <td>2010</td>\n",
       "      <td>2</td>\n",
       "      <td>1</td>\n",
       "      <td>0</td>\n",
       "      <td>5</td>\n",
       "      <td>4</td>\n",
       "      <td>2010</td>\n",
       "      <td>14</td>\n",
       "      <td>2</td>\n",
       "      <td>5</td>\n",
       "      <td>10</td>\n",
       "      <td>4</td>\n",
       "      <td>2010</td>\n",
       "      <td>14</td>\n",
       "      <td>2</td>\n",
       "      <td>reisebuero</td>\n",
       "      <td>email, brief, anruf, katalog, sms, generell</td>\n",
       "      <td>5</td>\n",
       "      <td>0</td>\n",
       "      <td>81</td>\n",
       "      <td>718.50</td>\n",
       "      <td>287.40</td>\n",
       "      <td>143.70</td>\n",
       "      <td>2</td>\n",
       "      <td>1.0</td>\n",
       "      <td>0.0</td>\n",
       "      <td>False</td>\n",
       "    </tr>\n",
       "    <tr>\n",
       "      <th>2</th>\n",
       "      <td>2010-03-01</td>\n",
       "      <td>2010-04-05</td>\n",
       "      <td>2010-04-10</td>\n",
       "      <td>5</td>\n",
       "      <td>5</td>\n",
       "      <td>2</td>\n",
       "      <td>1737</td>\n",
       "      <td>2010</td>\n",
       "      <td>0</td>\n",
       "      <td>0</td>\n",
       "      <td>1</td>\n",
       "      <td>classic</td>\n",
       "      <td>0</td>\n",
       "      <td>0</td>\n",
       "      <td>1</td>\n",
       "      <td>0</td>\n",
       "      <td>0</td>\n",
       "      <td>606.63</td>\n",
       "      <td>0</td>\n",
       "      <td>3</td>\n",
       "      <td>2134</td>\n",
       "      <td>4322</td>\n",
       "      <td>5</td>\n",
       "      <td>5</td>\n",
       "      <td>linz</td>\n",
       "      <td>Herr</td>\n",
       "      <td>23970</td>\n",
       "      <td>Wismar</td>\n",
       "      <td>0</td>\n",
       "      <td>0</td>\n",
       "      <td>0</td>\n",
       "      <td>0</td>\n",
       "      <td>0</td>\n",
       "      <td>0</td>\n",
       "      <td>0</td>\n",
       "      <td>1</td>\n",
       "      <td>75-84</td>\n",
       "      <td>Mecklenburg-Vorpommern</td>\n",
       "      <td>1423</td>\n",
       "      <td>692</td>\n",
       "      <td>731</td>\n",
       "      <td>46442</td>\n",
       "      <td>21844</td>\n",
       "      <td>20706</td>\n",
       "      <td>50.563027</td>\n",
       "      <td>83.131346</td>\n",
       "      <td>17.117</td>\n",
       "      <td>6355</td>\n",
       "      <td>18697.65</td>\n",
       "      <td>84.076</td>\n",
       "      <td>73.665</td>\n",
       "      <td>Stadtregion - Kleinstädtischer, dörflicher Raum</td>\n",
       "      <td>-1.012536</td>\n",
       "      <td>-1.012536</td>\n",
       "      <td>0</td>\n",
       "      <td>1</td>\n",
       "      <td>3</td>\n",
       "      <td>2010</td>\n",
       "      <td>9</td>\n",
       "      <td>1</td>\n",
       "      <td>0</td>\n",
       "      <td>5</td>\n",
       "      <td>4</td>\n",
       "      <td>2010</td>\n",
       "      <td>14</td>\n",
       "      <td>2</td>\n",
       "      <td>5</td>\n",
       "      <td>10</td>\n",
       "      <td>4</td>\n",
       "      <td>2010</td>\n",
       "      <td>14</td>\n",
       "      <td>2</td>\n",
       "      <td>reisebuero</td>\n",
       "      <td></td>\n",
       "      <td>5</td>\n",
       "      <td>0</td>\n",
       "      <td>35</td>\n",
       "      <td>868.50</td>\n",
       "      <td>347.40</td>\n",
       "      <td>173.70</td>\n",
       "      <td>1</td>\n",
       "      <td>1.0</td>\n",
       "      <td>0.0</td>\n",
       "      <td>False</td>\n",
       "    </tr>\n",
       "    <tr>\n",
       "      <th>3</th>\n",
       "      <td>2010-01-25</td>\n",
       "      <td>2010-03-21</td>\n",
       "      <td>2010-03-25</td>\n",
       "      <td>4</td>\n",
       "      <td>4</td>\n",
       "      <td>2</td>\n",
       "      <td>1047</td>\n",
       "      <td>2010</td>\n",
       "      <td>0</td>\n",
       "      <td>0</td>\n",
       "      <td>1</td>\n",
       "      <td>classic</td>\n",
       "      <td>0</td>\n",
       "      <td>1</td>\n",
       "      <td>0</td>\n",
       "      <td>0</td>\n",
       "      <td>0</td>\n",
       "      <td>421.59</td>\n",
       "      <td>1</td>\n",
       "      <td>4</td>\n",
       "      <td>776</td>\n",
       "      <td>6414</td>\n",
       "      <td>69</td>\n",
       "      <td>9</td>\n",
       "      <td>linz</td>\n",
       "      <td>Frau</td>\n",
       "      <td>15732</td>\n",
       "      <td>Eichwalde</td>\n",
       "      <td>0</td>\n",
       "      <td>0</td>\n",
       "      <td>0</td>\n",
       "      <td>0</td>\n",
       "      <td>0</td>\n",
       "      <td>0</td>\n",
       "      <td>0</td>\n",
       "      <td>1</td>\n",
       "      <td>65-74</td>\n",
       "      <td>Brandenburg</td>\n",
       "      <td>14690</td>\n",
       "      <td>7302</td>\n",
       "      <td>7388</td>\n",
       "      <td>14690</td>\n",
       "      <td>4135</td>\n",
       "      <td>4087</td>\n",
       "      <td>11.965427</td>\n",
       "      <td>11.965427</td>\n",
       "      <td>1227.704</td>\n",
       "      <td>7159</td>\n",
       "      <td>23442.06</td>\n",
       "      <td>105.410</td>\n",
       "      <td>104.087</td>\n",
       "      <td>Landregion - Städtischer Raum</td>\n",
       "      <td>0.417226</td>\n",
       "      <td>0.417226</td>\n",
       "      <td>0</td>\n",
       "      <td>25</td>\n",
       "      <td>1</td>\n",
       "      <td>2010</td>\n",
       "      <td>4</td>\n",
       "      <td>1</td>\n",
       "      <td>6</td>\n",
       "      <td>21</td>\n",
       "      <td>3</td>\n",
       "      <td>2010</td>\n",
       "      <td>11</td>\n",
       "      <td>1</td>\n",
       "      <td>3</td>\n",
       "      <td>25</td>\n",
       "      <td>3</td>\n",
       "      <td>2010</td>\n",
       "      <td>12</td>\n",
       "      <td>1</td>\n",
       "      <td>reisebuero</td>\n",
       "      <td></td>\n",
       "      <td>4</td>\n",
       "      <td>0</td>\n",
       "      <td>55</td>\n",
       "      <td>523.50</td>\n",
       "      <td>261.75</td>\n",
       "      <td>130.88</td>\n",
       "      <td>1</td>\n",
       "      <td>1.0</td>\n",
       "      <td>0.0</td>\n",
       "      <td>False</td>\n",
       "    </tr>\n",
       "    <tr>\n",
       "      <th>4</th>\n",
       "      <td>2010-01-26</td>\n",
       "      <td>2010-03-07</td>\n",
       "      <td>2010-03-09</td>\n",
       "      <td>2</td>\n",
       "      <td>2</td>\n",
       "      <td>20</td>\n",
       "      <td>5279</td>\n",
       "      <td>2010</td>\n",
       "      <td>0</td>\n",
       "      <td>0</td>\n",
       "      <td>1</td>\n",
       "      <td>classic</td>\n",
       "      <td>1</td>\n",
       "      <td>0</td>\n",
       "      <td>0</td>\n",
       "      <td>0</td>\n",
       "      <td>0</td>\n",
       "      <td>37.88</td>\n",
       "      <td>0</td>\n",
       "      <td>5</td>\n",
       "      <td>813</td>\n",
       "      <td>2938</td>\n",
       "      <td>113</td>\n",
       "      <td>2</td>\n",
       "      <td>duesseldorf</td>\n",
       "      <td>Frau</td>\n",
       "      <td>53881</td>\n",
       "      <td>Euskirchen</td>\n",
       "      <td>0</td>\n",
       "      <td>0</td>\n",
       "      <td>0</td>\n",
       "      <td>0</td>\n",
       "      <td>0</td>\n",
       "      <td>0</td>\n",
       "      <td>1</td>\n",
       "      <td>1</td>\n",
       "      <td>45-54</td>\n",
       "      <td>Nordrhein-Westfalen</td>\n",
       "      <td>28531</td>\n",
       "      <td>13975</td>\n",
       "      <td>14556</td>\n",
       "      <td>57975</td>\n",
       "      <td>29578</td>\n",
       "      <td>28397</td>\n",
       "      <td>127.679129</td>\n",
       "      <td>139.430913</td>\n",
       "      <td>204.625</td>\n",
       "      <td>11683</td>\n",
       "      <td>23328.82</td>\n",
       "      <td>104.901</td>\n",
       "      <td>120.110</td>\n",
       "      <td>Stadtregion - Kleinstädtischer, dörflicher Raum</td>\n",
       "      <td>0.212335</td>\n",
       "      <td>-0.579173</td>\n",
       "      <td>1</td>\n",
       "      <td>26</td>\n",
       "      <td>1</td>\n",
       "      <td>2010</td>\n",
       "      <td>4</td>\n",
       "      <td>1</td>\n",
       "      <td>6</td>\n",
       "      <td>7</td>\n",
       "      <td>3</td>\n",
       "      <td>2010</td>\n",
       "      <td>9</td>\n",
       "      <td>1</td>\n",
       "      <td>1</td>\n",
       "      <td>9</td>\n",
       "      <td>3</td>\n",
       "      <td>2010</td>\n",
       "      <td>10</td>\n",
       "      <td>1</td>\n",
       "      <td>reisebuero</td>\n",
       "      <td></td>\n",
       "      <td>2</td>\n",
       "      <td>0</td>\n",
       "      <td>40</td>\n",
       "      <td>263.95</td>\n",
       "      <td>2639.50</td>\n",
       "      <td>131.98</td>\n",
       "      <td>7</td>\n",
       "      <td>1.0</td>\n",
       "      <td>0.0</td>\n",
       "      <td>True</td>\n",
       "    </tr>\n",
       "  </tbody>\n",
       "</table>\n",
       "</div>"
      ],
      "text/plain": [
       "  buchungsdatum anreisedatum abreisedatum  naechte_insgesamt  \\\n",
       "0    2010-01-29   2010-04-02   2010-04-10                  8   \n",
       "1    2010-01-14   2010-04-05   2010-04-10                  5   \n",
       "2    2010-03-01   2010-04-05   2010-04-10                  5   \n",
       "3    2010-01-25   2010-03-21   2010-03-25                  4   \n",
       "4    2010-01-26   2010-03-07   2010-03-09                  2   \n",
       "\n",
       "   gebuchte_naechte  personen_anzahl  gesamtpreis  saison  buchung_telefon  \\\n",
       "0                 8                2         2982    2010                0   \n",
       "1                 5                2         1437    2010                0   \n",
       "2                 5                2         1737    2010                0   \n",
       "3                 4                2         1047    2010                0   \n",
       "4                 2               20         5279    2010                0   \n",
       "\n",
       "   buchung_online  buchung_reisebuero zimmerarten  reise_adventure  \\\n",
       "0               0                   1     classic                0   \n",
       "1               0                   1     classic                0   \n",
       "2               0                   1     classic                0   \n",
       "3               0                   1     classic                0   \n",
       "4               0                   1     classic                1   \n",
       "\n",
       "   reise_relax  reise_standard  reise_genuss  kind  entfernung  zahler  \\\n",
       "0            0               0             1     0      535.48       1   \n",
       "1            0               1             0     0      544.72       0   \n",
       "2            0               1             0     0      606.63       0   \n",
       "3            1               0             0     0      421.59       1   \n",
       "4            0               0             0     0       37.88       0   \n",
       "\n",
       "   kunden_id  buchungsnr  buchungsnr_reisebuero  menue_code  zusatzleistung  \\\n",
       "0          1        1151                    456           5               5   \n",
       "1          2          40                   6413           5               5   \n",
       "2          3        2134                   4322           5               5   \n",
       "3          4         776                   6414          69               9   \n",
       "4          5         813                   2938         113               2   \n",
       "\n",
       "   destination anrede    plz         ort  kein_email_ad  kein_brief_ad  \\\n",
       "0         linz   Herr  29664    Walsrode              0              0   \n",
       "1         linz   Frau  50226     Frechen              1              1   \n",
       "2         linz   Herr  23970      Wismar              0              0   \n",
       "3         linz   Frau  15732   Eichwalde              0              0   \n",
       "4  duesseldorf   Frau  53881  Euskirchen              0              0   \n",
       "\n",
       "   kein_anruf_ad  kein_katalog_ad  kein_sms_ad  keine_werbung  kundenclub  \\\n",
       "0              0                0            0              0           0   \n",
       "1              1                1            1              1           0   \n",
       "2              0                0            0              0           0   \n",
       "3              0                0            0              0           0   \n",
       "4              0                0            0              0           1   \n",
       "\n",
       "   sprache_deutsch jahrgangsalter_klassiert              bundesland  \\\n",
       "0                1                    55-64           Niedersachsen   \n",
       "1                1                    55-64     Nordrhein-Westfalen   \n",
       "2                1                    75-84  Mecklenburg-Vorpommern   \n",
       "3                1                    65-74             Brandenburg   \n",
       "4                1                    45-54     Nordrhein-Westfalen   \n",
       "\n",
       "   einwohner_adjusted_plz  bev_m_plz  bev_w_plz  bev_insgesamt_ort  \\\n",
       "0                   25173      12540      12633              25173   \n",
       "1                   52473      25645      26828              52473   \n",
       "2                    1423        692        731              46442   \n",
       "3                   14690       7302       7388              14690   \n",
       "4                   28531      13975      14556              57975   \n",
       "\n",
       "   bev_weiblich_ort  bev_maennlich_ort     qkm_plz  flaeche_ort  \\\n",
       "0             11577              11491  344.326464   344.326464   \n",
       "1             26828              25645   45.118960    45.118960   \n",
       "2             21844              20706   50.563027    83.131346   \n",
       "3              4135               4087   11.965427    11.965427   \n",
       "4             29578              28397  127.679129   139.430913   \n",
       "\n",
       "   einwohnerdichte_prokm2_plz  haushalte_regiog_2017_plz  \\\n",
       "0                      73.108                      11453   \n",
       "1                    1162.992                      26227   \n",
       "2                      17.117                       6355   \n",
       "3                    1227.704                       7159   \n",
       "4                     204.625                      11683   \n",
       "\n",
       "   kaufkraft_einwohner_in_eur_regio  kk_einwohner_index_regiog_2017  \\\n",
       "0                          20641.89                          92.819   \n",
       "1                          25268.58                         113.623   \n",
       "2                          18697.65                          84.076   \n",
       "3                          23442.06                         105.410   \n",
       "4                          23328.82                         104.901   \n",
       "\n",
       "   kk_hh_index_regiog_2017                       gemeindetyp_regiostar_2016  \\\n",
       "0                   98.104                      Landregion - Zentrale Stadt   \n",
       "1                  111.379                      Landregion - Zentrale Stadt   \n",
       "2                   73.665  Stadtregion - Kleinstädtischer, dörflicher Raum   \n",
       "3                  104.087                    Landregion - Städtischer Raum   \n",
       "4                  120.110  Stadtregion - Kleinstädtischer, dörflicher Raum   \n",
       "\n",
       "   wirtschaftskraftmr1  wirtschaftskraftmr2  wochentag_buchung  buchungstag  \\\n",
       "0            -0.333392            -0.388738                  4           29   \n",
       "1             0.853802            -0.345112                  3           14   \n",
       "2            -1.012536            -1.012536                  0            1   \n",
       "3             0.417226             0.417226                  0           25   \n",
       "4             0.212335            -0.579173                  1           26   \n",
       "\n",
       "   buchungsmonat  buchungsjahr  buchungswoche  buchungsquartal  \\\n",
       "0              1          2010              4                1   \n",
       "1              1          2010              2                1   \n",
       "2              3          2010              9                1   \n",
       "3              1          2010              4                1   \n",
       "4              1          2010              4                1   \n",
       "\n",
       "   wochentag_anreise  anreisetag  anreisemonat  anreisejahr  anreisewoche  \\\n",
       "0                  4           2             4         2010            13   \n",
       "1                  0           5             4         2010            14   \n",
       "2                  0           5             4         2010            14   \n",
       "3                  6          21             3         2010            11   \n",
       "4                  6           7             3         2010             9   \n",
       "\n",
       "   anreisequartal  wochentag_abreise  abreisetag  abreisemonat  abreisejahr  \\\n",
       "0               2                  5          10             4         2010   \n",
       "1               2                  5          10             4         2010   \n",
       "2               2                  5          10             4         2010   \n",
       "3               1                  3          25             3         2010   \n",
       "4               1                  1           9             3         2010   \n",
       "\n",
       "   abreisewoche  abreisequartal buchungskanal  \\\n",
       "0            14               2    reisebuero   \n",
       "1            14               2    reisebuero   \n",
       "2            14               2    reisebuero   \n",
       "3            12               1    reisebuero   \n",
       "4            10               1    reisebuero   \n",
       "\n",
       "                                      werbeban  aufenthalt  \\\n",
       "0                                                        8   \n",
       "1  email, brief, anruf, katalog, sms, generell           5   \n",
       "2                                                        5   \n",
       "3                                                        4   \n",
       "4                                                        2   \n",
       "\n",
       "   naechte_ausserhalb  buchungs_vorlauf  preis_per  preis_nacht  \\\n",
       "0                   0                63    1491.00       372.75   \n",
       "1                   0                81     718.50       287.40   \n",
       "2                   0                35     868.50       347.40   \n",
       "3                   0                55     523.50       261.75   \n",
       "4                   0                40     263.95      2639.50   \n",
       "\n",
       "   preis_nacht_per  buch_zeilen  erst_buchung  folgebuchung  repeater  \n",
       "0           186.38            2           1.0           0.0     False  \n",
       "1           143.70            2           1.0           0.0     False  \n",
       "2           173.70            1           1.0           0.0     False  \n",
       "3           130.88            1           1.0           0.0     False  \n",
       "4           131.98            7           1.0           0.0      True  "
      ]
     },
     "execution_count": 25,
     "metadata": {},
     "output_type": "execute_result"
    }
   ],
   "source": [
    "df.head()"
   ]
  },
  {
   "cell_type": "markdown",
   "metadata": {},
   "source": [
    "# Data Exploration"
   ]
  },
  {
   "cell_type": "code",
   "execution_count": 83,
   "metadata": {
    "ExecuteTime": {
     "end_time": "2020-08-02T20:56:50.273221Z",
     "start_time": "2020-08-02T20:56:50.242304Z"
    }
   },
   "outputs": [],
   "source": [
    "col_list = [\"saison\", \"buchung_telefon\", \"buchung_online\", \"buchung_reisebuero\", \"zimmerarten\",\n",
    "            \"reise_adventure\", \"reise_relax\", \"reise_standard\", \"reise_genuss\", \"kind\", \"zahler\",\n",
    "            \"kunden_id\", \"buchungsnr\", \"buchungsnr_reisebuero\", \"menue_code\", \"zusatzleistung\",\n",
    "            \"plz\", \"kein_email_ad\", \"kein_brief_ad\", \"kein_anruf_ad\", \"kein_katalog_ad\", \"kein_sms_ad\", \n",
    "            \"keine_werbung\", \"kundenclub\", \"sprache_deutsch\", \"erst_buchung\", \"folgebuchung\"]"
   ]
  },
  {
   "cell_type": "code",
   "execution_count": 28,
   "metadata": {
    "ExecuteTime": {
     "end_time": "2020-08-02T20:48:04.038017Z",
     "start_time": "2020-08-02T20:48:03.709893Z"
    },
    "deletable": false,
    "editable": false,
    "run_control": {
     "frozen": true
    }
   },
   "outputs": [
    {
     "data": {
      "text/html": [
       "<div>\n",
       "<style scoped>\n",
       "    .dataframe tbody tr th:only-of-type {\n",
       "        vertical-align: middle;\n",
       "    }\n",
       "\n",
       "    .dataframe tbody tr th {\n",
       "        vertical-align: top;\n",
       "    }\n",
       "\n",
       "    .dataframe thead th {\n",
       "        text-align: right;\n",
       "    }\n",
       "</style>\n",
       "<table border=\"1\" class=\"dataframe\">\n",
       "  <thead>\n",
       "    <tr style=\"text-align: right;\">\n",
       "      <th></th>\n",
       "      <th>mean</th>\n",
       "      <th>std</th>\n",
       "      <th>min</th>\n",
       "      <th>25%</th>\n",
       "      <th>50%</th>\n",
       "      <th>75%</th>\n",
       "      <th>max</th>\n",
       "    </tr>\n",
       "  </thead>\n",
       "  <tbody>\n",
       "    <tr>\n",
       "      <th>naechte_insgesamt</th>\n",
       "      <td>6.08</td>\n",
       "      <td>2.24</td>\n",
       "      <td>1.00</td>\n",
       "      <td>4.00</td>\n",
       "      <td>7.00</td>\n",
       "      <td>7.00</td>\n",
       "      <td>22.00</td>\n",
       "    </tr>\n",
       "    <tr>\n",
       "      <th>gebuchte_naechte</th>\n",
       "      <td>6.02</td>\n",
       "      <td>2.17</td>\n",
       "      <td>1.00</td>\n",
       "      <td>4.00</td>\n",
       "      <td>7.00</td>\n",
       "      <td>7.00</td>\n",
       "      <td>21.00</td>\n",
       "    </tr>\n",
       "    <tr>\n",
       "      <th>personen_anzahl</th>\n",
       "      <td>3.31</td>\n",
       "      <td>4.06</td>\n",
       "      <td>1.00</td>\n",
       "      <td>2.00</td>\n",
       "      <td>2.00</td>\n",
       "      <td>4.00</td>\n",
       "      <td>77.00</td>\n",
       "    </tr>\n",
       "    <tr>\n",
       "      <th>gesamtpreis</th>\n",
       "      <td>4977.87</td>\n",
       "      <td>4228.59</td>\n",
       "      <td>120.00</td>\n",
       "      <td>2247.00</td>\n",
       "      <td>4052.00</td>\n",
       "      <td>6147.00</td>\n",
       "      <td>68686.00</td>\n",
       "    </tr>\n",
       "    <tr>\n",
       "      <th>entfernung</th>\n",
       "      <td>371.93</td>\n",
       "      <td>248.82</td>\n",
       "      <td>0.67</td>\n",
       "      <td>188.00</td>\n",
       "      <td>368.28</td>\n",
       "      <td>515.26</td>\n",
       "      <td>2140.60</td>\n",
       "    </tr>\n",
       "    <tr>\n",
       "      <th>einwohner_adjusted_plz</th>\n",
       "      <td>19196.66</td>\n",
       "      <td>11428.81</td>\n",
       "      <td>108.00</td>\n",
       "      <td>10661.00</td>\n",
       "      <td>18122.00</td>\n",
       "      <td>25598.00</td>\n",
       "      <td>65440.00</td>\n",
       "    </tr>\n",
       "    <tr>\n",
       "      <th>bev_m_plz</th>\n",
       "      <td>9420.72</td>\n",
       "      <td>5588.98</td>\n",
       "      <td>53.00</td>\n",
       "      <td>5233.00</td>\n",
       "      <td>8877.00</td>\n",
       "      <td>12548.00</td>\n",
       "      <td>32685.00</td>\n",
       "    </tr>\n",
       "    <tr>\n",
       "      <th>bev_w_plz</th>\n",
       "      <td>9775.94</td>\n",
       "      <td>5844.40</td>\n",
       "      <td>55.00</td>\n",
       "      <td>5399.00</td>\n",
       "      <td>9276.00</td>\n",
       "      <td>13074.00</td>\n",
       "      <td>32755.00</td>\n",
       "    </tr>\n",
       "    <tr>\n",
       "      <th>bev_insgesamt_ort</th>\n",
       "      <td>179590.61</td>\n",
       "      <td>368391.51</td>\n",
       "      <td>135.00</td>\n",
       "      <td>11600.00</td>\n",
       "      <td>32171.00</td>\n",
       "      <td>132366.00</td>\n",
       "      <td>1860977.00</td>\n",
       "    </tr>\n",
       "    <tr>\n",
       "      <th>bev_weiblich_ort</th>\n",
       "      <td>156890.27</td>\n",
       "      <td>375831.90</td>\n",
       "      <td>123.00</td>\n",
       "      <td>5761.00</td>\n",
       "      <td>17334.00</td>\n",
       "      <td>91910.00</td>\n",
       "      <td>1852025.00</td>\n",
       "    </tr>\n",
       "    <tr>\n",
       "      <th>bev_maennlich_ort</th>\n",
       "      <td>151040.25</td>\n",
       "      <td>362929.69</td>\n",
       "      <td>118.00</td>\n",
       "      <td>5643.00</td>\n",
       "      <td>16820.00</td>\n",
       "      <td>89665.00</td>\n",
       "      <td>1792801.00</td>\n",
       "    </tr>\n",
       "    <tr>\n",
       "      <th>qkm_plz</th>\n",
       "      <td>47.15</td>\n",
       "      <td>57.18</td>\n",
       "      <td>0.43</td>\n",
       "      <td>11.34</td>\n",
       "      <td>29.16</td>\n",
       "      <td>63.23</td>\n",
       "      <td>891.89</td>\n",
       "    </tr>\n",
       "    <tr>\n",
       "      <th>flaeche_ort</th>\n",
       "      <td>121.21</td>\n",
       "      <td>137.29</td>\n",
       "      <td>1.05</td>\n",
       "      <td>38.94</td>\n",
       "      <td>77.01</td>\n",
       "      <td>145.59</td>\n",
       "      <td>891.89</td>\n",
       "    </tr>\n",
       "    <tr>\n",
       "      <th>einwohnerdichte_prokm2_plz</th>\n",
       "      <td>383.08</td>\n",
       "      <td>662.02</td>\n",
       "      <td>2.59</td>\n",
       "      <td>95.80</td>\n",
       "      <td>192.87</td>\n",
       "      <td>403.25</td>\n",
       "      <td>14478.16</td>\n",
       "    </tr>\n",
       "    <tr>\n",
       "      <th>haushalte_regiog_2017_plz</th>\n",
       "      <td>9485.16</td>\n",
       "      <td>5575.70</td>\n",
       "      <td>132.00</td>\n",
       "      <td>5177.00</td>\n",
       "      <td>9171.00</td>\n",
       "      <td>12904.00</td>\n",
       "      <td>29701.00</td>\n",
       "    </tr>\n",
       "    <tr>\n",
       "      <th>kaufkraft_einwohner_in_eur_regio</th>\n",
       "      <td>23016.23</td>\n",
       "      <td>3539.50</td>\n",
       "      <td>10903.85</td>\n",
       "      <td>20603.68</td>\n",
       "      <td>22578.47</td>\n",
       "      <td>24830.35</td>\n",
       "      <td>51599.56</td>\n",
       "    </tr>\n",
       "    <tr>\n",
       "      <th>kk_einwohner_index_regiog_2017</th>\n",
       "      <td>103.50</td>\n",
       "      <td>15.92</td>\n",
       "      <td>49.03</td>\n",
       "      <td>92.65</td>\n",
       "      <td>101.53</td>\n",
       "      <td>111.65</td>\n",
       "      <td>232.02</td>\n",
       "    </tr>\n",
       "    <tr>\n",
       "      <th>kk_hh_index_regiog_2017</th>\n",
       "      <td>104.71</td>\n",
       "      <td>18.61</td>\n",
       "      <td>57.96</td>\n",
       "      <td>91.54</td>\n",
       "      <td>104.51</td>\n",
       "      <td>116.35</td>\n",
       "      <td>229.57</td>\n",
       "    </tr>\n",
       "    <tr>\n",
       "      <th>wirtschaftskraftmr1</th>\n",
       "      <td>0.28</td>\n",
       "      <td>0.93</td>\n",
       "      <td>-3.59</td>\n",
       "      <td>-0.33</td>\n",
       "      <td>0.21</td>\n",
       "      <td>0.80</td>\n",
       "      <td>7.65</td>\n",
       "    </tr>\n",
       "    <tr>\n",
       "      <th>wirtschaftskraftmr2</th>\n",
       "      <td>-0.18</td>\n",
       "      <td>0.92</td>\n",
       "      <td>-4.60</td>\n",
       "      <td>-0.89</td>\n",
       "      <td>-0.09</td>\n",
       "      <td>0.51</td>\n",
       "      <td>7.09</td>\n",
       "    </tr>\n",
       "    <tr>\n",
       "      <th>wochentag_buchung</th>\n",
       "      <td>2.27</td>\n",
       "      <td>1.77</td>\n",
       "      <td>0.00</td>\n",
       "      <td>1.00</td>\n",
       "      <td>2.00</td>\n",
       "      <td>4.00</td>\n",
       "      <td>6.00</td>\n",
       "    </tr>\n",
       "    <tr>\n",
       "      <th>buchungstag</th>\n",
       "      <td>15.93</td>\n",
       "      <td>8.72</td>\n",
       "      <td>1.00</td>\n",
       "      <td>8.00</td>\n",
       "      <td>16.00</td>\n",
       "      <td>23.00</td>\n",
       "      <td>31.00</td>\n",
       "    </tr>\n",
       "    <tr>\n",
       "      <th>buchungsmonat</th>\n",
       "      <td>6.73</td>\n",
       "      <td>3.53</td>\n",
       "      <td>1.00</td>\n",
       "      <td>4.00</td>\n",
       "      <td>7.00</td>\n",
       "      <td>10.00</td>\n",
       "      <td>12.00</td>\n",
       "    </tr>\n",
       "    <tr>\n",
       "      <th>buchungsjahr</th>\n",
       "      <td>2014.71</td>\n",
       "      <td>2.58</td>\n",
       "      <td>2010.00</td>\n",
       "      <td>2013.00</td>\n",
       "      <td>2015.00</td>\n",
       "      <td>2017.00</td>\n",
       "      <td>2018.00</td>\n",
       "    </tr>\n",
       "    <tr>\n",
       "      <th>buchungswoche</th>\n",
       "      <td>27.54</td>\n",
       "      <td>15.40</td>\n",
       "      <td>1.00</td>\n",
       "      <td>14.00</td>\n",
       "      <td>30.00</td>\n",
       "      <td>41.00</td>\n",
       "      <td>53.00</td>\n",
       "    </tr>\n",
       "    <tr>\n",
       "      <th>buchungsquartal</th>\n",
       "      <td>2.60</td>\n",
       "      <td>1.13</td>\n",
       "      <td>1.00</td>\n",
       "      <td>2.00</td>\n",
       "      <td>3.00</td>\n",
       "      <td>4.00</td>\n",
       "      <td>4.00</td>\n",
       "    </tr>\n",
       "    <tr>\n",
       "      <th>wochentag_anreise</th>\n",
       "      <td>3.91</td>\n",
       "      <td>1.86</td>\n",
       "      <td>0.00</td>\n",
       "      <td>3.00</td>\n",
       "      <td>5.00</td>\n",
       "      <td>5.00</td>\n",
       "      <td>6.00</td>\n",
       "    </tr>\n",
       "    <tr>\n",
       "      <th>anreisetag</th>\n",
       "      <td>16.09</td>\n",
       "      <td>8.74</td>\n",
       "      <td>1.00</td>\n",
       "      <td>9.00</td>\n",
       "      <td>16.00</td>\n",
       "      <td>23.00</td>\n",
       "      <td>31.00</td>\n",
       "    </tr>\n",
       "    <tr>\n",
       "      <th>anreisemonat</th>\n",
       "      <td>7.49</td>\n",
       "      <td>2.98</td>\n",
       "      <td>1.00</td>\n",
       "      <td>5.00</td>\n",
       "      <td>8.00</td>\n",
       "      <td>10.00</td>\n",
       "      <td>12.00</td>\n",
       "    </tr>\n",
       "    <tr>\n",
       "      <th>anreisejahr</th>\n",
       "      <td>2015.07</td>\n",
       "      <td>2.71</td>\n",
       "      <td>2010.00</td>\n",
       "      <td>2013.00</td>\n",
       "      <td>2016.00</td>\n",
       "      <td>2017.00</td>\n",
       "      <td>2021.00</td>\n",
       "    </tr>\n",
       "    <tr>\n",
       "      <th>anreisewoche</th>\n",
       "      <td>30.69</td>\n",
       "      <td>13.02</td>\n",
       "      <td>1.00</td>\n",
       "      <td>19.00</td>\n",
       "      <td>31.00</td>\n",
       "      <td>42.00</td>\n",
       "      <td>53.00</td>\n",
       "    </tr>\n",
       "    <tr>\n",
       "      <th>anreisequartal</th>\n",
       "      <td>2.81</td>\n",
       "      <td>1.00</td>\n",
       "      <td>1.00</td>\n",
       "      <td>2.00</td>\n",
       "      <td>3.00</td>\n",
       "      <td>4.00</td>\n",
       "      <td>4.00</td>\n",
       "    </tr>\n",
       "    <tr>\n",
       "      <th>wochentag_abreise</th>\n",
       "      <td>3.91</td>\n",
       "      <td>1.85</td>\n",
       "      <td>0.00</td>\n",
       "      <td>3.00</td>\n",
       "      <td>5.00</td>\n",
       "      <td>5.00</td>\n",
       "      <td>6.00</td>\n",
       "    </tr>\n",
       "    <tr>\n",
       "      <th>abreisetag</th>\n",
       "      <td>15.88</td>\n",
       "      <td>8.94</td>\n",
       "      <td>1.00</td>\n",
       "      <td>8.00</td>\n",
       "      <td>16.00</td>\n",
       "      <td>23.00</td>\n",
       "      <td>31.00</td>\n",
       "    </tr>\n",
       "    <tr>\n",
       "      <th>abreisemonat</th>\n",
       "      <td>7.45</td>\n",
       "      <td>3.04</td>\n",
       "      <td>1.00</td>\n",
       "      <td>5.00</td>\n",
       "      <td>8.00</td>\n",
       "      <td>10.00</td>\n",
       "      <td>12.00</td>\n",
       "    </tr>\n",
       "    <tr>\n",
       "      <th>abreisejahr</th>\n",
       "      <td>2015.10</td>\n",
       "      <td>2.71</td>\n",
       "      <td>2010.00</td>\n",
       "      <td>2013.00</td>\n",
       "      <td>2016.00</td>\n",
       "      <td>2017.00</td>\n",
       "      <td>2021.00</td>\n",
       "    </tr>\n",
       "    <tr>\n",
       "      <th>abreisewoche</th>\n",
       "      <td>30.54</td>\n",
       "      <td>13.31</td>\n",
       "      <td>1.00</td>\n",
       "      <td>19.00</td>\n",
       "      <td>31.00</td>\n",
       "      <td>42.00</td>\n",
       "      <td>53.00</td>\n",
       "    </tr>\n",
       "    <tr>\n",
       "      <th>abreisequartal</th>\n",
       "      <td>2.82</td>\n",
       "      <td>1.00</td>\n",
       "      <td>1.00</td>\n",
       "      <td>2.00</td>\n",
       "      <td>3.00</td>\n",
       "      <td>4.00</td>\n",
       "      <td>4.00</td>\n",
       "    </tr>\n",
       "    <tr>\n",
       "      <th>aufenthalt</th>\n",
       "      <td>6.08</td>\n",
       "      <td>2.24</td>\n",
       "      <td>1.00</td>\n",
       "      <td>4.00</td>\n",
       "      <td>7.00</td>\n",
       "      <td>7.00</td>\n",
       "      <td>22.00</td>\n",
       "    </tr>\n",
       "    <tr>\n",
       "      <th>naechte_ausserhalb</th>\n",
       "      <td>0.06</td>\n",
       "      <td>0.41</td>\n",
       "      <td>0.00</td>\n",
       "      <td>0.00</td>\n",
       "      <td>0.00</td>\n",
       "      <td>0.00</td>\n",
       "      <td>16.00</td>\n",
       "    </tr>\n",
       "    <tr>\n",
       "      <th>buchungs_vorlauf</th>\n",
       "      <td>156.55</td>\n",
       "      <td>111.20</td>\n",
       "      <td>0.00</td>\n",
       "      <td>67.00</td>\n",
       "      <td>132.00</td>\n",
       "      <td>228.00</td>\n",
       "      <td>995.00</td>\n",
       "    </tr>\n",
       "    <tr>\n",
       "      <th>preis_per</th>\n",
       "      <td>1797.67</td>\n",
       "      <td>1191.21</td>\n",
       "      <td>60.00</td>\n",
       "      <td>838.50</td>\n",
       "      <td>1536.00</td>\n",
       "      <td>2548.50</td>\n",
       "      <td>16946.00</td>\n",
       "    </tr>\n",
       "    <tr>\n",
       "      <th>preis_nacht</th>\n",
       "      <td>817.79</td>\n",
       "      <td>683.54</td>\n",
       "      <td>30.00</td>\n",
       "      <td>446.60</td>\n",
       "      <td>661.71</td>\n",
       "      <td>899.57</td>\n",
       "      <td>9812.29</td>\n",
       "    </tr>\n",
       "    <tr>\n",
       "      <th>preis_nacht_per</th>\n",
       "      <td>278.87</td>\n",
       "      <td>124.10</td>\n",
       "      <td>15.00</td>\n",
       "      <td>183.17</td>\n",
       "      <td>261.19</td>\n",
       "      <td>364.07</td>\n",
       "      <td>1829.57</td>\n",
       "    </tr>\n",
       "    <tr>\n",
       "      <th>buch_zeilen</th>\n",
       "      <td>2.47</td>\n",
       "      <td>2.57</td>\n",
       "      <td>1.00</td>\n",
       "      <td>1.00</td>\n",
       "      <td>2.00</td>\n",
       "      <td>2.00</td>\n",
       "      <td>50.00</td>\n",
       "    </tr>\n",
       "  </tbody>\n",
       "</table>\n",
       "</div>"
      ],
      "text/plain": [
       "                                       mean        std       min       25%  \\\n",
       "naechte_insgesamt                      6.08       2.24      1.00      4.00   \n",
       "gebuchte_naechte                       6.02       2.17      1.00      4.00   \n",
       "personen_anzahl                        3.31       4.06      1.00      2.00   \n",
       "gesamtpreis                         4977.87    4228.59    120.00   2247.00   \n",
       "entfernung                           371.93     248.82      0.67    188.00   \n",
       "einwohner_adjusted_plz             19196.66   11428.81    108.00  10661.00   \n",
       "bev_m_plz                           9420.72    5588.98     53.00   5233.00   \n",
       "bev_w_plz                           9775.94    5844.40     55.00   5399.00   \n",
       "bev_insgesamt_ort                 179590.61  368391.51    135.00  11600.00   \n",
       "bev_weiblich_ort                  156890.27  375831.90    123.00   5761.00   \n",
       "bev_maennlich_ort                 151040.25  362929.69    118.00   5643.00   \n",
       "qkm_plz                               47.15      57.18      0.43     11.34   \n",
       "flaeche_ort                          121.21     137.29      1.05     38.94   \n",
       "einwohnerdichte_prokm2_plz           383.08     662.02      2.59     95.80   \n",
       "haushalte_regiog_2017_plz           9485.16    5575.70    132.00   5177.00   \n",
       "kaufkraft_einwohner_in_eur_regio   23016.23    3539.50  10903.85  20603.68   \n",
       "kk_einwohner_index_regiog_2017       103.50      15.92     49.03     92.65   \n",
       "kk_hh_index_regiog_2017              104.71      18.61     57.96     91.54   \n",
       "wirtschaftskraftmr1                    0.28       0.93     -3.59     -0.33   \n",
       "wirtschaftskraftmr2                   -0.18       0.92     -4.60     -0.89   \n",
       "wochentag_buchung                      2.27       1.77      0.00      1.00   \n",
       "buchungstag                           15.93       8.72      1.00      8.00   \n",
       "buchungsmonat                          6.73       3.53      1.00      4.00   \n",
       "buchungsjahr                        2014.71       2.58   2010.00   2013.00   \n",
       "buchungswoche                         27.54      15.40      1.00     14.00   \n",
       "buchungsquartal                        2.60       1.13      1.00      2.00   \n",
       "wochentag_anreise                      3.91       1.86      0.00      3.00   \n",
       "anreisetag                            16.09       8.74      1.00      9.00   \n",
       "anreisemonat                           7.49       2.98      1.00      5.00   \n",
       "anreisejahr                         2015.07       2.71   2010.00   2013.00   \n",
       "anreisewoche                          30.69      13.02      1.00     19.00   \n",
       "anreisequartal                         2.81       1.00      1.00      2.00   \n",
       "wochentag_abreise                      3.91       1.85      0.00      3.00   \n",
       "abreisetag                            15.88       8.94      1.00      8.00   \n",
       "abreisemonat                           7.45       3.04      1.00      5.00   \n",
       "abreisejahr                         2015.10       2.71   2010.00   2013.00   \n",
       "abreisewoche                          30.54      13.31      1.00     19.00   \n",
       "abreisequartal                         2.82       1.00      1.00      2.00   \n",
       "aufenthalt                             6.08       2.24      1.00      4.00   \n",
       "naechte_ausserhalb                     0.06       0.41      0.00      0.00   \n",
       "buchungs_vorlauf                     156.55     111.20      0.00     67.00   \n",
       "preis_per                           1797.67    1191.21     60.00    838.50   \n",
       "preis_nacht                          817.79     683.54     30.00    446.60   \n",
       "preis_nacht_per                      278.87     124.10     15.00    183.17   \n",
       "buch_zeilen                            2.47       2.57      1.00      1.00   \n",
       "\n",
       "                                       50%        75%         max  \n",
       "naechte_insgesamt                     7.00       7.00       22.00  \n",
       "gebuchte_naechte                      7.00       7.00       21.00  \n",
       "personen_anzahl                       2.00       4.00       77.00  \n",
       "gesamtpreis                        4052.00    6147.00    68686.00  \n",
       "entfernung                          368.28     515.26     2140.60  \n",
       "einwohner_adjusted_plz            18122.00   25598.00    65440.00  \n",
       "bev_m_plz                          8877.00   12548.00    32685.00  \n",
       "bev_w_plz                          9276.00   13074.00    32755.00  \n",
       "bev_insgesamt_ort                 32171.00  132366.00  1860977.00  \n",
       "bev_weiblich_ort                  17334.00   91910.00  1852025.00  \n",
       "bev_maennlich_ort                 16820.00   89665.00  1792801.00  \n",
       "qkm_plz                              29.16      63.23      891.89  \n",
       "flaeche_ort                          77.01     145.59      891.89  \n",
       "einwohnerdichte_prokm2_plz          192.87     403.25    14478.16  \n",
       "haushalte_regiog_2017_plz          9171.00   12904.00    29701.00  \n",
       "kaufkraft_einwohner_in_eur_regio  22578.47   24830.35    51599.56  \n",
       "kk_einwohner_index_regiog_2017      101.53     111.65      232.02  \n",
       "kk_hh_index_regiog_2017             104.51     116.35      229.57  \n",
       "wirtschaftskraftmr1                   0.21       0.80        7.65  \n",
       "wirtschaftskraftmr2                  -0.09       0.51        7.09  \n",
       "wochentag_buchung                     2.00       4.00        6.00  \n",
       "buchungstag                          16.00      23.00       31.00  \n",
       "buchungsmonat                         7.00      10.00       12.00  \n",
       "buchungsjahr                       2015.00    2017.00     2018.00  \n",
       "buchungswoche                        30.00      41.00       53.00  \n",
       "buchungsquartal                       3.00       4.00        4.00  \n",
       "wochentag_anreise                     5.00       5.00        6.00  \n",
       "anreisetag                           16.00      23.00       31.00  \n",
       "anreisemonat                          8.00      10.00       12.00  \n",
       "anreisejahr                        2016.00    2017.00     2021.00  \n",
       "anreisewoche                         31.00      42.00       53.00  \n",
       "anreisequartal                        3.00       4.00        4.00  \n",
       "wochentag_abreise                     5.00       5.00        6.00  \n",
       "abreisetag                           16.00      23.00       31.00  \n",
       "abreisemonat                          8.00      10.00       12.00  \n",
       "abreisejahr                        2016.00    2017.00     2021.00  \n",
       "abreisewoche                         31.00      42.00       53.00  \n",
       "abreisequartal                        3.00       4.00        4.00  \n",
       "aufenthalt                            7.00       7.00       22.00  \n",
       "naechte_ausserhalb                    0.00       0.00       16.00  \n",
       "buchungs_vorlauf                    132.00     228.00      995.00  \n",
       "preis_per                          1536.00    2548.50    16946.00  \n",
       "preis_nacht                         661.71     899.57     9812.29  \n",
       "preis_nacht_per                     261.19     364.07     1829.57  \n",
       "buch_zeilen                           2.00       2.00       50.00  "
      ]
     },
     "execution_count": 28,
     "metadata": {},
     "output_type": "execute_result"
    }
   ],
   "source": [
    "#frozen cell\n",
    "statistics = round(df.describe(),2).T\n",
    "statistics.drop(\"count\", axis=1, inplace=True)\n",
    "statistics.drop(col_list, axis=0, inplace=True)\n",
    "\n",
    "pd.set_option(\"display.max_rows\", None)\n",
    "statistics"
   ]
  },
  {
   "cell_type": "code",
   "execution_count": 27,
   "metadata": {
    "ExecuteTime": {
     "end_time": "2020-08-02T20:49:17.325285Z",
     "start_time": "2020-08-02T20:49:17.310325Z"
    },
    "deletable": false,
    "editable": false,
    "run_control": {
     "frozen": true
    }
   },
   "outputs": [],
   "source": [
    "# set back to default\n",
    "pd.set_option(\"display.max_rows\", 10)"
   ]
  },
  {
   "cell_type": "markdown",
   "metadata": {},
   "source": [
    "### Data Distribution\n",
    "by sex"
   ]
  },
  {
   "cell_type": "code",
   "execution_count": 84,
   "metadata": {
    "ExecuteTime": {
     "end_time": "2020-08-02T20:56:50.432794Z",
     "start_time": "2020-08-02T20:56:50.276214Z"
    }
   },
   "outputs": [
    {
     "name": "stdout",
     "output_type": "stream",
     "text": [
      "Frau     86688\n",
      "Herr     73500\n",
      "Firma       71\n",
      "Name: anrede, dtype: int64\n"
     ]
    },
    {
     "data": {
      "image/png": "[encoded data removed]",
      "text/plain": [
       "<Figure size 720x360 with 1 Axes>"
      ]
     },
     "metadata": {
      "needs_background": "light"
     },
     "output_type": "display_data"
    }
   ],
   "source": [
    "print(df.anrede.value_counts(dropna=False))\n",
    "plt.figure(figsize=(10,5))\n",
    "ax = sns.countplot(x=\"anrede\", data=df)\n",
    "ax.set_xticklabels(labels=df.anrede.unique(), rotation=30);"
   ]
  },
  {
   "cell_type": "markdown",
   "metadata": {},
   "source": [
    "#### booking channel"
   ]
  },
  {
   "cell_type": "code",
   "execution_count": 85,
   "metadata": {
    "ExecuteTime": {
     "end_time": "2020-08-02T20:56:50.556463Z",
     "start_time": "2020-08-02T20:56:50.433792Z"
    }
   },
   "outputs": [
    {
     "data": {
      "image/png": "[encoded data removed]",
      "text/plain": [
       "<Figure size 720x360 with 1 Axes>"
      ]
     },
     "metadata": {
      "needs_background": "light"
     },
     "output_type": "display_data"
    }
   ],
   "source": [
    "plt.figure(figsize=(10,5))\n",
    "ax = sns.countplot(x=\"buchungskanal\", data=df)\n",
    "ax.set_xticklabels(labels=df.buchungskanal.unique(), rotation=30);"
   ]
  },
  {
   "cell_type": "markdown",
   "metadata": {},
   "source": [
    "#### room caterory"
   ]
  },
  {
   "cell_type": "code",
   "execution_count": 117,
   "metadata": {
    "ExecuteTime": {
     "end_time": "2020-08-02T21:03:22.989252Z",
     "start_time": "2020-08-02T21:03:22.970305Z"
    }
   },
   "outputs": [
    {
     "ename": "ValueError",
     "evalue": "Could not interpret input 'zimmerarten'",
     "output_type": "error",
     "traceback": [
      "\u001b[1;31m---------------------------------------------------------------------------\u001b[0m",
      "\u001b[1;31mValueError\u001b[0m                                Traceback (most recent call last)",
      "\u001b[1;32m<ipython-input-117-fb43e33c9410>\u001b[0m in \u001b[0;36m<module>\u001b[1;34m\u001b[0m\n\u001b[0;32m      1\u001b[0m \u001b[0mplt\u001b[0m\u001b[1;33m.\u001b[0m\u001b[0mfigure\u001b[0m\u001b[1;33m(\u001b[0m\u001b[0mfigsize\u001b[0m\u001b[1;33m=\u001b[0m\u001b[1;33m(\u001b[0m\u001b[1;36m10\u001b[0m\u001b[1;33m,\u001b[0m\u001b[1;36m5\u001b[0m\u001b[1;33m)\u001b[0m\u001b[1;33m)\u001b[0m\u001b[1;33m\u001b[0m\u001b[1;33m\u001b[0m\u001b[0m\n\u001b[1;32m----> 2\u001b[1;33m \u001b[0max\u001b[0m \u001b[1;33m=\u001b[0m \u001b[0msns\u001b[0m\u001b[1;33m.\u001b[0m\u001b[0mcountplot\u001b[0m\u001b[1;33m(\u001b[0m\u001b[0mx\u001b[0m\u001b[1;33m=\u001b[0m\u001b[1;34m\"zimmerarten\"\u001b[0m\u001b[1;33m,\u001b[0m \u001b[0mdata\u001b[0m\u001b[1;33m=\u001b[0m\u001b[0mdf\u001b[0m\u001b[1;33m)\u001b[0m\u001b[1;33m\u001b[0m\u001b[1;33m\u001b[0m\u001b[0m\n\u001b[0m\u001b[0;32m      3\u001b[0m \u001b[0max\u001b[0m\u001b[1;33m.\u001b[0m\u001b[0mset_xticklabels\u001b[0m\u001b[1;33m(\u001b[0m\u001b[0mlabels\u001b[0m\u001b[1;33m=\u001b[0m\u001b[0mdf\u001b[0m\u001b[1;33m.\u001b[0m\u001b[0mzimmerarten\u001b[0m\u001b[1;33m.\u001b[0m\u001b[0munique\u001b[0m\u001b[1;33m(\u001b[0m\u001b[1;33m)\u001b[0m\u001b[1;33m,\u001b[0m \u001b[0mrotation\u001b[0m\u001b[1;33m=\u001b[0m\u001b[1;36m30\u001b[0m\u001b[1;33m)\u001b[0m\u001b[1;33m;\u001b[0m\u001b[1;33m\u001b[0m\u001b[1;33m\u001b[0m\u001b[0m\n",
      "\u001b[1;32m~\\anaconda3\\lib\\site-packages\\seaborn\\categorical.py\u001b[0m in \u001b[0;36mcountplot\u001b[1;34m(x, y, hue, data, order, hue_order, orient, color, palette, saturation, dodge, ax, **kwargs)\u001b[0m\n\u001b[0;32m   3547\u001b[0m         \u001b[1;32mraise\u001b[0m \u001b[0mTypeError\u001b[0m\u001b[1;33m(\u001b[0m\u001b[1;34m\"Must pass values for either `x` or `y`\"\u001b[0m\u001b[1;33m)\u001b[0m\u001b[1;33m\u001b[0m\u001b[1;33m\u001b[0m\u001b[0m\n\u001b[0;32m   3548\u001b[0m \u001b[1;33m\u001b[0m\u001b[0m\n\u001b[1;32m-> 3549\u001b[1;33m     plotter = _BarPlotter(x, y, hue, data, order, hue_order,\n\u001b[0m\u001b[0;32m   3550\u001b[0m                           \u001b[0mestimator\u001b[0m\u001b[1;33m,\u001b[0m \u001b[0mci\u001b[0m\u001b[1;33m,\u001b[0m \u001b[0mn_boot\u001b[0m\u001b[1;33m,\u001b[0m \u001b[0munits\u001b[0m\u001b[1;33m,\u001b[0m \u001b[0mseed\u001b[0m\u001b[1;33m,\u001b[0m\u001b[1;33m\u001b[0m\u001b[1;33m\u001b[0m\u001b[0m\n\u001b[0;32m   3551\u001b[0m                           \u001b[0morient\u001b[0m\u001b[1;33m,\u001b[0m \u001b[0mcolor\u001b[0m\u001b[1;33m,\u001b[0m \u001b[0mpalette\u001b[0m\u001b[1;33m,\u001b[0m \u001b[0msaturation\u001b[0m\u001b[1;33m,\u001b[0m\u001b[1;33m\u001b[0m\u001b[1;33m\u001b[0m\u001b[0m\n",
      "\u001b[1;32m~\\anaconda3\\lib\\site-packages\\seaborn\\categorical.py\u001b[0m in \u001b[0;36m__init__\u001b[1;34m(self, x, y, hue, data, order, hue_order, estimator, ci, n_boot, units, seed, orient, color, palette, saturation, errcolor, errwidth, capsize, dodge)\u001b[0m\n\u001b[0;32m   1600\u001b[0m                  errwidth, capsize, dodge):\n\u001b[0;32m   1601\u001b[0m         \u001b[1;34m\"\"\"Initialize the plotter.\"\"\"\u001b[0m\u001b[1;33m\u001b[0m\u001b[1;33m\u001b[0m\u001b[0m\n\u001b[1;32m-> 1602\u001b[1;33m         self.establish_variables(x, y, hue, data, orient,\n\u001b[0m\u001b[0;32m   1603\u001b[0m                                  order, hue_order, units)\n\u001b[0;32m   1604\u001b[0m         \u001b[0mself\u001b[0m\u001b[1;33m.\u001b[0m\u001b[0mestablish_colors\u001b[0m\u001b[1;33m(\u001b[0m\u001b[0mcolor\u001b[0m\u001b[1;33m,\u001b[0m \u001b[0mpalette\u001b[0m\u001b[1;33m,\u001b[0m \u001b[0msaturation\u001b[0m\u001b[1;33m)\u001b[0m\u001b[1;33m\u001b[0m\u001b[1;33m\u001b[0m\u001b[0m\n",
      "\u001b[1;32m~\\anaconda3\\lib\\site-packages\\seaborn\\categorical.py\u001b[0m in \u001b[0;36mestablish_variables\u001b[1;34m(self, x, y, hue, data, orient, order, hue_order, units)\u001b[0m\n\u001b[0;32m    150\u001b[0m                 \u001b[1;32mif\u001b[0m \u001b[0misinstance\u001b[0m\u001b[1;33m(\u001b[0m\u001b[0mvar\u001b[0m\u001b[1;33m,\u001b[0m \u001b[0mstr\u001b[0m\u001b[1;33m)\u001b[0m\u001b[1;33m:\u001b[0m\u001b[1;33m\u001b[0m\u001b[1;33m\u001b[0m\u001b[0m\n\u001b[0;32m    151\u001b[0m                     \u001b[0merr\u001b[0m \u001b[1;33m=\u001b[0m \u001b[1;34m\"Could not interpret input '{}'\"\u001b[0m\u001b[1;33m.\u001b[0m\u001b[0mformat\u001b[0m\u001b[1;33m(\u001b[0m\u001b[0mvar\u001b[0m\u001b[1;33m)\u001b[0m\u001b[1;33m\u001b[0m\u001b[1;33m\u001b[0m\u001b[0m\n\u001b[1;32m--> 152\u001b[1;33m                     \u001b[1;32mraise\u001b[0m \u001b[0mValueError\u001b[0m\u001b[1;33m(\u001b[0m\u001b[0merr\u001b[0m\u001b[1;33m)\u001b[0m\u001b[1;33m\u001b[0m\u001b[1;33m\u001b[0m\u001b[0m\n\u001b[0m\u001b[0;32m    153\u001b[0m \u001b[1;33m\u001b[0m\u001b[0m\n\u001b[0;32m    154\u001b[0m             \u001b[1;31m# Figure out the plotting orientation\u001b[0m\u001b[1;33m\u001b[0m\u001b[1;33m\u001b[0m\u001b[1;33m\u001b[0m\u001b[0m\n",
      "\u001b[1;31mValueError\u001b[0m: Could not interpret input 'zimmerarten'"
     ]
    },
    {
     "data": {
      "text/plain": [
       "<Figure size 720x360 with 0 Axes>"
      ]
     },
     "metadata": {},
     "output_type": "display_data"
    }
   ],
   "source": [
    "plt.figure(figsize=(10,5))\n",
    "ax = sns.countplot(x=\"zimmerarten\", data=df)\n",
    "ax.set_xticklabels(labels=df.zimmerarten.unique(), rotation=30);"
   ]
  },
  {
   "cell_type": "markdown",
   "metadata": {},
   "source": [
    "#### Age groups"
   ]
  },
  {
   "cell_type": "code",
   "execution_count": 86,
   "metadata": {
    "ExecuteTime": {
     "end_time": "2020-08-02T20:56:51.884913Z",
     "start_time": "2020-08-02T20:56:50.558459Z"
    }
   },
   "outputs": [
    {
     "data": {
      "image/png": "[encoded data removed]",
      "text/plain": [
       "<Figure size 1440x360 with 1 Axes>"
      ]
     },
     "metadata": {
      "needs_background": "light"
     },
     "output_type": "display_data"
    }
   ],
   "source": [
    "plt.figure(figsize=(20,5))\n",
    "ax = sns.barplot(x=\"jahrgangsalter_klassiert\", y=\"naechte_insgesamt\", hue=\"anrede\", data=df)"
   ]
  },
  {
   "cell_type": "code",
   "execution_count": 87,
   "metadata": {
    "ExecuteTime": {
     "end_time": "2020-08-02T20:56:53.412828Z",
     "start_time": "2020-08-02T20:56:51.885910Z"
    }
   },
   "outputs": [
    {
     "name": "stdout",
     "output_type": "stream",
     "text": [
      "premium    114866\n",
      "classic     40641\n",
      "basic        4752\n",
      "Name: zimmerarten, dtype: int64\n"
     ]
    },
    {
     "data": {
      "image/png": "[encoded data removed]",
      "text/plain": [
       "<Figure size 1440x360 with 1 Axes>"
      ]
     },
     "metadata": {
      "needs_background": "light"
     },
     "output_type": "display_data"
    }
   ],
   "source": [
    "print(df.zimmerarten.value_counts())\n",
    "plt.figure(figsize=(20,5))\n",
    "ax = sns.barplot(x=\"jahrgangsalter_klassiert\", y=\"gesamtpreis\", hue=\"zimmerarten\", data=df)"
   ]
  },
  {
   "cell_type": "markdown",
   "metadata": {},
   "source": [
    "## by Destination"
   ]
  },
  {
   "cell_type": "markdown",
   "metadata": {},
   "source": [
    "#### Bookings"
   ]
  },
  {
   "cell_type": "code",
   "execution_count": 89,
   "metadata": {
    "ExecuteTime": {
     "end_time": "2020-08-02T20:56:53.841682Z",
     "start_time": "2020-08-02T20:56:53.701059Z"
    }
   },
   "outputs": [
    {
     "data": {
      "image/png": "[encoded data removed]",
      "text/plain": [
       "<Figure size 720x360 with 1 Axes>"
      ]
     },
     "metadata": {
      "needs_background": "light"
     },
     "output_type": "display_data"
    }
   ],
   "source": [
    "plt.figure(figsize=(10,5))\n",
    "ax = sns.countplot(x=\"destination\", data=df)\n",
    "ax.set_xticklabels(labels=df.destination.unique(), rotation=30);"
   ]
  },
  {
   "cell_type": "markdown",
   "metadata": {},
   "source": [
    "####  followup bookings\n",
    "in total"
   ]
  },
  {
   "cell_type": "code",
   "execution_count": 58,
   "metadata": {
    "ExecuteTime": {
     "end_time": "2020-08-02T22:08:16.150571Z",
     "start_time": "2020-08-02T22:08:15.937141Z"
    }
   },
   "outputs": [
    {
     "data": {
      "image/png": "[encoded data removed]",
      "text/plain": [
       "<Figure size 720x360 with 1 Axes>"
      ]
     },
     "metadata": {
      "needs_background": "light"
     },
     "output_type": "display_data"
    }
   ],
   "source": [
    "plt.figure(figsize=(10,5))\n",
    "ax = sns.countplot(y=\"destination\", hue=\"folgebuchung\", data=df)"
   ]
  },
  {
   "cell_type": "markdown",
   "metadata": {},
   "source": [
    "in relation"
   ]
  },
  {
   "cell_type": "code",
   "execution_count": 59,
   "metadata": {
    "ExecuteTime": {
     "end_time": "2020-08-02T22:08:27.794445Z",
     "start_time": "2020-08-02T22:08:27.503224Z"
    }
   },
   "outputs": [
    {
     "data": {
      "image/png": "[encoded data removed]",
      "text/plain": [
       "<Figure size 800.8x720 with 1 Axes>"
      ]
     },
     "metadata": {
      "needs_background": "light"
     },
     "output_type": "display_data"
    }
   ],
   "source": [
    "x,y = 'destination', 'folgebuchung'\n",
    "\n",
    "df1 = df.groupby(x)[y].value_counts(normalize=True)\n",
    "df1 = df1.mul(100)\n",
    "df1 = df1.rename('percent').reset_index()\n",
    "\n",
    "g = sns.catplot(x=x,y='percent',hue=y,kind='bar',data=df1, height=10)\n",
    "g.ax.set_ylim(0,100)\n",
    "\n",
    "for p in g.ax.patches:\n",
    "    txt = str(p.get_height().round(2)) + '%'\n",
    "    txt_x = p.get_x() \n",
    "    txt_y = p.get_height()\n",
    "    g.ax.text(txt_x,txt_y,txt)"
   ]
  },
  {
   "cell_type": "markdown",
   "metadata": {},
   "source": [
    "#### Club member\n",
    "in total"
   ]
  },
  {
   "cell_type": "code",
   "execution_count": 91,
   "metadata": {
    "ExecuteTime": {
     "end_time": "2020-08-02T20:56:54.298461Z",
     "start_time": "2020-08-02T20:56:54.064088Z"
    }
   },
   "outputs": [
    {
     "data": {
      "image/png": "[encoded data removed]",
      "text/plain": [
       "<Figure size 720x360 with 1 Axes>"
      ]
     },
     "metadata": {
      "needs_background": "light"
     },
     "output_type": "display_data"
    }
   ],
   "source": [
    "plt.figure(figsize=(10,5))\n",
    "ax = sns.countplot(y=\"destination\", hue=\"kundenclub\", data=df)"
   ]
  },
  {
   "cell_type": "markdown",
   "metadata": {},
   "source": [
    "in relation"
   ]
  },
  {
   "cell_type": "code",
   "execution_count": 92,
   "metadata": {
    "ExecuteTime": {
     "end_time": "2020-08-02T20:56:54.643539Z",
     "start_time": "2020-08-02T20:56:54.299459Z"
    }
   },
   "outputs": [
    {
     "data": {
      "image/png": "[encoded data removed]",
      "text/plain": [
       "<Figure size 790.175x720 with 1 Axes>"
      ]
     },
     "metadata": {
      "needs_background": "light"
     },
     "output_type": "display_data"
    }
   ],
   "source": [
    "x,y = 'destination', 'kundenclub'\n",
    "\n",
    "df1 = df.groupby(x)[y].value_counts(normalize=True)\n",
    "df1 = df1.mul(100)\n",
    "df1 = df1.rename('percent').reset_index()\n",
    "\n",
    "g = sns.catplot(x=x,y='percent',hue=y,kind='bar',data=df1, height=10)\n",
    "g.ax.set_ylim(0,100)\n",
    "\n",
    "for p in g.ax.patches:\n",
    "    txt = str(p.get_height().round(2)) + '%'\n",
    "    txt_x = p.get_x() \n",
    "    txt_y = p.get_height()\n",
    "    g.ax.text(txt_x,txt_y,txt)"
   ]
  },
  {
   "cell_type": "markdown",
   "metadata": {},
   "source": [
    "#### lead time"
   ]
  },
  {
   "cell_type": "code",
   "execution_count": 98,
   "metadata": {
    "ExecuteTime": {
     "end_time": "2020-08-02T20:56:55.303774Z",
     "start_time": "2020-08-02T20:56:55.129241Z"
    }
   },
   "outputs": [
    {
     "data": {
      "image/png": "[encoded data removed]",
      "text/plain": [
       "<Figure size 720x360 with 1 Axes>"
      ]
     },
     "metadata": {
      "needs_background": "light"
     },
     "output_type": "display_data"
    }
   ],
   "source": [
    "plt.figure(figsize=(10,5))\n",
    "ax = sns.boxenplot(x=\"destination\", y= \"buchungs_vorlauf\", data=df)\n",
    "ax.set(ylim=(0, 1_000));\n",
    "ax.set_xticklabels(labels=df.destination.unique(), rotation=30);"
   ]
  },
  {
   "cell_type": "markdown",
   "metadata": {},
   "source": [
    "#### length of stay"
   ]
  },
  {
   "cell_type": "code",
   "execution_count": 99,
   "metadata": {
    "ExecuteTime": {
     "end_time": "2020-08-02T20:56:55.474318Z",
     "start_time": "2020-08-02T20:56:55.304771Z"
    }
   },
   "outputs": [
    {
     "data": {
      "image/png": "[encoded data removed]",
      "text/plain": [
       "<Figure size 720x360 with 1 Axes>"
      ]
     },
     "metadata": {
      "needs_background": "light"
     },
     "output_type": "display_data"
    }
   ],
   "source": [
    "plt.figure(figsize=(10,5))\n",
    "ax = sns.boxplot(x=\"destination\", y= \"aufenthalt\", data=df)\n",
    "ax.set_xticklabels(labels=df.destination.unique(), rotation=30);"
   ]
  },
  {
   "cell_type": "markdown",
   "metadata": {},
   "source": [
    "#### total amount paid"
   ]
  },
  {
   "cell_type": "code",
   "execution_count": 100,
   "metadata": {
    "ExecuteTime": {
     "end_time": "2020-08-02T20:56:55.661832Z",
     "start_time": "2020-08-02T20:56:55.475316Z"
    }
   },
   "outputs": [
    {
     "data": {
      "image/png": "[encoded data removed]",
      "text/plain": [
       "<Figure size 720x360 with 1 Axes>"
      ]
     },
     "metadata": {
      "needs_background": "light"
     },
     "output_type": "display_data"
    }
   ],
   "source": [
    "plt.figure(figsize=(10,5))\n",
    "ax = sns.boxenplot(x=\"destination\", y= \"gesamtpreis\", data=df)\n",
    "ax.set(ylim=(0, 15_000));\n",
    "ax.set_xticklabels(labels=df.destination.unique(), rotation=30);"
   ]
  },
  {
   "cell_type": "markdown",
   "metadata": {},
   "source": [
    "#### total distance"
   ]
  },
  {
   "cell_type": "code",
   "execution_count": 101,
   "metadata": {
    "ExecuteTime": {
     "end_time": "2020-08-02T20:56:55.865273Z",
     "start_time": "2020-08-02T20:56:55.662814Z"
    }
   },
   "outputs": [
    {
     "data": {
      "image/png": "[encoded data removed]",
      "text/plain": [
       "<Figure size 720x360 with 1 Axes>"
      ]
     },
     "metadata": {
      "needs_background": "light"
     },
     "output_type": "display_data"
    }
   ],
   "source": [
    "plt.figure(figsize=(10,5))\n",
    "ax = sns.boxenplot(x=\"destination\", y= \"entfernung\", data=df)\n",
    "ax.set(ylim=(0, 2_200));\n",
    "ax.set_xticklabels(labels=df.destination.unique(), rotation=30);"
   ]
  },
  {
   "cell_type": "markdown",
   "metadata": {},
   "source": [
    "## Followup bookings"
   ]
  },
  {
   "cell_type": "markdown",
   "metadata": {},
   "source": [
    "#### Followup bookings and advertising allowance\n",
    "- Many non repeater without a ban for any advertising channel, maybe not tracked correctly?\n",
    "- Most guests chose more than one channel from which they did not want to receive advertising.\n",
    "- Even most of the repeater prefer no advertising"
   ]
  },
  {
   "cell_type": "code",
   "execution_count": 60,
   "metadata": {
    "ExecuteTime": {
     "end_time": "2020-08-02T22:08:59.890649Z",
     "start_time": "2020-08-02T22:08:59.676223Z"
    }
   },
   "outputs": [
    {
     "data": {
      "image/png": "[encoded data removed]",
      "text/plain": [
       "<Figure size 1440x720 with 1 Axes>"
      ]
     },
     "metadata": {
      "needs_background": "light"
     },
     "output_type": "display_data"
    }
   ],
   "source": [
    "plt.figure(figsize=(20,10))\n",
    "ax = sns.countplot(x=\"werbeban\", hue=\"folgebuchung\", data=df, order=df.werbeban.value_counts().iloc[1:7].index)\n",
    "ax.set_xticklabels(labels=df.werbeban.unique()[1:7], rotation=30);"
   ]
  },
  {
   "cell_type": "markdown",
   "metadata": {},
   "source": [
    "#### club member\n",
    "do they become club member or is every booking from a repeating guest flagged the same?"
   ]
  },
  {
   "cell_type": "code",
   "execution_count": 93,
   "metadata": {
    "ExecuteTime": {
     "end_time": "2020-08-02T20:56:54.705373Z",
     "start_time": "2020-08-02T20:56:54.644537Z"
    }
   },
   "outputs": [
    {
     "data": {
      "text/html": [
       "<div>\n",
       "<style scoped>\n",
       "    .dataframe tbody tr th:only-of-type {\n",
       "        vertical-align: middle;\n",
       "    }\n",
       "\n",
       "    .dataframe tbody tr th {\n",
       "        vertical-align: top;\n",
       "    }\n",
       "\n",
       "    .dataframe thead th {\n",
       "        text-align: right;\n",
       "    }\n",
       "</style>\n",
       "<table border=\"1\" class=\"dataframe\">\n",
       "  <thead>\n",
       "    <tr style=\"text-align: right;\">\n",
       "      <th></th>\n",
       "      <th>buchungsdatum</th>\n",
       "      <th>anreisedatum</th>\n",
       "      <th>abreisedatum</th>\n",
       "      <th>naechte_insgesamt</th>\n",
       "      <th>gebuchte_naechte</th>\n",
       "      <th>personen_anzahl</th>\n",
       "      <th>gesamtpreis</th>\n",
       "      <th>saison</th>\n",
       "      <th>buchung_telefon</th>\n",
       "      <th>buchung_online</th>\n",
       "      <th>buchung_reisebuero</th>\n",
       "      <th>zimmerarten</th>\n",
       "      <th>reise_adventure</th>\n",
       "      <th>reise_relax</th>\n",
       "      <th>reise_standard</th>\n",
       "      <th>reise_genuss</th>\n",
       "      <th>kind</th>\n",
       "      <th>entfernung</th>\n",
       "      <th>zahler</th>\n",
       "      <th>kunden_id</th>\n",
       "      <th>buchungsnr</th>\n",
       "      <th>buchungsnr_reisebuero</th>\n",
       "      <th>menue_code</th>\n",
       "      <th>zusatzleistung</th>\n",
       "      <th>destination</th>\n",
       "      <th>anrede</th>\n",
       "      <th>plz</th>\n",
       "      <th>ort</th>\n",
       "      <th>kein_email_ad</th>\n",
       "      <th>kein_brief_ad</th>\n",
       "      <th>kein_anruf_ad</th>\n",
       "      <th>kein_katalog_ad</th>\n",
       "      <th>kein_sms_ad</th>\n",
       "      <th>keine_werbung</th>\n",
       "      <th>kundenclub</th>\n",
       "      <th>sprache_deutsch</th>\n",
       "      <th>jahrgangsalter_klassiert</th>\n",
       "      <th>bundesland</th>\n",
       "      <th>einwohner_adjusted_plz</th>\n",
       "      <th>bev_m_plz</th>\n",
       "      <th>bev_w_plz</th>\n",
       "      <th>bev_insgesamt_ort</th>\n",
       "      <th>bev_weiblich_ort</th>\n",
       "      <th>bev_maennlich_ort</th>\n",
       "      <th>qkm_plz</th>\n",
       "      <th>flaeche_ort</th>\n",
       "      <th>einwohnerdichte_prokm2_plz</th>\n",
       "      <th>haushalte_regiog_2017_plz</th>\n",
       "      <th>kaufkraft_einwohner_in_eur_regio</th>\n",
       "      <th>kk_einwohner_index_regiog_2017</th>\n",
       "      <th>kk_hh_index_regiog_2017</th>\n",
       "      <th>gemeindetyp_regiostar_2016</th>\n",
       "      <th>wirtschaftskraftmr1</th>\n",
       "      <th>wirtschaftskraftmr2</th>\n",
       "      <th>wochentag_buchung</th>\n",
       "      <th>buchungstag</th>\n",
       "      <th>buchungsmonat</th>\n",
       "      <th>buchungsjahr</th>\n",
       "      <th>buchungswoche</th>\n",
       "      <th>buchungsquartal</th>\n",
       "      <th>wochentag_anreise</th>\n",
       "      <th>anreisetag</th>\n",
       "      <th>anreisemonat</th>\n",
       "      <th>anreisejahr</th>\n",
       "      <th>anreisewoche</th>\n",
       "      <th>anreisequartal</th>\n",
       "      <th>wochentag_abreise</th>\n",
       "      <th>abreisetag</th>\n",
       "      <th>abreisemonat</th>\n",
       "      <th>abreisejahr</th>\n",
       "      <th>abreisewoche</th>\n",
       "      <th>abreisequartal</th>\n",
       "      <th>buchungskanal</th>\n",
       "      <th>werbeban</th>\n",
       "      <th>aufenthalt</th>\n",
       "      <th>naechte_ausserhalb</th>\n",
       "      <th>buchungs_vorlauf</th>\n",
       "      <th>preis_per</th>\n",
       "      <th>preis_nacht</th>\n",
       "      <th>preis_nacht_per</th>\n",
       "      <th>buch_zeilen</th>\n",
       "      <th>erst_buchung</th>\n",
       "      <th>folgebuchung</th>\n",
       "      <th>repeater</th>\n",
       "    </tr>\n",
       "  </thead>\n",
       "  <tbody>\n",
       "    <tr>\n",
       "      <th>4</th>\n",
       "      <td>2010-01-26</td>\n",
       "      <td>2010-03-07</td>\n",
       "      <td>2010-03-09</td>\n",
       "      <td>2</td>\n",
       "      <td>2</td>\n",
       "      <td>20</td>\n",
       "      <td>5279</td>\n",
       "      <td>2010</td>\n",
       "      <td>0</td>\n",
       "      <td>0</td>\n",
       "      <td>1</td>\n",
       "      <td>classic</td>\n",
       "      <td>1</td>\n",
       "      <td>0</td>\n",
       "      <td>0</td>\n",
       "      <td>0</td>\n",
       "      <td>0</td>\n",
       "      <td>37.88</td>\n",
       "      <td>0</td>\n",
       "      <td>5</td>\n",
       "      <td>813</td>\n",
       "      <td>2938</td>\n",
       "      <td>113</td>\n",
       "      <td>2</td>\n",
       "      <td>duesseldorf</td>\n",
       "      <td>Frau</td>\n",
       "      <td>53881</td>\n",
       "      <td>Euskirchen</td>\n",
       "      <td>0</td>\n",
       "      <td>0</td>\n",
       "      <td>0</td>\n",
       "      <td>0</td>\n",
       "      <td>0</td>\n",
       "      <td>0</td>\n",
       "      <td>1</td>\n",
       "      <td>1</td>\n",
       "      <td>45-54</td>\n",
       "      <td>Nordrhein-Westfalen</td>\n",
       "      <td>28531</td>\n",
       "      <td>13975</td>\n",
       "      <td>14556</td>\n",
       "      <td>57975</td>\n",
       "      <td>29578</td>\n",
       "      <td>28397</td>\n",
       "      <td>127.679129</td>\n",
       "      <td>139.430913</td>\n",
       "      <td>204.625</td>\n",
       "      <td>11683</td>\n",
       "      <td>23328.82</td>\n",
       "      <td>104.901</td>\n",
       "      <td>120.110</td>\n",
       "      <td>Stadtregion - Kleinstädtischer, dörflicher Raum</td>\n",
       "      <td>0.212335</td>\n",
       "      <td>-0.579173</td>\n",
       "      <td>1</td>\n",
       "      <td>26</td>\n",
       "      <td>1</td>\n",
       "      <td>2010</td>\n",
       "      <td>4</td>\n",
       "      <td>1</td>\n",
       "      <td>6</td>\n",
       "      <td>7</td>\n",
       "      <td>3</td>\n",
       "      <td>2010</td>\n",
       "      <td>9</td>\n",
       "      <td>1</td>\n",
       "      <td>1</td>\n",
       "      <td>9</td>\n",
       "      <td>3</td>\n",
       "      <td>2010</td>\n",
       "      <td>10</td>\n",
       "      <td>1</td>\n",
       "      <td>reisebuero</td>\n",
       "      <td></td>\n",
       "      <td>2</td>\n",
       "      <td>0</td>\n",
       "      <td>40</td>\n",
       "      <td>263.95</td>\n",
       "      <td>2639.50</td>\n",
       "      <td>131.98</td>\n",
       "      <td>7</td>\n",
       "      <td>1.0</td>\n",
       "      <td>0.0</td>\n",
       "      <td>True</td>\n",
       "    </tr>\n",
       "    <tr>\n",
       "      <th>5</th>\n",
       "      <td>2014-10-22</td>\n",
       "      <td>2015-10-17</td>\n",
       "      <td>2015-10-22</td>\n",
       "      <td>5</td>\n",
       "      <td>5</td>\n",
       "      <td>3</td>\n",
       "      <td>1943</td>\n",
       "      <td>2015</td>\n",
       "      <td>1</td>\n",
       "      <td>0</td>\n",
       "      <td>0</td>\n",
       "      <td>premium</td>\n",
       "      <td>0</td>\n",
       "      <td>0</td>\n",
       "      <td>1</td>\n",
       "      <td>0</td>\n",
       "      <td>0</td>\n",
       "      <td>37.88</td>\n",
       "      <td>1</td>\n",
       "      <td>5</td>\n",
       "      <td>59790</td>\n",
       "      <td>8316</td>\n",
       "      <td>187</td>\n",
       "      <td>12</td>\n",
       "      <td>duesseldorf</td>\n",
       "      <td>Frau</td>\n",
       "      <td>53881</td>\n",
       "      <td>Euskirchen</td>\n",
       "      <td>0</td>\n",
       "      <td>0</td>\n",
       "      <td>0</td>\n",
       "      <td>0</td>\n",
       "      <td>0</td>\n",
       "      <td>0</td>\n",
       "      <td>1</td>\n",
       "      <td>1</td>\n",
       "      <td>45-54</td>\n",
       "      <td>Nordrhein-Westfalen</td>\n",
       "      <td>28531</td>\n",
       "      <td>13975</td>\n",
       "      <td>14556</td>\n",
       "      <td>57975</td>\n",
       "      <td>29578</td>\n",
       "      <td>28397</td>\n",
       "      <td>127.679129</td>\n",
       "      <td>139.430913</td>\n",
       "      <td>204.625</td>\n",
       "      <td>11683</td>\n",
       "      <td>23328.82</td>\n",
       "      <td>104.901</td>\n",
       "      <td>120.110</td>\n",
       "      <td>Stadtregion - Kleinstädtischer, dörflicher Raum</td>\n",
       "      <td>0.212335</td>\n",
       "      <td>-0.579173</td>\n",
       "      <td>2</td>\n",
       "      <td>22</td>\n",
       "      <td>10</td>\n",
       "      <td>2014</td>\n",
       "      <td>43</td>\n",
       "      <td>4</td>\n",
       "      <td>5</td>\n",
       "      <td>17</td>\n",
       "      <td>10</td>\n",
       "      <td>2015</td>\n",
       "      <td>42</td>\n",
       "      <td>4</td>\n",
       "      <td>3</td>\n",
       "      <td>22</td>\n",
       "      <td>10</td>\n",
       "      <td>2015</td>\n",
       "      <td>43</td>\n",
       "      <td>4</td>\n",
       "      <td>Telefon</td>\n",
       "      <td></td>\n",
       "      <td>5</td>\n",
       "      <td>0</td>\n",
       "      <td>360</td>\n",
       "      <td>647.67</td>\n",
       "      <td>388.60</td>\n",
       "      <td>129.53</td>\n",
       "      <td>2</td>\n",
       "      <td>0.0</td>\n",
       "      <td>1.0</td>\n",
       "      <td>True</td>\n",
       "    </tr>\n",
       "    <tr>\n",
       "      <th>15</th>\n",
       "      <td>2011-10-22</td>\n",
       "      <td>2011-10-30</td>\n",
       "      <td>2011-11-03</td>\n",
       "      <td>4</td>\n",
       "      <td>4</td>\n",
       "      <td>2</td>\n",
       "      <td>1107</td>\n",
       "      <td>2011</td>\n",
       "      <td>0</td>\n",
       "      <td>0</td>\n",
       "      <td>1</td>\n",
       "      <td>classic</td>\n",
       "      <td>0</td>\n",
       "      <td>1</td>\n",
       "      <td>0</td>\n",
       "      <td>0</td>\n",
       "      <td>0</td>\n",
       "      <td>255.29</td>\n",
       "      <td>0</td>\n",
       "      <td>13</td>\n",
       "      <td>20974</td>\n",
       "      <td>6614</td>\n",
       "      <td>80</td>\n",
       "      <td>12</td>\n",
       "      <td>duesseldorf</td>\n",
       "      <td>Frau</td>\n",
       "      <td>76532</td>\n",
       "      <td>Baden-Baden</td>\n",
       "      <td>0</td>\n",
       "      <td>0</td>\n",
       "      <td>0</td>\n",
       "      <td>0</td>\n",
       "      <td>0</td>\n",
       "      <td>0</td>\n",
       "      <td>0</td>\n",
       "      <td>1</td>\n",
       "      <td>55-64</td>\n",
       "      <td>Baden-Württemberg</td>\n",
       "      <td>23099</td>\n",
       "      <td>11080</td>\n",
       "      <td>12019</td>\n",
       "      <td>55123</td>\n",
       "      <td>28681</td>\n",
       "      <td>26442</td>\n",
       "      <td>37.429391</td>\n",
       "      <td>140.363257</td>\n",
       "      <td>164.566</td>\n",
       "      <td>12113</td>\n",
       "      <td>24650.22</td>\n",
       "      <td>110.843</td>\n",
       "      <td>107.984</td>\n",
       "      <td>Stadtregion - Kleinstädtischer, dörflicher Raum</td>\n",
       "      <td>0.927917</td>\n",
       "      <td>0.078171</td>\n",
       "      <td>5</td>\n",
       "      <td>22</td>\n",
       "      <td>10</td>\n",
       "      <td>2011</td>\n",
       "      <td>42</td>\n",
       "      <td>4</td>\n",
       "      <td>6</td>\n",
       "      <td>30</td>\n",
       "      <td>10</td>\n",
       "      <td>2011</td>\n",
       "      <td>43</td>\n",
       "      <td>4</td>\n",
       "      <td>3</td>\n",
       "      <td>3</td>\n",
       "      <td>11</td>\n",
       "      <td>2011</td>\n",
       "      <td>44</td>\n",
       "      <td>4</td>\n",
       "      <td>reisebuero</td>\n",
       "      <td></td>\n",
       "      <td>4</td>\n",
       "      <td>0</td>\n",
       "      <td>8</td>\n",
       "      <td>553.50</td>\n",
       "      <td>276.75</td>\n",
       "      <td>138.38</td>\n",
       "      <td>1</td>\n",
       "      <td>1.0</td>\n",
       "      <td>0.0</td>\n",
       "      <td>True</td>\n",
       "    </tr>\n",
       "    <tr>\n",
       "      <th>16</th>\n",
       "      <td>2011-11-25</td>\n",
       "      <td>2011-12-03</td>\n",
       "      <td>2011-12-07</td>\n",
       "      <td>4</td>\n",
       "      <td>4</td>\n",
       "      <td>2</td>\n",
       "      <td>987</td>\n",
       "      <td>2011</td>\n",
       "      <td>0</td>\n",
       "      <td>0</td>\n",
       "      <td>1</td>\n",
       "      <td>classic</td>\n",
       "      <td>0</td>\n",
       "      <td>1</td>\n",
       "      <td>0</td>\n",
       "      <td>0</td>\n",
       "      <td>0</td>\n",
       "      <td>389.37</td>\n",
       "      <td>0</td>\n",
       "      <td>13</td>\n",
       "      <td>22132</td>\n",
       "      <td>6614</td>\n",
       "      <td>221</td>\n",
       "      <td>5</td>\n",
       "      <td>linz</td>\n",
       "      <td>Frau</td>\n",
       "      <td>76532</td>\n",
       "      <td>Baden-Baden</td>\n",
       "      <td>0</td>\n",
       "      <td>0</td>\n",
       "      <td>0</td>\n",
       "      <td>0</td>\n",
       "      <td>0</td>\n",
       "      <td>0</td>\n",
       "      <td>0</td>\n",
       "      <td>1</td>\n",
       "      <td>55-64</td>\n",
       "      <td>Baden-Württemberg</td>\n",
       "      <td>23099</td>\n",
       "      <td>11080</td>\n",
       "      <td>12019</td>\n",
       "      <td>55123</td>\n",
       "      <td>28681</td>\n",
       "      <td>26442</td>\n",
       "      <td>37.429391</td>\n",
       "      <td>140.363257</td>\n",
       "      <td>164.566</td>\n",
       "      <td>12113</td>\n",
       "      <td>24650.22</td>\n",
       "      <td>110.843</td>\n",
       "      <td>107.984</td>\n",
       "      <td>Stadtregion - Kleinstädtischer, dörflicher Raum</td>\n",
       "      <td>0.927917</td>\n",
       "      <td>0.078171</td>\n",
       "      <td>4</td>\n",
       "      <td>25</td>\n",
       "      <td>11</td>\n",
       "      <td>2011</td>\n",
       "      <td>47</td>\n",
       "      <td>4</td>\n",
       "      <td>5</td>\n",
       "      <td>3</td>\n",
       "      <td>12</td>\n",
       "      <td>2011</td>\n",
       "      <td>48</td>\n",
       "      <td>4</td>\n",
       "      <td>2</td>\n",
       "      <td>7</td>\n",
       "      <td>12</td>\n",
       "      <td>2011</td>\n",
       "      <td>49</td>\n",
       "      <td>4</td>\n",
       "      <td>reisebuero</td>\n",
       "      <td></td>\n",
       "      <td>4</td>\n",
       "      <td>0</td>\n",
       "      <td>8</td>\n",
       "      <td>493.50</td>\n",
       "      <td>246.75</td>\n",
       "      <td>123.38</td>\n",
       "      <td>1</td>\n",
       "      <td>0.0</td>\n",
       "      <td>1.0</td>\n",
       "      <td>True</td>\n",
       "    </tr>\n",
       "    <tr>\n",
       "      <th>17</th>\n",
       "      <td>2012-12-07</td>\n",
       "      <td>2012-12-19</td>\n",
       "      <td>2012-12-23</td>\n",
       "      <td>4</td>\n",
       "      <td>4</td>\n",
       "      <td>2</td>\n",
       "      <td>897</td>\n",
       "      <td>2012</td>\n",
       "      <td>0</td>\n",
       "      <td>0</td>\n",
       "      <td>1</td>\n",
       "      <td>classic</td>\n",
       "      <td>0</td>\n",
       "      <td>1</td>\n",
       "      <td>0</td>\n",
       "      <td>0</td>\n",
       "      <td>0</td>\n",
       "      <td>389.37</td>\n",
       "      <td>0</td>\n",
       "      <td>13</td>\n",
       "      <td>31887</td>\n",
       "      <td>6614</td>\n",
       "      <td>221</td>\n",
       "      <td>5</td>\n",
       "      <td>linz</td>\n",
       "      <td>Frau</td>\n",
       "      <td>76532</td>\n",
       "      <td>Baden-Baden</td>\n",
       "      <td>0</td>\n",
       "      <td>0</td>\n",
       "      <td>0</td>\n",
       "      <td>0</td>\n",
       "      <td>0</td>\n",
       "      <td>0</td>\n",
       "      <td>0</td>\n",
       "      <td>1</td>\n",
       "      <td>55-64</td>\n",
       "      <td>Baden-Württemberg</td>\n",
       "      <td>23099</td>\n",
       "      <td>11080</td>\n",
       "      <td>12019</td>\n",
       "      <td>55123</td>\n",
       "      <td>28681</td>\n",
       "      <td>26442</td>\n",
       "      <td>37.429391</td>\n",
       "      <td>140.363257</td>\n",
       "      <td>164.566</td>\n",
       "      <td>12113</td>\n",
       "      <td>24650.22</td>\n",
       "      <td>110.843</td>\n",
       "      <td>107.984</td>\n",
       "      <td>Stadtregion - Kleinstädtischer, dörflicher Raum</td>\n",
       "      <td>0.927917</td>\n",
       "      <td>0.078171</td>\n",
       "      <td>4</td>\n",
       "      <td>7</td>\n",
       "      <td>12</td>\n",
       "      <td>2012</td>\n",
       "      <td>49</td>\n",
       "      <td>4</td>\n",
       "      <td>2</td>\n",
       "      <td>19</td>\n",
       "      <td>12</td>\n",
       "      <td>2012</td>\n",
       "      <td>51</td>\n",
       "      <td>4</td>\n",
       "      <td>6</td>\n",
       "      <td>23</td>\n",
       "      <td>12</td>\n",
       "      <td>2012</td>\n",
       "      <td>51</td>\n",
       "      <td>4</td>\n",
       "      <td>reisebuero</td>\n",
       "      <td></td>\n",
       "      <td>4</td>\n",
       "      <td>0</td>\n",
       "      <td>12</td>\n",
       "      <td>448.50</td>\n",
       "      <td>224.25</td>\n",
       "      <td>112.12</td>\n",
       "      <td>1</td>\n",
       "      <td>0.0</td>\n",
       "      <td>1.0</td>\n",
       "      <td>True</td>\n",
       "    </tr>\n",
       "  </tbody>\n",
       "</table>\n",
       "</div>"
      ],
      "text/plain": [
       "   buchungsdatum anreisedatum abreisedatum  naechte_insgesamt  \\\n",
       "4     2010-01-26   2010-03-07   2010-03-09                  2   \n",
       "5     2014-10-22   2015-10-17   2015-10-22                  5   \n",
       "15    2011-10-22   2011-10-30   2011-11-03                  4   \n",
       "16    2011-11-25   2011-12-03   2011-12-07                  4   \n",
       "17    2012-12-07   2012-12-19   2012-12-23                  4   \n",
       "\n",
       "    gebuchte_naechte  personen_anzahl  gesamtpreis  saison  buchung_telefon  \\\n",
       "4                  2               20         5279    2010                0   \n",
       "5                  5                3         1943    2015                1   \n",
       "15                 4                2         1107    2011                0   \n",
       "16                 4                2          987    2011                0   \n",
       "17                 4                2          897    2012                0   \n",
       "\n",
       "    buchung_online  buchung_reisebuero zimmerarten  reise_adventure  \\\n",
       "4                0                   1     classic                1   \n",
       "5                0                   0     premium                0   \n",
       "15               0                   1     classic                0   \n",
       "16               0                   1     classic                0   \n",
       "17               0                   1     classic                0   \n",
       "\n",
       "    reise_relax  reise_standard  reise_genuss  kind  entfernung  zahler  \\\n",
       "4             0               0             0     0       37.88       0   \n",
       "5             0               1             0     0       37.88       1   \n",
       "15            1               0             0     0      255.29       0   \n",
       "16            1               0             0     0      389.37       0   \n",
       "17            1               0             0     0      389.37       0   \n",
       "\n",
       "    kunden_id  buchungsnr  buchungsnr_reisebuero  menue_code  zusatzleistung  \\\n",
       "4           5         813                   2938         113               2   \n",
       "5           5       59790                   8316         187              12   \n",
       "15         13       20974                   6614          80              12   \n",
       "16         13       22132                   6614         221               5   \n",
       "17         13       31887                   6614         221               5   \n",
       "\n",
       "    destination anrede    plz          ort  kein_email_ad  kein_brief_ad  \\\n",
       "4   duesseldorf   Frau  53881   Euskirchen              0              0   \n",
       "5   duesseldorf   Frau  53881   Euskirchen              0              0   \n",
       "15  duesseldorf   Frau  76532  Baden-Baden              0              0   \n",
       "16         linz   Frau  76532  Baden-Baden              0              0   \n",
       "17         linz   Frau  76532  Baden-Baden              0              0   \n",
       "\n",
       "    kein_anruf_ad  kein_katalog_ad  kein_sms_ad  keine_werbung  kundenclub  \\\n",
       "4               0                0            0              0           1   \n",
       "5               0                0            0              0           1   \n",
       "15              0                0            0              0           0   \n",
       "16              0                0            0              0           0   \n",
       "17              0                0            0              0           0   \n",
       "\n",
       "    sprache_deutsch jahrgangsalter_klassiert           bundesland  \\\n",
       "4                 1                    45-54  Nordrhein-Westfalen   \n",
       "5                 1                    45-54  Nordrhein-Westfalen   \n",
       "15                1                    55-64    Baden-Württemberg   \n",
       "16                1                    55-64    Baden-Württemberg   \n",
       "17                1                    55-64    Baden-Württemberg   \n",
       "\n",
       "    einwohner_adjusted_plz  bev_m_plz  bev_w_plz  bev_insgesamt_ort  \\\n",
       "4                    28531      13975      14556              57975   \n",
       "5                    28531      13975      14556              57975   \n",
       "15                   23099      11080      12019              55123   \n",
       "16                   23099      11080      12019              55123   \n",
       "17                   23099      11080      12019              55123   \n",
       "\n",
       "    bev_weiblich_ort  bev_maennlich_ort     qkm_plz  flaeche_ort  \\\n",
       "4              29578              28397  127.679129   139.430913   \n",
       "5              29578              28397  127.679129   139.430913   \n",
       "15             28681              26442   37.429391   140.363257   \n",
       "16             28681              26442   37.429391   140.363257   \n",
       "17             28681              26442   37.429391   140.363257   \n",
       "\n",
       "    einwohnerdichte_prokm2_plz  haushalte_regiog_2017_plz  \\\n",
       "4                      204.625                      11683   \n",
       "5                      204.625                      11683   \n",
       "15                     164.566                      12113   \n",
       "16                     164.566                      12113   \n",
       "17                     164.566                      12113   \n",
       "\n",
       "    kaufkraft_einwohner_in_eur_regio  kk_einwohner_index_regiog_2017  \\\n",
       "4                           23328.82                         104.901   \n",
       "5                           23328.82                         104.901   \n",
       "15                          24650.22                         110.843   \n",
       "16                          24650.22                         110.843   \n",
       "17                          24650.22                         110.843   \n",
       "\n",
       "    kk_hh_index_regiog_2017                       gemeindetyp_regiostar_2016  \\\n",
       "4                   120.110  Stadtregion - Kleinstädtischer, dörflicher Raum   \n",
       "5                   120.110  Stadtregion - Kleinstädtischer, dörflicher Raum   \n",
       "15                  107.984  Stadtregion - Kleinstädtischer, dörflicher Raum   \n",
       "16                  107.984  Stadtregion - Kleinstädtischer, dörflicher Raum   \n",
       "17                  107.984  Stadtregion - Kleinstädtischer, dörflicher Raum   \n",
       "\n",
       "    wirtschaftskraftmr1  wirtschaftskraftmr2  wochentag_buchung  buchungstag  \\\n",
       "4              0.212335            -0.579173                  1           26   \n",
       "5              0.212335            -0.579173                  2           22   \n",
       "15             0.927917             0.078171                  5           22   \n",
       "16             0.927917             0.078171                  4           25   \n",
       "17             0.927917             0.078171                  4            7   \n",
       "\n",
       "    buchungsmonat  buchungsjahr  buchungswoche  buchungsquartal  \\\n",
       "4               1          2010              4                1   \n",
       "5              10          2014             43                4   \n",
       "15             10          2011             42                4   \n",
       "16             11          2011             47                4   \n",
       "17             12          2012             49                4   \n",
       "\n",
       "    wochentag_anreise  anreisetag  anreisemonat  anreisejahr  anreisewoche  \\\n",
       "4                   6           7             3         2010             9   \n",
       "5                   5          17            10         2015            42   \n",
       "15                  6          30            10         2011            43   \n",
       "16                  5           3            12         2011            48   \n",
       "17                  2          19            12         2012            51   \n",
       "\n",
       "    anreisequartal  wochentag_abreise  abreisetag  abreisemonat  abreisejahr  \\\n",
       "4                1                  1           9             3         2010   \n",
       "5                4                  3          22            10         2015   \n",
       "15               4                  3           3            11         2011   \n",
       "16               4                  2           7            12         2011   \n",
       "17               4                  6          23            12         2012   \n",
       "\n",
       "    abreisewoche  abreisequartal buchungskanal werbeban  aufenthalt  \\\n",
       "4             10               1    reisebuero                    2   \n",
       "5             43               4       Telefon                    5   \n",
       "15            44               4    reisebuero                    4   \n",
       "16            49               4    reisebuero                    4   \n",
       "17            51               4    reisebuero                    4   \n",
       "\n",
       "    naechte_ausserhalb  buchungs_vorlauf  preis_per  preis_nacht  \\\n",
       "4                    0                40     263.95      2639.50   \n",
       "5                    0               360     647.67       388.60   \n",
       "15                   0                 8     553.50       276.75   \n",
       "16                   0                 8     493.50       246.75   \n",
       "17                   0                12     448.50       224.25   \n",
       "\n",
       "    preis_nacht_per  buch_zeilen  erst_buchung  folgebuchung  repeater  \n",
       "4            131.98            7           1.0           0.0      True  \n",
       "5            129.53            2           0.0           1.0      True  \n",
       "15           138.38            1           1.0           0.0      True  \n",
       "16           123.38            1           0.0           1.0      True  \n",
       "17           112.12            1           0.0           1.0      True  "
      ]
     },
     "execution_count": 93,
     "metadata": {},
     "output_type": "execute_result"
    }
   ],
   "source": [
    "df.loc[df[\"repeater\"] == 1].head()"
   ]
  },
  {
   "cell_type": "markdown",
   "metadata": {},
   "source": [
    "#### club member and followup bookings\n",
    "strong predictor"
   ]
  },
  {
   "cell_type": "code",
   "execution_count": 61,
   "metadata": {
    "ExecuteTime": {
     "end_time": "2020-08-02T22:39:27.501784Z",
     "start_time": "2020-08-02T22:39:27.383102Z"
    }
   },
   "outputs": [
    {
     "data": {
      "image/png": "[encoded data removed]",
      "text/plain": [
       "<Figure size 720x360 with 1 Axes>"
      ]
     },
     "metadata": {
      "needs_background": "light"
     },
     "output_type": "display_data"
    }
   ],
   "source": [
    "plt.figure(figsize=(10,5))\n",
    "ax = sns.countplot(x=\"kundenclub\", hue=\"folgebuchung\", data=df)"
   ]
  },
  {
   "cell_type": "markdown",
   "metadata": {},
   "source": [
    "#### booking channel and followup bookings\n",
    "absolute"
   ]
  },
  {
   "cell_type": "code",
   "execution_count": 63,
   "metadata": {
    "ExecuteTime": {
     "end_time": "2020-08-02T22:43:05.593048Z",
     "start_time": "2020-08-02T22:43:05.448436Z"
    }
   },
   "outputs": [
    {
     "data": {
      "image/png": "[encoded data removed]",
      "text/plain": [
       "<Figure size 720x360 with 1 Axes>"
      ]
     },
     "metadata": {
      "needs_background": "light"
     },
     "output_type": "display_data"
    }
   ],
   "source": [
    "plt.figure(figsize=(10,5))\n",
    "ax = sns.countplot(x=\"buchungskanal\", hue=\"folgebuchung\", data=df)"
   ]
  },
  {
   "cell_type": "markdown",
   "metadata": {},
   "source": [
    "relative"
   ]
  },
  {
   "cell_type": "code",
   "execution_count": 62,
   "metadata": {
    "ExecuteTime": {
     "end_time": "2020-08-02T22:42:08.916550Z",
     "start_time": "2020-08-02T22:42:08.668213Z"
    }
   },
   "outputs": [
    {
     "data": {
      "image/png": "[encoded data removed]",
      "text/plain": [
       "<Figure size 800.8x720 with 1 Axes>"
      ]
     },
     "metadata": {
      "needs_background": "light"
     },
     "output_type": "display_data"
    }
   ],
   "source": [
    "x,y = 'buchungskanal', 'folgebuchung'\n",
    "\n",
    "df1 = df.groupby(x)[y].value_counts(normalize=True)\n",
    "df1 = df1.mul(100)\n",
    "df1 = df1.rename('percent').reset_index()\n",
    "\n",
    "g = sns.catplot(x=x,y='percent',hue=y,kind='bar',data=df1, height=10)\n",
    "g.ax.set_ylim(0,100)\n",
    "\n",
    "for p in g.ax.patches:\n",
    "    txt = str(p.get_height().round(2)) + '%'\n",
    "    txt_x = p.get_x() \n",
    "    txt_y = p.get_height()\n",
    "    g.ax.text(txt_x,txt_y,txt)"
   ]
  },
  {
   "cell_type": "markdown",
   "metadata": {},
   "source": [
    "#### repeater booking more than one location"
   ]
  },
  {
   "cell_type": "code",
   "execution_count": 97,
   "metadata": {
    "ExecuteTime": {
     "end_time": "2020-08-02T20:56:55.128243Z",
     "start_time": "2020-08-02T20:56:55.113283Z"
    }
   },
   "outputs": [],
   "source": [
    "# ändern\n",
    "# wenn kunden_id mehrfach und in rows stehen für destination verschiedene werte"
   ]
  },
  {
   "cell_type": "markdown",
   "metadata": {},
   "source": [
    "#### Season"
   ]
  },
  {
   "cell_type": "code",
   "execution_count": 102,
   "metadata": {
    "ExecuteTime": {
     "end_time": "2020-08-02T20:56:56.149019Z",
     "start_time": "2020-08-02T20:56:55.866270Z"
    }
   },
   "outputs": [
    {
     "data": {
      "image/png": "[encoded data removed]",
      "text/plain": [
       "<Figure size 720x360 with 1 Axes>"
      ]
     },
     "metadata": {
      "needs_background": "light"
     },
     "output_type": "display_data"
    }
   ],
   "source": [
    "plt.figure(figsize=(10,5))\n",
    "ax = sns.boxenplot(x=\"saison\", y= \"gesamtpreis\", data=df)\n",
    "ax.set(ylim=(0, 20_000));\n",
    "ax.set_xticklabels(labels=df.saison.unique(), rotation=30);"
   ]
  },
  {
   "cell_type": "markdown",
   "metadata": {},
   "source": [
    "#### room categories"
   ]
  },
  {
   "cell_type": "code",
   "execution_count": 103,
   "metadata": {
    "ExecuteTime": {
     "end_time": "2020-08-02T20:56:56.307597Z",
     "start_time": "2020-08-02T20:56:56.150018Z"
    }
   },
   "outputs": [
    {
     "data": {
      "image/png": "[encoded data removed]",
      "text/plain": [
       "<Figure size 720x360 with 1 Axes>"
      ]
     },
     "metadata": {
      "needs_background": "light"
     },
     "output_type": "display_data"
    }
   ],
   "source": [
    "plt.figure(figsize=(10,5))\n",
    "ax = sns.boxenplot(x=\"zimmerarten\", y= \"gesamtpreis\", data=df)\n",
    "ax.set(ylim=(0, 15_000));\n",
    "ax.set_xticklabels(labels=df.zimmerarten.unique(), rotation=30);"
   ]
  },
  {
   "cell_type": "markdown",
   "metadata": {},
   "source": [
    "#### Ort"
   ]
  },
  {
   "cell_type": "code",
   "execution_count": 104,
   "metadata": {
    "ExecuteTime": {
     "end_time": "2020-08-02T20:56:56.338514Z",
     "start_time": "2020-08-02T20:56:56.308593Z"
    }
   },
   "outputs": [
    {
     "data": {
      "text/plain": [
       "Berlin        5679\n",
       "Köln          3721\n",
       "Hamburg       3259\n",
       "München       2713\n",
       "Essen         1235\n",
       "Düsseldorf    1188\n",
       "Frankfurt     1148\n",
       "Dortmund      1127\n",
       "Hannover      1070\n",
       "Wuppertal     1033\n",
       "Name: ort, dtype: int64"
      ]
     },
     "execution_count": 104,
     "metadata": {},
     "output_type": "execute_result"
    }
   ],
   "source": [
    "df.ort.value_counts().head(10) \n",
    "#ändern je destination grafisch"
   ]
  },
  {
   "cell_type": "markdown",
   "metadata": {},
   "source": [
    "obsolete when dropping Country"
   ]
  },
  {
   "cell_type": "code",
   "execution_count": 105,
   "metadata": {
    "ExecuteTime": {
     "end_time": "2020-08-02T20:56:56.353473Z",
     "start_time": "2020-08-02T20:56:56.340509Z"
    }
   },
   "outputs": [
    {
     "data": {
      "text/plain": [
       "' \\n# continent (Kontinent)\\nwith open(\"data\\\\kontinent_dict.txt\") as f:\\n    kontinent_dict = dict(x.rstrip().split(None, 1) for x in f)\\n\\n# source: https://www.vhu-software.de/Download/Infodokumente/Laenderkennzeichen.pdf\\n\\ndf.kontinent.replace(kontinent_dict, inplace=True)\\n\\n\\n# Country\\nprint(f\"Country Distribution in percent:\\n{round(df.lkz.value_counts(normalize=True).head(5),4)*100}\")\\ndel tmp\\ntmp = df.query(\"lkz != \\'DE\\'\")[\"lkz\"].value_counts().head(15)\\nprint(f\"\\nTop 15 Countries (without Germany):\\n{tmp}\")\\n\\n# Continent (Distribution in percentage)\\nprint(round(df.kontinent.value_counts(normalize=True),4)*100)\\n\\n# Speaking German\\nprint(round(df.sprache_deutsch.value_counts(normalize=True),4)*100)\\n\\n'"
      ]
     },
     "execution_count": 105,
     "metadata": {},
     "output_type": "execute_result"
    }
   ],
   "source": [
    "''' \n",
    "# continent (Kontinent)\n",
    "with open(\"data\\kontinent_dict.txt\") as f:\n",
    "    kontinent_dict = dict(x.rstrip().split(None, 1) for x in f)\n",
    "\n",
    "# source: https://www.vhu-software.de/Download/Infodokumente/Laenderkennzeichen.pdf\n",
    "\n",
    "df.kontinent.replace(kontinent_dict, inplace=True)\n",
    "\n",
    "\n",
    "# Country\n",
    "print(f\"Country Distribution in percent:\\n{round(df.lkz.value_counts(normalize=True).head(5),4)*100}\")\n",
    "del tmp\n",
    "tmp = df.query(\"lkz != 'DE'\")[\"lkz\"].value_counts().head(15)\n",
    "print(f\"\\nTop 15 Countries (without Germany):\\n{tmp}\")\n",
    "\n",
    "# Continent (Distribution in percentage)\n",
    "print(round(df.kontinent.value_counts(normalize=True),4)*100)\n",
    "\n",
    "# Speaking German\n",
    "print(round(df.sprache_deutsch.value_counts(normalize=True),4)*100)\n",
    "\n",
    "'''"
   ]
  },
  {
   "cell_type": "markdown",
   "metadata": {},
   "source": [
    "### Outliers"
   ]
  },
  {
   "cell_type": "code",
   "execution_count": null,
   "metadata": {},
   "outputs": [],
   "source": [
    "#gesamtpreis \"personen_anzahl\", \"preis_per\", \"preis_nacht\", \"preis_nacht_per\", \"naechte_ausserhalb\","
   ]
  },
  {
   "cell_type": "markdown",
   "metadata": {},
   "source": [
    "### Histograms"
   ]
  },
  {
   "cell_type": "code",
   "execution_count": 66,
   "metadata": {
    "ExecuteTime": {
     "end_time": "2020-08-02T22:58:12.389048Z",
     "start_time": "2020-08-02T22:58:08.775253Z"
    }
   },
   "outputs": [
    {
     "data": {
      "image/png": "[encoded data removed]",
      "text/plain": [
       "<Figure size 2160x2160 with 25 Axes>"
      ]
     },
     "metadata": {
      "needs_background": "light"
     },
     "output_type": "display_data"
    }
   ],
   "source": [
    "column_list = [\"naechte_insgesamt\", \"gebuchte_naechte\", \"saison\", \"zimmerarten\", \"entfernung\", \n",
    "               \"menue_code\", \"zusatzleistung\", \"wochentag_buchung\", \"buchungsmonat\",\n",
    "               \"buchungsjahr\", \"buchungswoche\", \"buchungsquartal\",\"wochentag_anreise\", \n",
    "               \"anreisemonat\", \"anreisejahr\", \"anreisewoche\", \"anreisequartal\", \"wochentag_abreise\",\n",
    "               \"abreisemonat\", \"abreisejahr\", \"abreisewoche\", \"abreisequartal\", \"aufenthalt\", \"buchungs_vorlauf\"]\n",
    "\n",
    "tmp = df[column_list].copy()\n",
    "tmp.hist(figsize=(30,30));"
   ]
  },
  {
   "cell_type": "markdown",
   "metadata": {},
   "source": [
    "#### Conclusions:\n",
    "- main arrival and depature day is saturday, should be checked if similar for each destination\n",
    "- december seems to be high season, january very few arrivals, maybe due to long december bookings"
   ]
  },
  {
   "cell_type": "markdown",
   "metadata": {},
   "source": [
    "### Scatterplots"
   ]
  },
  {
   "cell_type": "code",
   "execution_count": 107,
   "metadata": {
    "ExecuteTime": {
     "end_time": "2020-08-02T20:57:03.652961Z",
     "start_time": "2020-08-02T20:57:00.395669Z"
    }
   },
   "outputs": [
    {
     "data": {
      "image/png": "[encoded data removed]",
      "text/plain": [
       "<Figure size 1440x360 with 1 Axes>"
      ]
     },
     "metadata": {
      "needs_background": "light"
     },
     "output_type": "display_data"
    }
   ],
   "source": [
    "plt.figure(figsize=(20,5))\n",
    "ax = sns.scatterplot(x=\"preis_nacht\", y=\"gesamtpreis\", hue=\"saison\", data=df)"
   ]
  },
  {
   "cell_type": "code",
   "execution_count": 108,
   "metadata": {
    "ExecuteTime": {
     "end_time": "2020-08-02T20:57:06.522292Z",
     "start_time": "2020-08-02T20:57:03.654956Z"
    }
   },
   "outputs": [
    {
     "data": {
      "image/png": "[encoded data removed]",
      "text/plain": [
       "<Figure size 1440x360 with 1 Axes>"
      ]
     },
     "metadata": {
      "needs_background": "light"
     },
     "output_type": "display_data"
    }
   ],
   "source": [
    "plt.figure(figsize=(20,5))\n",
    "ax = sns.scatterplot(x=\"preis_per\", y=\"gesamtpreis\", hue=\"saison\", data=df)"
   ]
  },
  {
   "cell_type": "markdown",
   "metadata": {},
   "source": [
    "### Heatmap (correlogram)"
   ]
  },
  {
   "cell_type": "code",
   "execution_count": null,
   "metadata": {},
   "outputs": [],
   "source": []
  },
  {
   "cell_type": "code",
   "execution_count": null,
   "metadata": {},
   "outputs": [],
   "source": []
  },
  {
   "cell_type": "code",
   "execution_count": null,
   "metadata": {},
   "outputs": [],
   "source": []
  },
  {
   "cell_type": "markdown",
   "metadata": {},
   "source": [
    "## Dummy Variable"
   ]
  },
  {
   "cell_type": "code",
   "execution_count": 109,
   "metadata": {
    "ExecuteTime": {
     "end_time": "2020-08-02T20:57:06.601080Z",
     "start_time": "2020-08-02T20:57:06.523289Z"
    }
   },
   "outputs": [],
   "source": [
    "#recode back to names\n",
    "room_dict = {0: \"basic\",\n",
    "             1: \"classic\",\n",
    "             2: \"premium\"\n",
    "            }\n",
    "df.zimmerarten.replace(room_dict, inplace=True)\n",
    "\n",
    "aenderung = { 0: \"Montag\",\n",
    "              1: \"Dienstag\",\n",
    "              2: \"Mittwoch\",\n",
    "              3: \"Donnerstag\",\n",
    "              4: \"Freitag\",\n",
    "              5: \"Samstag\",\n",
    "              6: \"Sonntag\"\n",
    "            }\n",
    "\n",
    "df.wochentag_buchung.replace(aenderung, inplace=True)\n",
    "df.wochentag_anreise.replace(aenderung, inplace=True)\n",
    "df.wochentag_abreise.replace(aenderung, inplace=True)"
   ]
  },
  {
   "cell_type": "code",
   "execution_count": 110,
   "metadata": {
    "ExecuteTime": {
     "end_time": "2020-08-02T20:57:06.979070Z",
     "start_time": "2020-08-02T20:57:06.602078Z"
    }
   },
   "outputs": [],
   "source": [
    "df = pd.get_dummies(df, columns=[\"zimmerarten\", \"saison\", \"destination\", \"menue_code\", \"zusatzleistung\", \"anrede\", \"wochentag_buchung\", \"wochentag_anreise\", \"wochentag_abreise\", \"buchungswoche\", \"anreisewoche\", \"abreisewoche\", \"buchungsquartal\", \"anreisequartal\", \"abreisequartal\"] )\n",
    "#, dummy_na=True , dtype=np.bool)\n",
    "# dummy_na brauche ich nur wenn ich Anrede nicht umwandel, dann für zimmerarten & destination droppen, \n",
    "# aktuell erste spalte beigehalten"
   ]
  },
  {
   "cell_type": "markdown",
   "metadata": {},
   "source": [
    "### Logistic Regression\n",
    "\n",
    "#### Train-Test-Split"
   ]
  },
  {
   "cell_type": "code",
   "execution_count": 111,
   "metadata": {
    "ExecuteTime": {
     "end_time": "2020-08-02T20:57:07.312179Z",
     "start_time": "2020-08-02T20:57:06.980068Z"
    }
   },
   "outputs": [],
   "source": [
    "column_X = list(df.columns)\n",
    "column_X.remove('buchungsdatum')\n",
    "column_X.remove('anreisedatum')\n",
    "column_X.remove('abreisedatum')\n",
    "column_X.remove('plz')\n",
    "column_X.remove('ort')\n",
    "column_X.remove('repeater')\n",
    "X = df[column_X]\n",
    "y = df.repeater\n",
    "X_train, X_test, y_train, y_test = train_test_split(X, y, test_size=0.10, random_state=1337)"
   ]
  },
  {
   "cell_type": "code",
   "execution_count": 112,
   "metadata": {
    "ExecuteTime": {
     "end_time": "2020-08-02T20:57:07.328137Z",
     "start_time": "2020-08-02T20:57:07.313178Z"
    }
   },
   "outputs": [
    {
     "name": "stdout",
     "output_type": "stream",
     "text": [
      "<class 'pandas.core.frame.DataFrame'>\n",
      "Int64Index: 160259 entries, 0 to 245129\n",
      "Columns: 490 entries, buchungsdatum to abreisequartal_4\n",
      "dtypes: bool(1), datetime64[ns](3), float64(14), int64(45), object(6), uint8(421)\n",
      "memory usage: 153.9+ MB\n"
     ]
    }
   ],
   "source": [
    "df.info()"
   ]
  },
  {
   "cell_type": "code",
   "execution_count": null,
   "metadata": {},
   "outputs": [],
   "source": []
  },
  {
   "cell_type": "markdown",
   "metadata": {},
   "source": [
    "#### Create Logistic Regression"
   ]
  },
  {
   "cell_type": "code",
   "execution_count": 113,
   "metadata": {
    "ExecuteTime": {
     "end_time": "2020-08-02T20:57:10.433835Z",
     "start_time": "2020-08-02T20:57:07.329134Z"
    }
   },
   "outputs": [
    {
     "ename": "ValueError",
     "evalue": "could not convert string to float: ''",
     "output_type": "error",
     "traceback": [
      "\u001b[1;31m---------------------------------------------------------------------------\u001b[0m",
      "\u001b[1;31mValueError\u001b[0m                                Traceback (most recent call last)",
      "\u001b[1;32m<ipython-input-113-6e62b4163cc5>\u001b[0m in \u001b[0;36m<module>\u001b[1;34m\u001b[0m\n\u001b[0;32m      1\u001b[0m \u001b[0mlogistic_regression\u001b[0m\u001b[1;33m=\u001b[0m \u001b[0mLogisticRegression\u001b[0m\u001b[1;33m(\u001b[0m\u001b[1;33m)\u001b[0m\u001b[1;33m\u001b[0m\u001b[1;33m\u001b[0m\u001b[0m\n\u001b[1;32m----> 2\u001b[1;33m \u001b[0mlogistic_regression\u001b[0m\u001b[1;33m.\u001b[0m\u001b[0mfit\u001b[0m\u001b[1;33m(\u001b[0m\u001b[0mX_train\u001b[0m\u001b[1;33m,\u001b[0m\u001b[0my_train\u001b[0m\u001b[1;33m)\u001b[0m\u001b[1;33m\u001b[0m\u001b[1;33m\u001b[0m\u001b[0m\n\u001b[0m\u001b[0;32m      3\u001b[0m \u001b[0my_pred\u001b[0m\u001b[1;33m=\u001b[0m\u001b[0mlogistic_regression\u001b[0m\u001b[1;33m.\u001b[0m\u001b[0mpredict\u001b[0m\u001b[1;33m(\u001b[0m\u001b[0mX_test\u001b[0m\u001b[1;33m)\u001b[0m\u001b[1;33m\u001b[0m\u001b[1;33m\u001b[0m\u001b[0m\n",
      "\u001b[1;32m~\\anaconda3\\lib\\site-packages\\sklearn\\linear_model\\_logistic.py\u001b[0m in \u001b[0;36mfit\u001b[1;34m(self, X, y, sample_weight)\u001b[0m\n\u001b[0;32m   1340\u001b[0m             \u001b[0m_dtype\u001b[0m \u001b[1;33m=\u001b[0m \u001b[1;33m[\u001b[0m\u001b[0mnp\u001b[0m\u001b[1;33m.\u001b[0m\u001b[0mfloat64\u001b[0m\u001b[1;33m,\u001b[0m \u001b[0mnp\u001b[0m\u001b[1;33m.\u001b[0m\u001b[0mfloat32\u001b[0m\u001b[1;33m]\u001b[0m\u001b[1;33m\u001b[0m\u001b[1;33m\u001b[0m\u001b[0m\n\u001b[0;32m   1341\u001b[0m \u001b[1;33m\u001b[0m\u001b[0m\n\u001b[1;32m-> 1342\u001b[1;33m         X, y = self._validate_data(X, y, accept_sparse='csr', dtype=_dtype,\n\u001b[0m\u001b[0;32m   1343\u001b[0m                                    \u001b[0morder\u001b[0m\u001b[1;33m=\u001b[0m\u001b[1;34m\"C\"\u001b[0m\u001b[1;33m,\u001b[0m\u001b[1;33m\u001b[0m\u001b[1;33m\u001b[0m\u001b[0m\n\u001b[0;32m   1344\u001b[0m                                    accept_large_sparse=solver != 'liblinear')\n",
      "\u001b[1;32m~\\anaconda3\\lib\\site-packages\\sklearn\\base.py\u001b[0m in \u001b[0;36m_validate_data\u001b[1;34m(self, X, y, reset, validate_separately, **check_params)\u001b[0m\n\u001b[0;32m    430\u001b[0m                 \u001b[0my\u001b[0m \u001b[1;33m=\u001b[0m \u001b[0mcheck_array\u001b[0m\u001b[1;33m(\u001b[0m\u001b[0my\u001b[0m\u001b[1;33m,\u001b[0m \u001b[1;33m**\u001b[0m\u001b[0mcheck_y_params\u001b[0m\u001b[1;33m)\u001b[0m\u001b[1;33m\u001b[0m\u001b[1;33m\u001b[0m\u001b[0m\n\u001b[0;32m    431\u001b[0m             \u001b[1;32melse\u001b[0m\u001b[1;33m:\u001b[0m\u001b[1;33m\u001b[0m\u001b[1;33m\u001b[0m\u001b[0m\n\u001b[1;32m--> 432\u001b[1;33m                 \u001b[0mX\u001b[0m\u001b[1;33m,\u001b[0m \u001b[0my\u001b[0m \u001b[1;33m=\u001b[0m \u001b[0mcheck_X_y\u001b[0m\u001b[1;33m(\u001b[0m\u001b[0mX\u001b[0m\u001b[1;33m,\u001b[0m \u001b[0my\u001b[0m\u001b[1;33m,\u001b[0m \u001b[1;33m**\u001b[0m\u001b[0mcheck_params\u001b[0m\u001b[1;33m)\u001b[0m\u001b[1;33m\u001b[0m\u001b[1;33m\u001b[0m\u001b[0m\n\u001b[0m\u001b[0;32m    433\u001b[0m             \u001b[0mout\u001b[0m \u001b[1;33m=\u001b[0m \u001b[0mX\u001b[0m\u001b[1;33m,\u001b[0m \u001b[0my\u001b[0m\u001b[1;33m\u001b[0m\u001b[1;33m\u001b[0m\u001b[0m\n\u001b[0;32m    434\u001b[0m \u001b[1;33m\u001b[0m\u001b[0m\n",
      "\u001b[1;32m~\\anaconda3\\lib\\site-packages\\sklearn\\utils\\validation.py\u001b[0m in \u001b[0;36minner_f\u001b[1;34m(*args, **kwargs)\u001b[0m\n\u001b[0;32m     71\u001b[0m                           FutureWarning)\n\u001b[0;32m     72\u001b[0m         \u001b[0mkwargs\u001b[0m\u001b[1;33m.\u001b[0m\u001b[0mupdate\u001b[0m\u001b[1;33m(\u001b[0m\u001b[1;33m{\u001b[0m\u001b[0mk\u001b[0m\u001b[1;33m:\u001b[0m \u001b[0marg\u001b[0m \u001b[1;32mfor\u001b[0m \u001b[0mk\u001b[0m\u001b[1;33m,\u001b[0m \u001b[0marg\u001b[0m \u001b[1;32min\u001b[0m \u001b[0mzip\u001b[0m\u001b[1;33m(\u001b[0m\u001b[0msig\u001b[0m\u001b[1;33m.\u001b[0m\u001b[0mparameters\u001b[0m\u001b[1;33m,\u001b[0m \u001b[0margs\u001b[0m\u001b[1;33m)\u001b[0m\u001b[1;33m}\u001b[0m\u001b[1;33m)\u001b[0m\u001b[1;33m\u001b[0m\u001b[1;33m\u001b[0m\u001b[0m\n\u001b[1;32m---> 73\u001b[1;33m         \u001b[1;32mreturn\u001b[0m \u001b[0mf\u001b[0m\u001b[1;33m(\u001b[0m\u001b[1;33m**\u001b[0m\u001b[0mkwargs\u001b[0m\u001b[1;33m)\u001b[0m\u001b[1;33m\u001b[0m\u001b[1;33m\u001b[0m\u001b[0m\n\u001b[0m\u001b[0;32m     74\u001b[0m     \u001b[1;32mreturn\u001b[0m \u001b[0minner_f\u001b[0m\u001b[1;33m\u001b[0m\u001b[1;33m\u001b[0m\u001b[0m\n\u001b[0;32m     75\u001b[0m \u001b[1;33m\u001b[0m\u001b[0m\n",
      "\u001b[1;32m~\\anaconda3\\lib\\site-packages\\sklearn\\utils\\validation.py\u001b[0m in \u001b[0;36mcheck_X_y\u001b[1;34m(X, y, accept_sparse, accept_large_sparse, dtype, order, copy, force_all_finite, ensure_2d, allow_nd, multi_output, ensure_min_samples, ensure_min_features, y_numeric, estimator)\u001b[0m\n\u001b[0;32m    794\u001b[0m         \u001b[1;32mraise\u001b[0m \u001b[0mValueError\u001b[0m\u001b[1;33m(\u001b[0m\u001b[1;34m\"y cannot be None\"\u001b[0m\u001b[1;33m)\u001b[0m\u001b[1;33m\u001b[0m\u001b[1;33m\u001b[0m\u001b[0m\n\u001b[0;32m    795\u001b[0m \u001b[1;33m\u001b[0m\u001b[0m\n\u001b[1;32m--> 796\u001b[1;33m     X = check_array(X, accept_sparse=accept_sparse,\n\u001b[0m\u001b[0;32m    797\u001b[0m                     \u001b[0maccept_large_sparse\u001b[0m\u001b[1;33m=\u001b[0m\u001b[0maccept_large_sparse\u001b[0m\u001b[1;33m,\u001b[0m\u001b[1;33m\u001b[0m\u001b[1;33m\u001b[0m\u001b[0m\n\u001b[0;32m    798\u001b[0m                     \u001b[0mdtype\u001b[0m\u001b[1;33m=\u001b[0m\u001b[0mdtype\u001b[0m\u001b[1;33m,\u001b[0m \u001b[0morder\u001b[0m\u001b[1;33m=\u001b[0m\u001b[0morder\u001b[0m\u001b[1;33m,\u001b[0m \u001b[0mcopy\u001b[0m\u001b[1;33m=\u001b[0m\u001b[0mcopy\u001b[0m\u001b[1;33m,\u001b[0m\u001b[1;33m\u001b[0m\u001b[1;33m\u001b[0m\u001b[0m\n",
      "\u001b[1;32m~\\anaconda3\\lib\\site-packages\\sklearn\\utils\\validation.py\u001b[0m in \u001b[0;36minner_f\u001b[1;34m(*args, **kwargs)\u001b[0m\n\u001b[0;32m     71\u001b[0m                           FutureWarning)\n\u001b[0;32m     72\u001b[0m         \u001b[0mkwargs\u001b[0m\u001b[1;33m.\u001b[0m\u001b[0mupdate\u001b[0m\u001b[1;33m(\u001b[0m\u001b[1;33m{\u001b[0m\u001b[0mk\u001b[0m\u001b[1;33m:\u001b[0m \u001b[0marg\u001b[0m \u001b[1;32mfor\u001b[0m \u001b[0mk\u001b[0m\u001b[1;33m,\u001b[0m \u001b[0marg\u001b[0m \u001b[1;32min\u001b[0m \u001b[0mzip\u001b[0m\u001b[1;33m(\u001b[0m\u001b[0msig\u001b[0m\u001b[1;33m.\u001b[0m\u001b[0mparameters\u001b[0m\u001b[1;33m,\u001b[0m \u001b[0margs\u001b[0m\u001b[1;33m)\u001b[0m\u001b[1;33m}\u001b[0m\u001b[1;33m)\u001b[0m\u001b[1;33m\u001b[0m\u001b[1;33m\u001b[0m\u001b[0m\n\u001b[1;32m---> 73\u001b[1;33m         \u001b[1;32mreturn\u001b[0m \u001b[0mf\u001b[0m\u001b[1;33m(\u001b[0m\u001b[1;33m**\u001b[0m\u001b[0mkwargs\u001b[0m\u001b[1;33m)\u001b[0m\u001b[1;33m\u001b[0m\u001b[1;33m\u001b[0m\u001b[0m\n\u001b[0m\u001b[0;32m     74\u001b[0m     \u001b[1;32mreturn\u001b[0m \u001b[0minner_f\u001b[0m\u001b[1;33m\u001b[0m\u001b[1;33m\u001b[0m\u001b[0m\n\u001b[0;32m     75\u001b[0m \u001b[1;33m\u001b[0m\u001b[0m\n",
      "\u001b[1;32m~\\anaconda3\\lib\\site-packages\\sklearn\\utils\\validation.py\u001b[0m in \u001b[0;36mcheck_array\u001b[1;34m(array, accept_sparse, accept_large_sparse, dtype, order, copy, force_all_finite, ensure_2d, allow_nd, ensure_min_samples, ensure_min_features, estimator)\u001b[0m\n\u001b[0;32m    597\u001b[0m                     \u001b[0marray\u001b[0m \u001b[1;33m=\u001b[0m \u001b[0marray\u001b[0m\u001b[1;33m.\u001b[0m\u001b[0mastype\u001b[0m\u001b[1;33m(\u001b[0m\u001b[0mdtype\u001b[0m\u001b[1;33m,\u001b[0m \u001b[0mcasting\u001b[0m\u001b[1;33m=\u001b[0m\u001b[1;34m\"unsafe\"\u001b[0m\u001b[1;33m,\u001b[0m \u001b[0mcopy\u001b[0m\u001b[1;33m=\u001b[0m\u001b[1;32mFalse\u001b[0m\u001b[1;33m)\u001b[0m\u001b[1;33m\u001b[0m\u001b[1;33m\u001b[0m\u001b[0m\n\u001b[0;32m    598\u001b[0m                 \u001b[1;32melse\u001b[0m\u001b[1;33m:\u001b[0m\u001b[1;33m\u001b[0m\u001b[1;33m\u001b[0m\u001b[0m\n\u001b[1;32m--> 599\u001b[1;33m                     \u001b[0marray\u001b[0m \u001b[1;33m=\u001b[0m \u001b[0mnp\u001b[0m\u001b[1;33m.\u001b[0m\u001b[0masarray\u001b[0m\u001b[1;33m(\u001b[0m\u001b[0marray\u001b[0m\u001b[1;33m,\u001b[0m \u001b[0morder\u001b[0m\u001b[1;33m=\u001b[0m\u001b[0morder\u001b[0m\u001b[1;33m,\u001b[0m \u001b[0mdtype\u001b[0m\u001b[1;33m=\u001b[0m\u001b[0mdtype\u001b[0m\u001b[1;33m)\u001b[0m\u001b[1;33m\u001b[0m\u001b[1;33m\u001b[0m\u001b[0m\n\u001b[0m\u001b[0;32m    600\u001b[0m             \u001b[1;32mexcept\u001b[0m \u001b[0mComplexWarning\u001b[0m\u001b[1;33m:\u001b[0m\u001b[1;33m\u001b[0m\u001b[1;33m\u001b[0m\u001b[0m\n\u001b[0;32m    601\u001b[0m                 raise ValueError(\"Complex data not supported\\n\"\n",
      "\u001b[1;32m~\\anaconda3\\lib\\site-packages\\numpy\\core\\_asarray.py\u001b[0m in \u001b[0;36masarray\u001b[1;34m(a, dtype, order)\u001b[0m\n\u001b[0;32m     83\u001b[0m \u001b[1;33m\u001b[0m\u001b[0m\n\u001b[0;32m     84\u001b[0m     \"\"\"\n\u001b[1;32m---> 85\u001b[1;33m     \u001b[1;32mreturn\u001b[0m \u001b[0marray\u001b[0m\u001b[1;33m(\u001b[0m\u001b[0ma\u001b[0m\u001b[1;33m,\u001b[0m \u001b[0mdtype\u001b[0m\u001b[1;33m,\u001b[0m \u001b[0mcopy\u001b[0m\u001b[1;33m=\u001b[0m\u001b[1;32mFalse\u001b[0m\u001b[1;33m,\u001b[0m \u001b[0morder\u001b[0m\u001b[1;33m=\u001b[0m\u001b[0morder\u001b[0m\u001b[1;33m)\u001b[0m\u001b[1;33m\u001b[0m\u001b[1;33m\u001b[0m\u001b[0m\n\u001b[0m\u001b[0;32m     86\u001b[0m \u001b[1;33m\u001b[0m\u001b[0m\n\u001b[0;32m     87\u001b[0m \u001b[1;33m\u001b[0m\u001b[0m\n",
      "\u001b[1;31mValueError\u001b[0m: could not convert string to float: ''"
     ]
    }
   ],
   "source": [
    "logistic_regression= LogisticRegression()\n",
    "logistic_regression.fit(X_train,y_train)\n",
    "y_pred=logistic_regression.predict(X_test)"
   ]
  },
  {
   "cell_type": "code",
   "execution_count": null,
   "metadata": {
    "ExecuteTime": {
     "end_time": "2020-08-02T20:57:10.462759Z",
     "start_time": "2020-08-02T20:56:27.728Z"
    }
   },
   "outputs": [],
   "source": [
    "#### Confusion Matrix"
   ]
  },
  {
   "cell_type": "code",
   "execution_count": null,
   "metadata": {
    "ExecuteTime": {
     "end_time": "2020-08-02T20:57:10.463757Z",
     "start_time": "2020-08-02T20:56:27.731Z"
    }
   },
   "outputs": [],
   "source": [
    "confusion_matrix = pd.crosstab(y_test, y_pred, rownames=['Actual'], colnames=['Predicted'])\n",
    "sn.heatmap(confusion_matrix, annot=True)"
   ]
  },
  {
   "cell_type": "code",
   "execution_count": null,
   "metadata": {
    "ExecuteTime": {
     "end_time": "2020-08-02T20:57:10.465751Z",
     "start_time": "2020-08-02T20:56:27.733Z"
    }
   },
   "outputs": [],
   "source": [
    "print('Accuracy: ',metrics.accuracy_score(y_test, y_pred))"
   ]
  },
  {
   "cell_type": "code",
   "execution_count": null,
   "metadata": {},
   "outputs": [],
   "source": []
  },
  {
   "cell_type": "code",
   "execution_count": null,
   "metadata": {},
   "outputs": [],
   "source": []
  },
  {
   "cell_type": "code",
   "execution_count": null,
   "metadata": {},
   "outputs": [],
   "source": []
  },
  {
   "cell_type": "code",
   "execution_count": null,
   "metadata": {},
   "outputs": [],
   "source": []
  },
  {
   "cell_type": "markdown",
   "metadata": {},
   "source": [
    "new dummy variable for zimmerarten, destination & anrede"
   ]
  },
  {
   "cell_type": "code",
   "execution_count": null,
   "metadata": {},
   "outputs": [],
   "source": []
  },
  {
   "cell_type": "code",
   "execution_count": null,
   "metadata": {},
   "outputs": [],
   "source": []
  },
  {
   "cell_type": "code",
   "execution_count": null,
   "metadata": {},
   "outputs": [],
   "source": []
  },
  {
   "cell_type": "code",
   "execution_count": null,
   "metadata": {},
   "outputs": [],
   "source": []
  },
  {
   "cell_type": "code",
   "execution_count": null,
   "metadata": {},
   "outputs": [],
   "source": []
  }
 ],
 "metadata": {
  "kernelspec": {
   "display_name": "Python 3",
   "language": "python",
   "name": "python3"
  },
  "language_info": {
   "codemirror_mode": {
    "name": "ipython",
    "version": 3
   },
   "file_extension": ".py",
   "mimetype": "text/x-python",
   "name": "python",
   "nbconvert_exporter": "python",
   "pygments_lexer": "ipython3",
   "version": "3.8.3"
  },
  "latex_envs": {
   "LaTeX_envs_menu_present": true,
   "autoclose": false,
   "autocomplete": true,
   "bibliofile": "biblio.bib",
   "cite_by": "apalike",
   "current_citInitial": 1,
   "eqLabelWithNumbers": true,
   "eqNumInitial": 1,
   "hotkeys": {
    "equation": "Ctrl-E",
    "itemize": "Ctrl-I"
   },
   "labels_anchors": false,
   "latex_user_defs": false,
   "report_style_numbering": false,
   "user_envs_cfg": false
  },
  "varInspector": {
   "cols": {
    "lenName": 16,
    "lenType": 16,
    "lenVar": 40
   },
   "kernels_config": {
    "python": {
     "delete_cmd_postfix": "",
     "delete_cmd_prefix": "del ",
     "library": "var_list.py",
     "varRefreshCmd": "print(var_dic_list())"
    },
    "r": {
     "delete_cmd_postfix": ") ",
     "delete_cmd_prefix": "rm(",
     "library": "var_list.r",
     "varRefreshCmd": "cat(var_dic_list()) "
    }
   },
   "types_to_exclude": [
    "module",
    "function",
    "builtin_function_or_method",
    "instance",
    "_Feature"
   ],
   "window_display": false
  }
 },
 "nbformat": 4,
 "nbformat_minor": 4
}
