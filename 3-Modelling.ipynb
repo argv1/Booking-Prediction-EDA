{
 "cells": [
  {
   "cell_type": "markdown",
   "metadata": {},
   "source": [
    "# Capstone Hotel reservation prediction\n",
    "\n",
    "![Logo](img/hotel-logo.png)"
   ]
  },
  {
   "cell_type": "markdown",
   "metadata": {},
   "source": [
    "## Modelling"
   ]
  },
  {
   "cell_type": "markdown",
   "metadata": {},
   "source": [
    "### Import required libraries"
   ]
  },
  {
   "cell_type": "code",
   "execution_count": 1,
   "metadata": {
    "ExecuteTime": {
     "end_time": "2020-08-05T17:59:25.401094Z",
     "start_time": "2020-08-05T17:59:24.586274Z"
    }
   },
   "outputs": [],
   "source": [
    "import pandas as pd\n",
    "import numpy as np\n",
    "pd.set_option(\"display.max_columns\", None)\n",
    "\n",
    "from sklearn.datasets import make_classification\n",
    "from sklearn.linear_model import LogisticRegression\n",
    "from sklearn import metrics\n",
    "from sklearn.metrics import accuracy_score, f1_score, recall_score\n",
    "from sklearn.metrics import classification_report\n",
    "from sklearn.metrics import confusion_matrix\n",
    "from sklearn.model_selection import cross_val_score\n",
    "from sklearn.model_selection import cross_validate\n",
    "from sklearn.model_selection import train_test_split\n",
    "from sklearn.utils import resample"
   ]
  },
  {
   "cell_type": "code",
   "execution_count": 2,
   "metadata": {
    "ExecuteTime": {
     "end_time": "2020-08-05T17:59:25.416054Z",
     "start_time": "2020-08-05T17:59:25.402091Z"
    }
   },
   "outputs": [],
   "source": [
    "#import eli5 # https://pypi.org/project/eli5/"
   ]
  },
  {
   "cell_type": "markdown",
   "metadata": {},
   "source": [
    "#### Loading cleaned dataset"
   ]
  },
  {
   "cell_type": "code",
   "execution_count": 3,
   "metadata": {
    "ExecuteTime": {
     "end_time": "2020-08-05T17:59:26.520130Z",
     "start_time": "2020-08-05T17:59:25.417052Z"
    }
   },
   "outputs": [],
   "source": [
    "df = pd.read_csv(\"data/dataset_w_feature.csv\", index_col=0, encoding=\"iso-8859-15\")"
   ]
  },
  {
   "cell_type": "code",
   "execution_count": 4,
   "metadata": {
    "ExecuteTime": {
     "end_time": "2020-08-05T17:59:26.645794Z",
     "start_time": "2020-08-05T17:59:26.522128Z"
    }
   },
   "outputs": [],
   "source": [
    "df[\"buchungsdatum\"]      = pd.to_datetime(df[\"buchungsdatum\"])\n",
    "df[\"anreisedatum\"]       = pd.to_datetime(df[\"anreisedatum\"])\n",
    "df[\"abreisedatum\"]       = pd.to_datetime(df[\"abreisedatum\"])"
   ]
  },
  {
   "cell_type": "code",
   "execution_count": 5,
   "metadata": {
    "ExecuteTime": {
     "end_time": "2020-08-05T17:59:26.691671Z",
     "start_time": "2020-08-05T17:59:26.646792Z"
    }
   },
   "outputs": [
    {
     "data": {
      "text/html": [
       "<div>\n",
       "<style scoped>\n",
       "    .dataframe tbody tr th:only-of-type {\n",
       "        vertical-align: middle;\n",
       "    }\n",
       "\n",
       "    .dataframe tbody tr th {\n",
       "        vertical-align: top;\n",
       "    }\n",
       "\n",
       "    .dataframe thead th {\n",
       "        text-align: right;\n",
       "    }\n",
       "</style>\n",
       "<table border=\"1\" class=\"dataframe\">\n",
       "  <thead>\n",
       "    <tr style=\"text-align: right;\">\n",
       "      <th></th>\n",
       "      <th>buchungsdatum</th>\n",
       "      <th>anreisedatum</th>\n",
       "      <th>abreisedatum</th>\n",
       "      <th>naechte_insgesamt</th>\n",
       "      <th>gebuchte_naechte</th>\n",
       "      <th>personen_anzahl</th>\n",
       "      <th>gesamtpreis</th>\n",
       "      <th>saison</th>\n",
       "      <th>buchung_telefon</th>\n",
       "      <th>buchung_online</th>\n",
       "      <th>buchung_reisebuero</th>\n",
       "      <th>zimmerarten</th>\n",
       "      <th>reise_adventure</th>\n",
       "      <th>reise_relax</th>\n",
       "      <th>reise_standard</th>\n",
       "      <th>reise_genuss</th>\n",
       "      <th>kind</th>\n",
       "      <th>entfernung</th>\n",
       "      <th>zahler</th>\n",
       "      <th>kunden_id</th>\n",
       "      <th>buchungsnr</th>\n",
       "      <th>buchungsnr_reisebuero</th>\n",
       "      <th>menue_code</th>\n",
       "      <th>zusatzleistung</th>\n",
       "      <th>destination</th>\n",
       "      <th>anrede</th>\n",
       "      <th>plz</th>\n",
       "      <th>ort</th>\n",
       "      <th>kundenclub</th>\n",
       "      <th>jahrgangsalter_klassiert</th>\n",
       "      <th>bundesland</th>\n",
       "      <th>einwohner_adjusted_plz</th>\n",
       "      <th>bev_m_plz</th>\n",
       "      <th>bev_w_plz</th>\n",
       "      <th>bev_insgesamt_ort</th>\n",
       "      <th>bev_weiblich_ort</th>\n",
       "      <th>bev_maennlich_ort</th>\n",
       "      <th>qkm_plz</th>\n",
       "      <th>flaeche_ort</th>\n",
       "      <th>einwohnerdichte_prokm2_plz</th>\n",
       "      <th>haushalte_regiog_2017_plz</th>\n",
       "      <th>kaufkraft_einwohner_in_eur_regio</th>\n",
       "      <th>kk_einwohner_index_regiog_2017</th>\n",
       "      <th>kk_hh_index_regiog_2017</th>\n",
       "      <th>gemeindetyp_regiostar_2016</th>\n",
       "      <th>wirtschaftskraftmr1</th>\n",
       "      <th>wirtschaftskraftmr2</th>\n",
       "      <th>wochentag_buchung</th>\n",
       "      <th>buchungstag</th>\n",
       "      <th>buchungsmonat</th>\n",
       "      <th>buchungsjahr</th>\n",
       "      <th>buchungswoche</th>\n",
       "      <th>buchungsquartal</th>\n",
       "      <th>wochentag_anreise</th>\n",
       "      <th>anreisetag</th>\n",
       "      <th>anreisemonat</th>\n",
       "      <th>anreisejahr</th>\n",
       "      <th>anreisewoche</th>\n",
       "      <th>anreisequartal</th>\n",
       "      <th>wochentag_abreise</th>\n",
       "      <th>abreisetag</th>\n",
       "      <th>abreisemonat</th>\n",
       "      <th>abreisejahr</th>\n",
       "      <th>abreisewoche</th>\n",
       "      <th>abreisequartal</th>\n",
       "      <th>buchungskanal</th>\n",
       "      <th>werbe_ban</th>\n",
       "      <th>anz_werbe_ban</th>\n",
       "      <th>aufenthalt</th>\n",
       "      <th>naechte_ausserhalb</th>\n",
       "      <th>buchungsvorlauf</th>\n",
       "      <th>preis_per</th>\n",
       "      <th>preis_nacht</th>\n",
       "      <th>preis_nacht_per</th>\n",
       "      <th>buch_zeilen</th>\n",
       "      <th>erstbuchung</th>\n",
       "      <th>folgebuchung</th>\n",
       "      <th>repeater</th>\n",
       "    </tr>\n",
       "  </thead>\n",
       "  <tbody>\n",
       "    <tr>\n",
       "      <th>0</th>\n",
       "      <td>2010-01-29</td>\n",
       "      <td>2010-04-02</td>\n",
       "      <td>2010-04-10</td>\n",
       "      <td>8</td>\n",
       "      <td>8</td>\n",
       "      <td>2</td>\n",
       "      <td>2982</td>\n",
       "      <td>2010</td>\n",
       "      <td>0</td>\n",
       "      <td>0</td>\n",
       "      <td>1</td>\n",
       "      <td>classic</td>\n",
       "      <td>0</td>\n",
       "      <td>0</td>\n",
       "      <td>0</td>\n",
       "      <td>1</td>\n",
       "      <td>0</td>\n",
       "      <td>535.48</td>\n",
       "      <td>1</td>\n",
       "      <td>1</td>\n",
       "      <td>1151</td>\n",
       "      <td>456</td>\n",
       "      <td>5</td>\n",
       "      <td>5</td>\n",
       "      <td>linz</td>\n",
       "      <td>Herr</td>\n",
       "      <td>29664</td>\n",
       "      <td>Walsrode</td>\n",
       "      <td>0</td>\n",
       "      <td>55-64</td>\n",
       "      <td>Niedersachsen</td>\n",
       "      <td>25173</td>\n",
       "      <td>12540</td>\n",
       "      <td>12633</td>\n",
       "      <td>25173</td>\n",
       "      <td>11577</td>\n",
       "      <td>11491</td>\n",
       "      <td>344.326464</td>\n",
       "      <td>344.326464</td>\n",
       "      <td>73.108</td>\n",
       "      <td>11453</td>\n",
       "      <td>20641.89</td>\n",
       "      <td>92.819</td>\n",
       "      <td>98.104</td>\n",
       "      <td>Landregion - Zentrale Stadt</td>\n",
       "      <td>-0.333392</td>\n",
       "      <td>-0.388738</td>\n",
       "      <td>Freitag</td>\n",
       "      <td>29</td>\n",
       "      <td>1</td>\n",
       "      <td>2010</td>\n",
       "      <td>4</td>\n",
       "      <td>1</td>\n",
       "      <td>Freitag</td>\n",
       "      <td>2</td>\n",
       "      <td>4</td>\n",
       "      <td>2010</td>\n",
       "      <td>13</td>\n",
       "      <td>2</td>\n",
       "      <td>Samstag</td>\n",
       "      <td>10</td>\n",
       "      <td>4</td>\n",
       "      <td>2010</td>\n",
       "      <td>14</td>\n",
       "      <td>2</td>\n",
       "      <td>reisebuero</td>\n",
       "      <td>keine</td>\n",
       "      <td>0</td>\n",
       "      <td>8</td>\n",
       "      <td>0</td>\n",
       "      <td>63</td>\n",
       "      <td>1491.00</td>\n",
       "      <td>372.75</td>\n",
       "      <td>186.38</td>\n",
       "      <td>2</td>\n",
       "      <td>1</td>\n",
       "      <td>0</td>\n",
       "      <td>0</td>\n",
       "    </tr>\n",
       "    <tr>\n",
       "      <th>1</th>\n",
       "      <td>2010-01-14</td>\n",
       "      <td>2010-04-05</td>\n",
       "      <td>2010-04-10</td>\n",
       "      <td>5</td>\n",
       "      <td>5</td>\n",
       "      <td>2</td>\n",
       "      <td>1437</td>\n",
       "      <td>2010</td>\n",
       "      <td>0</td>\n",
       "      <td>0</td>\n",
       "      <td>1</td>\n",
       "      <td>classic</td>\n",
       "      <td>0</td>\n",
       "      <td>0</td>\n",
       "      <td>1</td>\n",
       "      <td>0</td>\n",
       "      <td>0</td>\n",
       "      <td>544.72</td>\n",
       "      <td>0</td>\n",
       "      <td>2</td>\n",
       "      <td>40</td>\n",
       "      <td>6413</td>\n",
       "      <td>5</td>\n",
       "      <td>5</td>\n",
       "      <td>linz</td>\n",
       "      <td>Frau</td>\n",
       "      <td>50226</td>\n",
       "      <td>Frechen</td>\n",
       "      <td>0</td>\n",
       "      <td>55-64</td>\n",
       "      <td>Nordrhein-Westfalen</td>\n",
       "      <td>52473</td>\n",
       "      <td>25645</td>\n",
       "      <td>26828</td>\n",
       "      <td>52473</td>\n",
       "      <td>26828</td>\n",
       "      <td>25645</td>\n",
       "      <td>45.118960</td>\n",
       "      <td>45.118960</td>\n",
       "      <td>1162.992</td>\n",
       "      <td>26227</td>\n",
       "      <td>25268.58</td>\n",
       "      <td>113.623</td>\n",
       "      <td>111.379</td>\n",
       "      <td>Landregion - Zentrale Stadt</td>\n",
       "      <td>0.853802</td>\n",
       "      <td>-0.345112</td>\n",
       "      <td>Donnerstag</td>\n",
       "      <td>14</td>\n",
       "      <td>1</td>\n",
       "      <td>2010</td>\n",
       "      <td>2</td>\n",
       "      <td>1</td>\n",
       "      <td>Montag</td>\n",
       "      <td>5</td>\n",
       "      <td>4</td>\n",
       "      <td>2010</td>\n",
       "      <td>14</td>\n",
       "      <td>2</td>\n",
       "      <td>Samstag</td>\n",
       "      <td>10</td>\n",
       "      <td>4</td>\n",
       "      <td>2010</td>\n",
       "      <td>14</td>\n",
       "      <td>2</td>\n",
       "      <td>reisebuero</td>\n",
       "      <td>generell</td>\n",
       "      <td>5</td>\n",
       "      <td>5</td>\n",
       "      <td>0</td>\n",
       "      <td>81</td>\n",
       "      <td>718.50</td>\n",
       "      <td>287.40</td>\n",
       "      <td>143.70</td>\n",
       "      <td>2</td>\n",
       "      <td>1</td>\n",
       "      <td>0</td>\n",
       "      <td>0</td>\n",
       "    </tr>\n",
       "    <tr>\n",
       "      <th>2</th>\n",
       "      <td>2010-03-01</td>\n",
       "      <td>2010-04-05</td>\n",
       "      <td>2010-04-10</td>\n",
       "      <td>5</td>\n",
       "      <td>5</td>\n",
       "      <td>2</td>\n",
       "      <td>1737</td>\n",
       "      <td>2010</td>\n",
       "      <td>0</td>\n",
       "      <td>0</td>\n",
       "      <td>1</td>\n",
       "      <td>classic</td>\n",
       "      <td>0</td>\n",
       "      <td>0</td>\n",
       "      <td>1</td>\n",
       "      <td>0</td>\n",
       "      <td>0</td>\n",
       "      <td>606.63</td>\n",
       "      <td>0</td>\n",
       "      <td>3</td>\n",
       "      <td>2134</td>\n",
       "      <td>4322</td>\n",
       "      <td>5</td>\n",
       "      <td>5</td>\n",
       "      <td>linz</td>\n",
       "      <td>Herr</td>\n",
       "      <td>23970</td>\n",
       "      <td>Wismar</td>\n",
       "      <td>0</td>\n",
       "      <td>75-84</td>\n",
       "      <td>Mecklenburg-Vorpommern</td>\n",
       "      <td>1423</td>\n",
       "      <td>692</td>\n",
       "      <td>731</td>\n",
       "      <td>46442</td>\n",
       "      <td>21844</td>\n",
       "      <td>20706</td>\n",
       "      <td>50.563027</td>\n",
       "      <td>83.131346</td>\n",
       "      <td>17.117</td>\n",
       "      <td>6355</td>\n",
       "      <td>18697.65</td>\n",
       "      <td>84.076</td>\n",
       "      <td>73.665</td>\n",
       "      <td>Stadtregion - Kleinstädtischer, dörflicher Raum</td>\n",
       "      <td>-1.012536</td>\n",
       "      <td>-1.012536</td>\n",
       "      <td>Montag</td>\n",
       "      <td>1</td>\n",
       "      <td>3</td>\n",
       "      <td>2010</td>\n",
       "      <td>9</td>\n",
       "      <td>1</td>\n",
       "      <td>Montag</td>\n",
       "      <td>5</td>\n",
       "      <td>4</td>\n",
       "      <td>2010</td>\n",
       "      <td>14</td>\n",
       "      <td>2</td>\n",
       "      <td>Samstag</td>\n",
       "      <td>10</td>\n",
       "      <td>4</td>\n",
       "      <td>2010</td>\n",
       "      <td>14</td>\n",
       "      <td>2</td>\n",
       "      <td>reisebuero</td>\n",
       "      <td>keine</td>\n",
       "      <td>0</td>\n",
       "      <td>5</td>\n",
       "      <td>0</td>\n",
       "      <td>35</td>\n",
       "      <td>868.50</td>\n",
       "      <td>347.40</td>\n",
       "      <td>173.70</td>\n",
       "      <td>1</td>\n",
       "      <td>1</td>\n",
       "      <td>0</td>\n",
       "      <td>0</td>\n",
       "    </tr>\n",
       "    <tr>\n",
       "      <th>3</th>\n",
       "      <td>2010-01-25</td>\n",
       "      <td>2010-03-21</td>\n",
       "      <td>2010-03-25</td>\n",
       "      <td>4</td>\n",
       "      <td>4</td>\n",
       "      <td>2</td>\n",
       "      <td>1047</td>\n",
       "      <td>2010</td>\n",
       "      <td>0</td>\n",
       "      <td>0</td>\n",
       "      <td>1</td>\n",
       "      <td>classic</td>\n",
       "      <td>0</td>\n",
       "      <td>1</td>\n",
       "      <td>0</td>\n",
       "      <td>0</td>\n",
       "      <td>0</td>\n",
       "      <td>421.59</td>\n",
       "      <td>1</td>\n",
       "      <td>4</td>\n",
       "      <td>776</td>\n",
       "      <td>6414</td>\n",
       "      <td>69</td>\n",
       "      <td>9</td>\n",
       "      <td>linz</td>\n",
       "      <td>Frau</td>\n",
       "      <td>15732</td>\n",
       "      <td>Eichwalde</td>\n",
       "      <td>0</td>\n",
       "      <td>65-74</td>\n",
       "      <td>Brandenburg</td>\n",
       "      <td>14690</td>\n",
       "      <td>7302</td>\n",
       "      <td>7388</td>\n",
       "      <td>14690</td>\n",
       "      <td>4135</td>\n",
       "      <td>4087</td>\n",
       "      <td>11.965427</td>\n",
       "      <td>11.965427</td>\n",
       "      <td>1227.704</td>\n",
       "      <td>7159</td>\n",
       "      <td>23442.06</td>\n",
       "      <td>105.410</td>\n",
       "      <td>104.087</td>\n",
       "      <td>Landregion - Städtischer Raum</td>\n",
       "      <td>0.417226</td>\n",
       "      <td>0.417226</td>\n",
       "      <td>Montag</td>\n",
       "      <td>25</td>\n",
       "      <td>1</td>\n",
       "      <td>2010</td>\n",
       "      <td>4</td>\n",
       "      <td>1</td>\n",
       "      <td>Sonntag</td>\n",
       "      <td>21</td>\n",
       "      <td>3</td>\n",
       "      <td>2010</td>\n",
       "      <td>11</td>\n",
       "      <td>1</td>\n",
       "      <td>Donnerstag</td>\n",
       "      <td>25</td>\n",
       "      <td>3</td>\n",
       "      <td>2010</td>\n",
       "      <td>12</td>\n",
       "      <td>1</td>\n",
       "      <td>reisebuero</td>\n",
       "      <td>keine</td>\n",
       "      <td>0</td>\n",
       "      <td>4</td>\n",
       "      <td>0</td>\n",
       "      <td>55</td>\n",
       "      <td>523.50</td>\n",
       "      <td>261.75</td>\n",
       "      <td>130.88</td>\n",
       "      <td>1</td>\n",
       "      <td>1</td>\n",
       "      <td>0</td>\n",
       "      <td>0</td>\n",
       "    </tr>\n",
       "    <tr>\n",
       "      <th>4</th>\n",
       "      <td>2010-01-26</td>\n",
       "      <td>2010-03-07</td>\n",
       "      <td>2010-03-09</td>\n",
       "      <td>2</td>\n",
       "      <td>2</td>\n",
       "      <td>20</td>\n",
       "      <td>5279</td>\n",
       "      <td>2010</td>\n",
       "      <td>0</td>\n",
       "      <td>0</td>\n",
       "      <td>1</td>\n",
       "      <td>classic</td>\n",
       "      <td>1</td>\n",
       "      <td>0</td>\n",
       "      <td>0</td>\n",
       "      <td>0</td>\n",
       "      <td>0</td>\n",
       "      <td>37.88</td>\n",
       "      <td>0</td>\n",
       "      <td>5</td>\n",
       "      <td>813</td>\n",
       "      <td>2938</td>\n",
       "      <td>113</td>\n",
       "      <td>2</td>\n",
       "      <td>duesseldorf</td>\n",
       "      <td>Frau</td>\n",
       "      <td>53881</td>\n",
       "      <td>Euskirchen</td>\n",
       "      <td>1</td>\n",
       "      <td>45-54</td>\n",
       "      <td>Nordrhein-Westfalen</td>\n",
       "      <td>28531</td>\n",
       "      <td>13975</td>\n",
       "      <td>14556</td>\n",
       "      <td>57975</td>\n",
       "      <td>29578</td>\n",
       "      <td>28397</td>\n",
       "      <td>127.679129</td>\n",
       "      <td>139.430913</td>\n",
       "      <td>204.625</td>\n",
       "      <td>11683</td>\n",
       "      <td>23328.82</td>\n",
       "      <td>104.901</td>\n",
       "      <td>120.110</td>\n",
       "      <td>Stadtregion - Kleinstädtischer, dörflicher Raum</td>\n",
       "      <td>0.212335</td>\n",
       "      <td>-0.579173</td>\n",
       "      <td>Dienstag</td>\n",
       "      <td>26</td>\n",
       "      <td>1</td>\n",
       "      <td>2010</td>\n",
       "      <td>4</td>\n",
       "      <td>1</td>\n",
       "      <td>Sonntag</td>\n",
       "      <td>7</td>\n",
       "      <td>3</td>\n",
       "      <td>2010</td>\n",
       "      <td>9</td>\n",
       "      <td>1</td>\n",
       "      <td>Dienstag</td>\n",
       "      <td>9</td>\n",
       "      <td>3</td>\n",
       "      <td>2010</td>\n",
       "      <td>10</td>\n",
       "      <td>1</td>\n",
       "      <td>reisebuero</td>\n",
       "      <td>keine</td>\n",
       "      <td>0</td>\n",
       "      <td>2</td>\n",
       "      <td>0</td>\n",
       "      <td>40</td>\n",
       "      <td>263.95</td>\n",
       "      <td>2639.50</td>\n",
       "      <td>131.98</td>\n",
       "      <td>7</td>\n",
       "      <td>1</td>\n",
       "      <td>0</td>\n",
       "      <td>1</td>\n",
       "    </tr>\n",
       "  </tbody>\n",
       "</table>\n",
       "</div>"
      ],
      "text/plain": [
       "  buchungsdatum anreisedatum abreisedatum  naechte_insgesamt  \\\n",
       "0    2010-01-29   2010-04-02   2010-04-10                  8   \n",
       "1    2010-01-14   2010-04-05   2010-04-10                  5   \n",
       "2    2010-03-01   2010-04-05   2010-04-10                  5   \n",
       "3    2010-01-25   2010-03-21   2010-03-25                  4   \n",
       "4    2010-01-26   2010-03-07   2010-03-09                  2   \n",
       "\n",
       "   gebuchte_naechte  personen_anzahl  gesamtpreis  saison  buchung_telefon  \\\n",
       "0                 8                2         2982    2010                0   \n",
       "1                 5                2         1437    2010                0   \n",
       "2                 5                2         1737    2010                0   \n",
       "3                 4                2         1047    2010                0   \n",
       "4                 2               20         5279    2010                0   \n",
       "\n",
       "   buchung_online  buchung_reisebuero zimmerarten  reise_adventure  \\\n",
       "0               0                   1     classic                0   \n",
       "1               0                   1     classic                0   \n",
       "2               0                   1     classic                0   \n",
       "3               0                   1     classic                0   \n",
       "4               0                   1     classic                1   \n",
       "\n",
       "   reise_relax  reise_standard  reise_genuss  kind  entfernung  zahler  \\\n",
       "0            0               0             1     0      535.48       1   \n",
       "1            0               1             0     0      544.72       0   \n",
       "2            0               1             0     0      606.63       0   \n",
       "3            1               0             0     0      421.59       1   \n",
       "4            0               0             0     0       37.88       0   \n",
       "\n",
       "   kunden_id  buchungsnr  buchungsnr_reisebuero  menue_code  zusatzleistung  \\\n",
       "0          1        1151                    456           5               5   \n",
       "1          2          40                   6413           5               5   \n",
       "2          3        2134                   4322           5               5   \n",
       "3          4         776                   6414          69               9   \n",
       "4          5         813                   2938         113               2   \n",
       "\n",
       "   destination anrede    plz         ort  kundenclub jahrgangsalter_klassiert  \\\n",
       "0         linz   Herr  29664    Walsrode           0                    55-64   \n",
       "1         linz   Frau  50226     Frechen           0                    55-64   \n",
       "2         linz   Herr  23970      Wismar           0                    75-84   \n",
       "3         linz   Frau  15732   Eichwalde           0                    65-74   \n",
       "4  duesseldorf   Frau  53881  Euskirchen           1                    45-54   \n",
       "\n",
       "               bundesland  einwohner_adjusted_plz  bev_m_plz  bev_w_plz  \\\n",
       "0           Niedersachsen                   25173      12540      12633   \n",
       "1     Nordrhein-Westfalen                   52473      25645      26828   \n",
       "2  Mecklenburg-Vorpommern                    1423        692        731   \n",
       "3             Brandenburg                   14690       7302       7388   \n",
       "4     Nordrhein-Westfalen                   28531      13975      14556   \n",
       "\n",
       "   bev_insgesamt_ort  bev_weiblich_ort  bev_maennlich_ort     qkm_plz  \\\n",
       "0              25173             11577              11491  344.326464   \n",
       "1              52473             26828              25645   45.118960   \n",
       "2              46442             21844              20706   50.563027   \n",
       "3              14690              4135               4087   11.965427   \n",
       "4              57975             29578              28397  127.679129   \n",
       "\n",
       "   flaeche_ort  einwohnerdichte_prokm2_plz  haushalte_regiog_2017_plz  \\\n",
       "0   344.326464                      73.108                      11453   \n",
       "1    45.118960                    1162.992                      26227   \n",
       "2    83.131346                      17.117                       6355   \n",
       "3    11.965427                    1227.704                       7159   \n",
       "4   139.430913                     204.625                      11683   \n",
       "\n",
       "   kaufkraft_einwohner_in_eur_regio  kk_einwohner_index_regiog_2017  \\\n",
       "0                          20641.89                          92.819   \n",
       "1                          25268.58                         113.623   \n",
       "2                          18697.65                          84.076   \n",
       "3                          23442.06                         105.410   \n",
       "4                          23328.82                         104.901   \n",
       "\n",
       "   kk_hh_index_regiog_2017                       gemeindetyp_regiostar_2016  \\\n",
       "0                   98.104                      Landregion - Zentrale Stadt   \n",
       "1                  111.379                      Landregion - Zentrale Stadt   \n",
       "2                   73.665  Stadtregion - Kleinstädtischer, dörflicher Raum   \n",
       "3                  104.087                    Landregion - Städtischer Raum   \n",
       "4                  120.110  Stadtregion - Kleinstädtischer, dörflicher Raum   \n",
       "\n",
       "   wirtschaftskraftmr1  wirtschaftskraftmr2 wochentag_buchung  buchungstag  \\\n",
       "0            -0.333392            -0.388738           Freitag           29   \n",
       "1             0.853802            -0.345112        Donnerstag           14   \n",
       "2            -1.012536            -1.012536            Montag            1   \n",
       "3             0.417226             0.417226            Montag           25   \n",
       "4             0.212335            -0.579173          Dienstag           26   \n",
       "\n",
       "   buchungsmonat  buchungsjahr  buchungswoche  buchungsquartal  \\\n",
       "0              1          2010              4                1   \n",
       "1              1          2010              2                1   \n",
       "2              3          2010              9                1   \n",
       "3              1          2010              4                1   \n",
       "4              1          2010              4                1   \n",
       "\n",
       "  wochentag_anreise  anreisetag  anreisemonat  anreisejahr  anreisewoche  \\\n",
       "0           Freitag           2             4         2010            13   \n",
       "1            Montag           5             4         2010            14   \n",
       "2            Montag           5             4         2010            14   \n",
       "3           Sonntag          21             3         2010            11   \n",
       "4           Sonntag           7             3         2010             9   \n",
       "\n",
       "   anreisequartal wochentag_abreise  abreisetag  abreisemonat  abreisejahr  \\\n",
       "0               2           Samstag          10             4         2010   \n",
       "1               2           Samstag          10             4         2010   \n",
       "2               2           Samstag          10             4         2010   \n",
       "3               1        Donnerstag          25             3         2010   \n",
       "4               1          Dienstag           9             3         2010   \n",
       "\n",
       "   abreisewoche  abreisequartal buchungskanal werbe_ban  anz_werbe_ban  \\\n",
       "0            14               2    reisebuero     keine              0   \n",
       "1            14               2    reisebuero  generell              5   \n",
       "2            14               2    reisebuero     keine              0   \n",
       "3            12               1    reisebuero     keine              0   \n",
       "4            10               1    reisebuero     keine              0   \n",
       "\n",
       "   aufenthalt  naechte_ausserhalb  buchungsvorlauf  preis_per  preis_nacht  \\\n",
       "0           8                   0               63    1491.00       372.75   \n",
       "1           5                   0               81     718.50       287.40   \n",
       "2           5                   0               35     868.50       347.40   \n",
       "3           4                   0               55     523.50       261.75   \n",
       "4           2                   0               40     263.95      2639.50   \n",
       "\n",
       "   preis_nacht_per  buch_zeilen  erstbuchung  folgebuchung  repeater  \n",
       "0           186.38            2            1             0         0  \n",
       "1           143.70            2            1             0         0  \n",
       "2           173.70            1            1             0         0  \n",
       "3           130.88            1            1             0         0  \n",
       "4           131.98            7            1             0         1  "
      ]
     },
     "execution_count": 5,
     "metadata": {},
     "output_type": "execute_result"
    }
   ],
   "source": [
    "df.head()"
   ]
  },
  {
   "cell_type": "markdown",
   "metadata": {},
   "source": [
    "# Modelling"
   ]
  },
  {
   "cell_type": "markdown",
   "metadata": {},
   "source": [
    "#### Dropping redundant variables"
   ]
  },
  {
   "cell_type": "code",
   "execution_count": 6,
   "metadata": {
    "ExecuteTime": {
     "end_time": "2020-08-05T17:59:26.988877Z",
     "start_time": "2020-08-05T17:59:26.692669Z"
    }
   },
   "outputs": [
    {
     "ename": "KeyError",
     "evalue": "\"['werbeban'] not found in axis\"",
     "output_type": "error",
     "traceback": [
      "\u001b[1;31m---------------------------------------------------------------------------\u001b[0m",
      "\u001b[1;31mKeyError\u001b[0m                                  Traceback (most recent call last)",
      "\u001b[1;32m<ipython-input-6-030286ed5770>\u001b[0m in \u001b[0;36m<module>\u001b[1;34m\u001b[0m\n\u001b[0;32m      1\u001b[0m \u001b[0mdf\u001b[0m\u001b[1;33m.\u001b[0m\u001b[0mdrop\u001b[0m\u001b[1;33m(\u001b[0m\u001b[1;34m\"buchungskanal\"\u001b[0m\u001b[1;33m,\u001b[0m \u001b[0maxis\u001b[0m\u001b[1;33m=\u001b[0m\u001b[1;36m1\u001b[0m\u001b[1;33m,\u001b[0m \u001b[0minplace\u001b[0m\u001b[1;33m=\u001b[0m\u001b[1;32mTrue\u001b[0m\u001b[1;33m)\u001b[0m\u001b[1;33m\u001b[0m\u001b[1;33m\u001b[0m\u001b[0m\n\u001b[1;32m----> 2\u001b[1;33m \u001b[0mdf\u001b[0m\u001b[1;33m.\u001b[0m\u001b[0mdrop\u001b[0m\u001b[1;33m(\u001b[0m\u001b[1;34m\"werbeban\"\u001b[0m\u001b[1;33m,\u001b[0m \u001b[0maxis\u001b[0m\u001b[1;33m=\u001b[0m\u001b[1;36m1\u001b[0m\u001b[1;33m,\u001b[0m \u001b[0minplace\u001b[0m\u001b[1;33m=\u001b[0m\u001b[1;32mTrue\u001b[0m\u001b[1;33m)\u001b[0m\u001b[1;33m\u001b[0m\u001b[1;33m\u001b[0m\u001b[0m\n\u001b[0m",
      "\u001b[1;32m~\\anaconda3\\lib\\site-packages\\pandas\\core\\frame.py\u001b[0m in \u001b[0;36mdrop\u001b[1;34m(self, labels, axis, index, columns, level, inplace, errors)\u001b[0m\n\u001b[0;32m   3988\u001b[0m                 \u001b[0mweight\u001b[0m  \u001b[1;36m1.0\u001b[0m     \u001b[1;36m0.8\u001b[0m\u001b[1;33m\u001b[0m\u001b[1;33m\u001b[0m\u001b[0m\n\u001b[0;32m   3989\u001b[0m         \"\"\"\n\u001b[1;32m-> 3990\u001b[1;33m         return super().drop(\n\u001b[0m\u001b[0;32m   3991\u001b[0m             \u001b[0mlabels\u001b[0m\u001b[1;33m=\u001b[0m\u001b[0mlabels\u001b[0m\u001b[1;33m,\u001b[0m\u001b[1;33m\u001b[0m\u001b[1;33m\u001b[0m\u001b[0m\n\u001b[0;32m   3992\u001b[0m             \u001b[0maxis\u001b[0m\u001b[1;33m=\u001b[0m\u001b[0maxis\u001b[0m\u001b[1;33m,\u001b[0m\u001b[1;33m\u001b[0m\u001b[1;33m\u001b[0m\u001b[0m\n",
      "\u001b[1;32m~\\anaconda3\\lib\\site-packages\\pandas\\core\\generic.py\u001b[0m in \u001b[0;36mdrop\u001b[1;34m(self, labels, axis, index, columns, level, inplace, errors)\u001b[0m\n\u001b[0;32m   3934\u001b[0m         \u001b[1;32mfor\u001b[0m \u001b[0maxis\u001b[0m\u001b[1;33m,\u001b[0m \u001b[0mlabels\u001b[0m \u001b[1;32min\u001b[0m \u001b[0maxes\u001b[0m\u001b[1;33m.\u001b[0m\u001b[0mitems\u001b[0m\u001b[1;33m(\u001b[0m\u001b[1;33m)\u001b[0m\u001b[1;33m:\u001b[0m\u001b[1;33m\u001b[0m\u001b[1;33m\u001b[0m\u001b[0m\n\u001b[0;32m   3935\u001b[0m             \u001b[1;32mif\u001b[0m \u001b[0mlabels\u001b[0m \u001b[1;32mis\u001b[0m \u001b[1;32mnot\u001b[0m \u001b[1;32mNone\u001b[0m\u001b[1;33m:\u001b[0m\u001b[1;33m\u001b[0m\u001b[1;33m\u001b[0m\u001b[0m\n\u001b[1;32m-> 3936\u001b[1;33m                 \u001b[0mobj\u001b[0m \u001b[1;33m=\u001b[0m \u001b[0mobj\u001b[0m\u001b[1;33m.\u001b[0m\u001b[0m_drop_axis\u001b[0m\u001b[1;33m(\u001b[0m\u001b[0mlabels\u001b[0m\u001b[1;33m,\u001b[0m \u001b[0maxis\u001b[0m\u001b[1;33m,\u001b[0m \u001b[0mlevel\u001b[0m\u001b[1;33m=\u001b[0m\u001b[0mlevel\u001b[0m\u001b[1;33m,\u001b[0m \u001b[0merrors\u001b[0m\u001b[1;33m=\u001b[0m\u001b[0merrors\u001b[0m\u001b[1;33m)\u001b[0m\u001b[1;33m\u001b[0m\u001b[1;33m\u001b[0m\u001b[0m\n\u001b[0m\u001b[0;32m   3937\u001b[0m \u001b[1;33m\u001b[0m\u001b[0m\n\u001b[0;32m   3938\u001b[0m         \u001b[1;32mif\u001b[0m \u001b[0minplace\u001b[0m\u001b[1;33m:\u001b[0m\u001b[1;33m\u001b[0m\u001b[1;33m\u001b[0m\u001b[0m\n",
      "\u001b[1;32m~\\anaconda3\\lib\\site-packages\\pandas\\core\\generic.py\u001b[0m in \u001b[0;36m_drop_axis\u001b[1;34m(self, labels, axis, level, errors)\u001b[0m\n\u001b[0;32m   3968\u001b[0m                 \u001b[0mnew_axis\u001b[0m \u001b[1;33m=\u001b[0m \u001b[0maxis\u001b[0m\u001b[1;33m.\u001b[0m\u001b[0mdrop\u001b[0m\u001b[1;33m(\u001b[0m\u001b[0mlabels\u001b[0m\u001b[1;33m,\u001b[0m \u001b[0mlevel\u001b[0m\u001b[1;33m=\u001b[0m\u001b[0mlevel\u001b[0m\u001b[1;33m,\u001b[0m \u001b[0merrors\u001b[0m\u001b[1;33m=\u001b[0m\u001b[0merrors\u001b[0m\u001b[1;33m)\u001b[0m\u001b[1;33m\u001b[0m\u001b[1;33m\u001b[0m\u001b[0m\n\u001b[0;32m   3969\u001b[0m             \u001b[1;32melse\u001b[0m\u001b[1;33m:\u001b[0m\u001b[1;33m\u001b[0m\u001b[1;33m\u001b[0m\u001b[0m\n\u001b[1;32m-> 3970\u001b[1;33m                 \u001b[0mnew_axis\u001b[0m \u001b[1;33m=\u001b[0m \u001b[0maxis\u001b[0m\u001b[1;33m.\u001b[0m\u001b[0mdrop\u001b[0m\u001b[1;33m(\u001b[0m\u001b[0mlabels\u001b[0m\u001b[1;33m,\u001b[0m \u001b[0merrors\u001b[0m\u001b[1;33m=\u001b[0m\u001b[0merrors\u001b[0m\u001b[1;33m)\u001b[0m\u001b[1;33m\u001b[0m\u001b[1;33m\u001b[0m\u001b[0m\n\u001b[0m\u001b[0;32m   3971\u001b[0m             \u001b[0mresult\u001b[0m \u001b[1;33m=\u001b[0m \u001b[0mself\u001b[0m\u001b[1;33m.\u001b[0m\u001b[0mreindex\u001b[0m\u001b[1;33m(\u001b[0m\u001b[1;33m**\u001b[0m\u001b[1;33m{\u001b[0m\u001b[0maxis_name\u001b[0m\u001b[1;33m:\u001b[0m \u001b[0mnew_axis\u001b[0m\u001b[1;33m}\u001b[0m\u001b[1;33m)\u001b[0m\u001b[1;33m\u001b[0m\u001b[1;33m\u001b[0m\u001b[0m\n\u001b[0;32m   3972\u001b[0m \u001b[1;33m\u001b[0m\u001b[0m\n",
      "\u001b[1;32m~\\anaconda3\\lib\\site-packages\\pandas\\core\\indexes\\base.py\u001b[0m in \u001b[0;36mdrop\u001b[1;34m(self, labels, errors)\u001b[0m\n\u001b[0;32m   5016\u001b[0m         \u001b[1;32mif\u001b[0m \u001b[0mmask\u001b[0m\u001b[1;33m.\u001b[0m\u001b[0many\u001b[0m\u001b[1;33m(\u001b[0m\u001b[1;33m)\u001b[0m\u001b[1;33m:\u001b[0m\u001b[1;33m\u001b[0m\u001b[1;33m\u001b[0m\u001b[0m\n\u001b[0;32m   5017\u001b[0m             \u001b[1;32mif\u001b[0m \u001b[0merrors\u001b[0m \u001b[1;33m!=\u001b[0m \u001b[1;34m\"ignore\"\u001b[0m\u001b[1;33m:\u001b[0m\u001b[1;33m\u001b[0m\u001b[1;33m\u001b[0m\u001b[0m\n\u001b[1;32m-> 5018\u001b[1;33m                 \u001b[1;32mraise\u001b[0m \u001b[0mKeyError\u001b[0m\u001b[1;33m(\u001b[0m\u001b[1;34mf\"{labels[mask]} not found in axis\"\u001b[0m\u001b[1;33m)\u001b[0m\u001b[1;33m\u001b[0m\u001b[1;33m\u001b[0m\u001b[0m\n\u001b[0m\u001b[0;32m   5019\u001b[0m             \u001b[0mindexer\u001b[0m \u001b[1;33m=\u001b[0m \u001b[0mindexer\u001b[0m\u001b[1;33m[\u001b[0m\u001b[1;33m~\u001b[0m\u001b[0mmask\u001b[0m\u001b[1;33m]\u001b[0m\u001b[1;33m\u001b[0m\u001b[1;33m\u001b[0m\u001b[0m\n\u001b[0;32m   5020\u001b[0m         \u001b[1;32mreturn\u001b[0m \u001b[0mself\u001b[0m\u001b[1;33m.\u001b[0m\u001b[0mdelete\u001b[0m\u001b[1;33m(\u001b[0m\u001b[0mindexer\u001b[0m\u001b[1;33m)\u001b[0m\u001b[1;33m\u001b[0m\u001b[1;33m\u001b[0m\u001b[0m\n",
      "\u001b[1;31mKeyError\u001b[0m: \"['werbeban'] not found in axis\""
     ]
    }
   ],
   "source": [
    "df.drop(\"buchungskanal\", axis=1, inplace=True)\n",
    "df.drop(\"werbeban\", axis=1, inplace=True)"
   ]
  },
  {
   "cell_type": "markdown",
   "metadata": {},
   "source": [
    "#### Grouping variables"
   ]
  },
  {
   "cell_type": "code",
   "execution_count": null,
   "metadata": {
    "ExecuteTime": {
     "end_time": "2020-08-05T17:59:26.997853Z",
     "start_time": "2020-08-05T17:59:24.835Z"
    }
   },
   "outputs": [],
   "source": [
    "categorial = list(df.columns[df.dtypes==object])\n",
    "datetime64 = ['buchungsdatum', 'anreisedatum', 'abreisedatum']\n",
    "numeric    = list(df.select_dtypes(include=['int64', 'float64']).columns)\n",
    "\n",
    "for entry in ['erstbuchung', 'repeater', 'kunden_id', 'folgebuchung', 'menue_code', 'zusatzleistung', 'plz', 'kundenclub']: \n",
    "    numeric.remove(entry)\n",
    "    \n",
    "for entry in ['menue_code', 'zusatzleistung']: \n",
    "    categorial.append(entry)    \n",
    "    \n",
    "categorial.remove('ort') \n",
    "\n",
    "# 7 = 'erstbuchung', 'repeater', 'kunden_id', 'folgebuchung', 'ort', 'plz', 'kundenclub'\n",
    "df.shape[1] == len(categorial) + len(datetime64) + len(numeric) + 7"
   ]
  },
  {
   "cell_type": "markdown",
   "metadata": {},
   "source": [
    "## Logistic Regression"
   ]
  },
  {
   "cell_type": "code",
   "execution_count": null,
   "metadata": {
    "ExecuteTime": {
     "end_time": "2020-08-05T17:59:26.998850Z",
     "start_time": "2020-08-05T17:59:24.881Z"
    }
   },
   "outputs": [],
   "source": [
    "X = df[numeric]\n",
    "y = df.folgebuchung\n",
    "\n",
    "X_train, X_test, y_train, y_test = train_test_split(X, y, test_size=0.10, random_state=1337)"
   ]
  },
  {
   "cell_type": "code",
   "execution_count": null,
   "metadata": {
    "ExecuteTime": {
     "end_time": "2020-08-05T17:59:26.999847Z",
     "start_time": "2020-08-05T17:59:24.883Z"
    }
   },
   "outputs": [],
   "source": [
    "logistic_regression= LogisticRegression(max_iter=10_000)\n",
    "logistic_regression.fit(X_train,y_train)\n",
    "y_pred=logistic_regression.predict(X_test)"
   ]
  },
  {
   "cell_type": "markdown",
   "metadata": {},
   "source": [
    "#### Confusion Matrix & Classification Report"
   ]
  },
  {
   "cell_type": "code",
   "execution_count": null,
   "metadata": {
    "ExecuteTime": {
     "end_time": "2020-08-05T17:59:26.999847Z",
     "start_time": "2020-08-05T17:59:24.929Z"
    }
   },
   "outputs": [],
   "source": [
    "conf_matrix = confusion_matrix(y_test, y_pred)\n",
    "conf_matrix"
   ]
  },
  {
   "cell_type": "code",
   "execution_count": null,
   "metadata": {
    "ExecuteTime": {
     "end_time": "2020-08-05T17:59:27.000845Z",
     "start_time": "2020-08-05T17:59:24.931Z"
    }
   },
   "outputs": [],
   "source": [
    "print(classification_report(y_test, y_pred))"
   ]
  },
  {
   "cell_type": "code",
   "execution_count": null,
   "metadata": {
    "ExecuteTime": {
     "end_time": "2020-08-05T17:59:27.002840Z",
     "start_time": "2020-08-05T17:59:24.932Z"
    }
   },
   "outputs": [],
   "source": [
    "print('normalized Accuracy: ',round(accuracy_score(y_test, y_pred)*100,2))"
   ]
  },
  {
   "cell_type": "markdown",
   "metadata": {},
   "source": [
    "### Dummy Variable"
   ]
  },
  {
   "cell_type": "code",
   "execution_count": null,
   "metadata": {
    "ExecuteTime": {
     "end_time": "2020-08-05T17:59:27.003837Z",
     "start_time": "2020-08-05T17:59:24.977Z"
    }
   },
   "outputs": [],
   "source": [
    "aenderung = { \"saint etienne\": \"saint-etienne\",\n",
    "              \"viana do castelo\": \"viana-do-castelo\",\n",
    "            }\n",
    "\n",
    "df.destination.replace(aenderung, inplace=True)"
   ]
  },
  {
   "cell_type": "code",
   "execution_count": null,
   "metadata": {
    "ExecuteTime": {
     "end_time": "2020-08-05T17:59:27.004835Z",
     "start_time": "2020-08-05T17:59:24.978Z"
    }
   },
   "outputs": [],
   "source": [
    "df_dum = pd.get_dummies(df[categorial])\n",
    "# bei vielen Ausprägungen bins, erst einmal ohne\n",
    "df_dum.shape"
   ]
  },
  {
   "cell_type": "code",
   "execution_count": null,
   "metadata": {
    "ExecuteTime": {
     "end_time": "2020-08-05T17:59:27.005832Z",
     "start_time": "2020-08-05T17:59:24.980Z"
    }
   },
   "outputs": [],
   "source": [
    "df_dum.columns"
   ]
  },
  {
   "cell_type": "markdown",
   "metadata": {},
   "source": [
    "### Train-Test-Split"
   ]
  },
  {
   "cell_type": "code",
   "execution_count": null,
   "metadata": {
    "ExecuteTime": {
     "end_time": "2020-08-05T17:59:27.006829Z",
     "start_time": "2020-08-05T17:59:25.023Z"
    }
   },
   "outputs": [],
   "source": [
    "X = pd.concat([df[numeric], df_dum], axis=1)\n",
    "y = df.folgebuchung\n",
    "\n",
    "X_train, X_test, y_train, y_test = train_test_split(X, y, test_size=0.10, random_state=1337)"
   ]
  },
  {
   "cell_type": "markdown",
   "metadata": {},
   "source": [
    "### Dealing with imbalace \n",
    "in target feature folgebuchung by resampling"
   ]
  },
  {
   "cell_type": "code",
   "execution_count": null,
   "metadata": {
    "ExecuteTime": {
     "end_time": "2020-08-05T17:59:27.007826Z",
     "start_time": "2020-08-05T17:59:25.068Z"
    }
   },
   "outputs": [],
   "source": [
    "df.folgebuchung.value_counts()"
   ]
  },
  {
   "cell_type": "markdown",
   "metadata": {},
   "source": [
    "#### Upsampling"
   ]
  },
  {
   "cell_type": "code",
   "execution_count": null,
   "metadata": {
    "ExecuteTime": {
     "end_time": "2020-08-05T17:59:27.007826Z",
     "start_time": "2020-08-05T17:59:25.116Z"
    }
   },
   "outputs": [],
   "source": [
    "# concatenate our training data back together\n",
    "X = pd.concat([X_train, y_train], axis=1)\n",
    "\n",
    "# separate minority and majority classes\n",
    "erstbuchung  = X[X.folgebuchung==0]\n",
    "folgebuchung = X[X.folgebuchung==1]\n",
    "\n",
    "# upsample minority\n",
    "folgebuchung_upsampled = resample(folgebuchung, replace=True, \n",
    "                          n_samples=len(erstbuchung), # match number in majority class\n",
    "                          random_state=1337) \n",
    "\n",
    "# combine majority and upsampled minority\n",
    "upsampled = pd.concat([erstbuchung, folgebuchung_upsampled])\n",
    "\n",
    "upsampled.folgebuchung.value_counts()"
   ]
  },
  {
   "cell_type": "markdown",
   "metadata": {},
   "source": [
    "#### Downsampling"
   ]
  },
  {
   "cell_type": "code",
   "execution_count": null,
   "metadata": {
    "ExecuteTime": {
     "end_time": "2020-08-05T17:59:27.008823Z",
     "start_time": "2020-08-05T17:59:25.165Z"
    }
   },
   "outputs": [],
   "source": [
    "# concatenate our training data back together\n",
    "X = pd.concat([X_train, y_train], axis=1)\n",
    "\n",
    "# separate minority and majority classes\n",
    "erstbuchung  = X[X.folgebuchung==0]\n",
    "folgebuchung = X[X.folgebuchung==1]\n",
    "\n",
    "# downsample majority\n",
    "erstbuchung_downsampled = resample(erstbuchung, replace=False, \n",
    "                          n_samples=len(folgebuchung), # match minority n\n",
    "                          random_state=1337) \n",
    "\n",
    "# combine majority and upsampled minority\n",
    "downsampled = pd.concat([folgebuchung, erstbuchung_downsampled])\n",
    "\n",
    "downsampled.erstbuchung.value_counts()"
   ]
  },
  {
   "cell_type": "markdown",
   "metadata": {},
   "source": [
    "### 2nd Logistic Regression\n",
    "with balance data and additional dummy variables"
   ]
  },
  {
   "cell_type": "code",
   "execution_count": null,
   "metadata": {
    "ExecuteTime": {
     "end_time": "2020-08-05T17:59:27.009821Z",
     "start_time": "2020-08-05T17:59:25.223Z"
    }
   },
   "outputs": [],
   "source": [
    "y_train = upsampled.folgebuchung\n",
    "X_train = upsampled.drop('folgebuchung', axis=1)\n",
    "\n",
    "#check warum nur folgebuchung drop und nicht auch kunden_id\n",
    "\n",
    "upsampled = LogisticRegression(solver='liblinear', max_iter=10_000).fit(X_train, y_train)\n",
    "\n",
    "upsampled_pred = upsampled.predict(X_test);"
   ]
  },
  {
   "cell_type": "code",
   "execution_count": null,
   "metadata": {
    "ExecuteTime": {
     "end_time": "2020-08-05T17:59:27.010818Z",
     "start_time": "2020-08-05T17:59:25.225Z"
    }
   },
   "outputs": [],
   "source": [
    "y_train = downsampled.folgebuchung\n",
    "X_train = downsampled.drop('folgebuchung', axis=1)\n",
    "\n",
    "#check warum nur folgebuchung drop und nicht auch kunden_id\n",
    "\n",
    "downsampled = LogisticRegression(solver='liblinear', max_iter=10_000).fit(X_train, y_train)\n",
    "\n",
    "downsampled_pred = downsampled.predict(X_test);"
   ]
  },
  {
   "cell_type": "markdown",
   "metadata": {
    "ExecuteTime": {
     "end_time": "2020-08-03T08:45:08.693410Z",
     "start_time": "2020-08-03T08:44:39.061Z"
    }
   },
   "source": [
    "#### Confusion Matrix & Classification Report"
   ]
  },
  {
   "cell_type": "code",
   "execution_count": null,
   "metadata": {
    "ExecuteTime": {
     "end_time": "2020-08-05T17:59:27.010818Z",
     "start_time": "2020-08-05T17:59:25.260Z"
    }
   },
   "outputs": [],
   "source": [
    "n_conf_matrix = confusion_matrix(y_test, upsampled_pred)\n",
    "n_conf_matrix"
   ]
  },
  {
   "cell_type": "code",
   "execution_count": null,
   "metadata": {
    "ExecuteTime": {
     "end_time": "2020-08-05T17:59:27.011816Z",
     "start_time": "2020-08-05T17:59:25.261Z"
    }
   },
   "outputs": [],
   "source": [
    "print(classification_report(y_test, upsampled_pred))"
   ]
  },
  {
   "cell_type": "code",
   "execution_count": null,
   "metadata": {
    "ExecuteTime": {
     "end_time": "2020-08-05T17:59:27.011816Z",
     "start_time": "2020-08-05T17:59:25.263Z"
    }
   },
   "outputs": [],
   "source": [
    "print('normalized Accuracy: ',round(accuracy_score(y_test, upsampled_pred)*100,2))"
   ]
  },
  {
   "cell_type": "markdown",
   "metadata": {},
   "source": [
    "### Cross Validation"
   ]
  },
  {
   "cell_type": "code",
   "execution_count": null,
   "metadata": {
    "ExecuteTime": {
     "end_time": "2020-08-05T17:59:27.012813Z",
     "start_time": "2020-08-05T17:59:25.299Z"
    }
   },
   "outputs": [],
   "source": [
    "clf = LogisticRegression(solver='liblinear', max_iter=10_000)\n",
    "\n",
    "scoring = ['precision_macro', 'recall_macro', 'f1_macro']\n",
    "scores = cross_validate(clf, X_train, y_train, cv=5, scoring=scoring, \n",
    "                          return_train_score=False) # cv can also return train score but we set it to false\n",
    "scores\n",
    "\n",
    "#X_train oder x, gleiches für y"
   ]
  },
  {
   "cell_type": "code",
   "execution_count": null,
   "metadata": {
    "ExecuteTime": {
     "end_time": "2020-08-05T17:59:27.013810Z",
     "start_time": "2020-08-05T17:59:25.301Z"
    }
   },
   "outputs": [],
   "source": [
    "print(\"Accuracy: %0.2f (+/- %0.2f)\" % (scores.mean(), scores.std() * 2))\n",
    "\n",
    "#ändern"
   ]
  },
  {
   "cell_type": "code",
   "execution_count": null,
   "metadata": {
    "ExecuteTime": {
     "end_time": "2020-08-05T17:59:27.014808Z",
     "start_time": "2020-08-05T17:59:25.302Z"
    }
   },
   "outputs": [],
   "source": [
    "#Dummys in Bins wenn die Ladezeit überhand nimmt\n"
   ]
  },
  {
   "cell_type": "code",
   "execution_count": null,
   "metadata": {
    "ExecuteTime": {
     "end_time": "2020-08-05T17:59:27.014808Z",
     "start_time": "2020-08-05T17:59:25.303Z"
    }
   },
   "outputs": [],
   "source": [
    "#clf = svm.SVC(kernel='linear', C=1).fit(X_train, y_train)"
   ]
  },
  {
   "cell_type": "code",
   "execution_count": null,
   "metadata": {},
   "outputs": [],
   "source": []
  },
  {
   "cell_type": "code",
   "execution_count": null,
   "metadata": {
    "ExecuteTime": {
     "end_time": "2020-08-05T17:59:27.015806Z",
     "start_time": "2020-08-05T17:59:25.306Z"
    }
   },
   "outputs": [],
   "source": [
    "#https://stackoverflow.com/questions/62658215/convergencewarning-lbfgs-failed-to-converge-status-1-stop-total-no-of-iter\n",
    "\n",
    "#sklearn.pipeline.Pipeline "
   ]
  },
  {
   "cell_type": "code",
   "execution_count": null,
   "metadata": {},
   "outputs": [],
   "source": []
  },
  {
   "cell_type": "code",
   "execution_count": null,
   "metadata": {
    "ExecuteTime": {
     "end_time": "2020-08-05T17:59:27.016803Z",
     "start_time": "2020-08-05T17:59:25.309Z"
    }
   },
   "outputs": [],
   "source": [
    "#df_dum.head(2)"
   ]
  },
  {
   "cell_type": "code",
   "execution_count": null,
   "metadata": {
    "ExecuteTime": {
     "end_time": "2020-08-05T17:59:27.017800Z",
     "start_time": "2020-08-05T17:59:25.310Z"
    }
   },
   "outputs": [],
   "source": [
    "#categorial"
   ]
  },
  {
   "cell_type": "code",
   "execution_count": null,
   "metadata": {},
   "outputs": [],
   "source": []
  }
 ],
 "metadata": {
  "kernelspec": {
   "display_name": "Python 3",
   "language": "python",
   "name": "python3"
  },
  "language_info": {
   "codemirror_mode": {
    "name": "ipython",
    "version": 3
   },
   "file_extension": ".py",
   "mimetype": "text/x-python",
   "name": "python",
   "nbconvert_exporter": "python",
   "pygments_lexer": "ipython3",
   "version": "3.8.3"
  },
  "latex_envs": {
   "LaTeX_envs_menu_present": true,
   "autoclose": false,
   "autocomplete": true,
   "bibliofile": "biblio.bib",
   "cite_by": "apalike",
   "current_citInitial": 1,
   "eqLabelWithNumbers": true,
   "eqNumInitial": 1,
   "hotkeys": {
    "equation": "Ctrl-E",
    "itemize": "Ctrl-I"
   },
   "labels_anchors": false,
   "latex_user_defs": false,
   "report_style_numbering": false,
   "user_envs_cfg": false
  },
  "varInspector": {
   "cols": {
    "lenName": 16,
    "lenType": 16,
    "lenVar": 40
   },
   "kernels_config": {
    "python": {
     "delete_cmd_postfix": "",
     "delete_cmd_prefix": "del ",
     "library": "var_list.py",
     "varRefreshCmd": "print(var_dic_list())"
    },
    "r": {
     "delete_cmd_postfix": ") ",
     "delete_cmd_prefix": "rm(",
     "library": "var_list.r",
     "varRefreshCmd": "cat(var_dic_list()) "
    }
   },
   "types_to_exclude": [
    "module",
    "function",
    "builtin_function_or_method",
    "instance",
    "_Feature"
   ],
   "window_display": false
  }
 },
 "nbformat": 4,
 "nbformat_minor": 4
}
