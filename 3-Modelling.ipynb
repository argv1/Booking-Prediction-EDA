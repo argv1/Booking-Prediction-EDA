{
 "cells": [
  {
   "cell_type": "markdown",
   "metadata": {},
   "source": [
    "# Capstone Hotel reservation prediction\n",
    "\n",
    "![Logo](img/hotel-logo.png)"
   ]
  },
  {
   "cell_type": "markdown",
   "metadata": {},
   "source": [
    "## Modelling"
   ]
  },
  {
   "cell_type": "markdown",
   "metadata": {},
   "source": [
    "### Import required libraries"
   ]
  },
  {
   "cell_type": "code",
   "execution_count": 22,
   "metadata": {
    "ExecuteTime": {
     "end_time": "2020-08-06T20:29:52.224450Z",
     "start_time": "2020-08-06T20:29:52.116048Z"
    }
   },
   "outputs": [],
   "source": [
    "import pandas as pd\n",
    "import numpy as np\n",
    "pd.set_option(\"display.max_columns\", None)\n",
    "\n",
    "#modelling\n",
    "from sklearn.datasets import make_classification\n",
    "from sklearn.ensemble import RandomForestRegressor\n",
    "from sklearn.linear_model import LogisticRegression\n",
    "from sklearn.metrics import accuracy_score, classification_report, confusion_matrix, f1_score, precision_score, recall_score, roc_curve\n",
    "from sklearn.model_selection import cross_val_score, cross_validate, cross_val_predict, train_test_split\n",
    "from sklearn.utils import resample\n",
    "\n",
    "#visualisations\n",
    "import seaborn as sns\n",
    "import matplotlib.pyplot as plt\n",
    "sns.set(style=\"whitegrid\")\n",
    "%matplotlib inline"
   ]
  },
  {
   "cell_type": "code",
   "execution_count": 2,
   "metadata": {
    "ExecuteTime": {
     "end_time": "2020-08-06T20:18:45.206873Z",
     "start_time": "2020-08-06T20:18:45.191058Z"
    }
   },
   "outputs": [
    {
     "data": {
      "text/plain": [
       "'\\nfrom sklearn.compose import ColumnTransformer\\nfrom sklearn.ensemble import RandomForestRegressor\\nfrom sklearn.feature_selection import SelectFromModel\\nfrom sklearn.impute import SimpleImputer\\nfrom sklearn.linear_model import LinearRegression, LassoCV\\nfrom sklearn.preprocessing import StandardScaler, OneHotEncoder, PolynomialFeatures\\nfrom sklearn.pipeline import Pipeline\\n'"
      ]
     },
     "execution_count": 2,
     "metadata": {},
     "output_type": "execute_result"
    }
   ],
   "source": [
    "'''\n",
    "from sklearn.compose import ColumnTransformer\n",
    "from sklearn.feature_selection import SelectFromModel\n",
    "from sklearn.impute import SimpleImputer\n",
    "from sklearn.linear_model import LinearRegression, LassoCV\n",
    "from sklearn.preprocessing import StandardScaler, OneHotEncoder, PolynomialFeatures\n",
    "from sklearn.pipeline import Pipeline\n",
    "'''"
   ]
  },
  {
   "cell_type": "code",
   "execution_count": 3,
   "metadata": {
    "ExecuteTime": {
     "end_time": "2020-08-06T20:18:45.238827Z",
     "start_time": "2020-08-06T20:18:45.207503Z"
    }
   },
   "outputs": [],
   "source": [
    "#import eli5 # https://pypi.org/project/eli5/"
   ]
  },
  {
   "cell_type": "markdown",
   "metadata": {},
   "source": [
    "#### Loading cleaned dataset"
   ]
  },
  {
   "cell_type": "code",
   "execution_count": 4,
   "metadata": {
    "ExecuteTime": {
     "end_time": "2020-08-06T20:18:46.380620Z",
     "start_time": "2020-08-06T20:18:45.239825Z"
    }
   },
   "outputs": [],
   "source": [
    "df = pd.read_csv(\"data/dataset_w_feature.csv\", index_col=0, encoding=\"iso-8859-15\")"
   ]
  },
  {
   "cell_type": "code",
   "execution_count": 5,
   "metadata": {
    "ExecuteTime": {
     "end_time": "2020-08-06T20:18:46.505795Z",
     "start_time": "2020-08-06T20:18:46.381618Z"
    }
   },
   "outputs": [],
   "source": [
    "df[\"buchungsdatum\"]      = pd.to_datetime(df[\"buchungsdatum\"])\n",
    "df[\"anreisedatum\"]       = pd.to_datetime(df[\"anreisedatum\"])\n",
    "df[\"abreisedatum\"]       = pd.to_datetime(df[\"abreisedatum\"])"
   ]
  },
  {
   "cell_type": "code",
   "execution_count": 6,
   "metadata": {
    "ExecuteTime": {
     "end_time": "2020-08-06T20:18:46.553667Z",
     "start_time": "2020-08-06T20:18:46.506792Z"
    }
   },
   "outputs": [
    {
     "data": {
      "text/html": [
       "<div>\n",
       "<style scoped>\n",
       "    .dataframe tbody tr th:only-of-type {\n",
       "        vertical-align: middle;\n",
       "    }\n",
       "\n",
       "    .dataframe tbody tr th {\n",
       "        vertical-align: top;\n",
       "    }\n",
       "\n",
       "    .dataframe thead th {\n",
       "        text-align: right;\n",
       "    }\n",
       "</style>\n",
       "<table border=\"1\" class=\"dataframe\">\n",
       "  <thead>\n",
       "    <tr style=\"text-align: right;\">\n",
       "      <th></th>\n",
       "      <th>buchungsdatum</th>\n",
       "      <th>anreisedatum</th>\n",
       "      <th>abreisedatum</th>\n",
       "      <th>naechte_insgesamt</th>\n",
       "      <th>gebuchte_naechte</th>\n",
       "      <th>personen_anzahl</th>\n",
       "      <th>gesamtpreis</th>\n",
       "      <th>saison</th>\n",
       "      <th>buchung_telefon</th>\n",
       "      <th>buchung_online</th>\n",
       "      <th>buchung_reisebuero</th>\n",
       "      <th>zimmerarten</th>\n",
       "      <th>reise_adventure</th>\n",
       "      <th>reise_relax</th>\n",
       "      <th>reise_standard</th>\n",
       "      <th>reise_genuss</th>\n",
       "      <th>kind</th>\n",
       "      <th>entfernung</th>\n",
       "      <th>zahler</th>\n",
       "      <th>kunden_id</th>\n",
       "      <th>buchungsnr</th>\n",
       "      <th>buchungsnr_reisebuero</th>\n",
       "      <th>menue_code</th>\n",
       "      <th>zusatzleistung</th>\n",
       "      <th>destination</th>\n",
       "      <th>anrede</th>\n",
       "      <th>plz</th>\n",
       "      <th>ort</th>\n",
       "      <th>kundenclub</th>\n",
       "      <th>jahrgangsalter_klassiert</th>\n",
       "      <th>bundesland</th>\n",
       "      <th>einwohner_adjusted_plz</th>\n",
       "      <th>bev_m_plz</th>\n",
       "      <th>bev_w_plz</th>\n",
       "      <th>bev_insgesamt_ort</th>\n",
       "      <th>bev_weiblich_ort</th>\n",
       "      <th>bev_maennlich_ort</th>\n",
       "      <th>qkm_plz</th>\n",
       "      <th>flaeche_ort</th>\n",
       "      <th>einwohnerdichte_prokm2_plz</th>\n",
       "      <th>haushalte_regiog_2017_plz</th>\n",
       "      <th>kaufkraft_einwohner_in_eur_regio</th>\n",
       "      <th>kk_einwohner_index_regiog_2017</th>\n",
       "      <th>kk_hh_index_regiog_2017</th>\n",
       "      <th>gemeindetyp_regiostar_2016</th>\n",
       "      <th>wirtschaftskraftmr1</th>\n",
       "      <th>wirtschaftskraftmr2</th>\n",
       "      <th>buchungsjahr</th>\n",
       "      <th>buchungsquartal</th>\n",
       "      <th>buchungsmonat</th>\n",
       "      <th>buchungswoche</th>\n",
       "      <th>buchungstag</th>\n",
       "      <th>buchung_wochentag</th>\n",
       "      <th>anreisejahr</th>\n",
       "      <th>anreisequartal</th>\n",
       "      <th>anreisemonat</th>\n",
       "      <th>anreisewoche</th>\n",
       "      <th>anreisetag</th>\n",
       "      <th>anreise_wochentag</th>\n",
       "      <th>abreisejahr</th>\n",
       "      <th>abreisequartal</th>\n",
       "      <th>abreisemonat</th>\n",
       "      <th>abreisewoche</th>\n",
       "      <th>abreisetag</th>\n",
       "      <th>abreise_wochentag</th>\n",
       "      <th>buchungsmonat-jahr</th>\n",
       "      <th>buchungsquartal-jahr</th>\n",
       "      <th>anreisemonat-jahr</th>\n",
       "      <th>anreisequartal-jahr</th>\n",
       "      <th>abreisemonat-jahr</th>\n",
       "      <th>abreisequartal-jahr</th>\n",
       "      <th>buchungskanal</th>\n",
       "      <th>werbe_ban</th>\n",
       "      <th>anz_werbe_ban</th>\n",
       "      <th>aufenthalt</th>\n",
       "      <th>naechte_ausserhalb</th>\n",
       "      <th>anz_buch</th>\n",
       "      <th>buchungsvorlauf</th>\n",
       "      <th>preis_per</th>\n",
       "      <th>preis_nacht</th>\n",
       "      <th>preis_nacht_per</th>\n",
       "      <th>buch_zeilen</th>\n",
       "      <th>erstbuchung</th>\n",
       "      <th>folgebuchung</th>\n",
       "      <th>repeater</th>\n",
       "    </tr>\n",
       "  </thead>\n",
       "  <tbody>\n",
       "    <tr>\n",
       "      <th>0</th>\n",
       "      <td>2010-01-29</td>\n",
       "      <td>2010-04-02</td>\n",
       "      <td>2010-04-10</td>\n",
       "      <td>8</td>\n",
       "      <td>8</td>\n",
       "      <td>2</td>\n",
       "      <td>2982</td>\n",
       "      <td>2010</td>\n",
       "      <td>0</td>\n",
       "      <td>0</td>\n",
       "      <td>1</td>\n",
       "      <td>classic</td>\n",
       "      <td>0</td>\n",
       "      <td>0</td>\n",
       "      <td>0</td>\n",
       "      <td>1</td>\n",
       "      <td>0</td>\n",
       "      <td>535.48</td>\n",
       "      <td>1</td>\n",
       "      <td>1</td>\n",
       "      <td>1151</td>\n",
       "      <td>456</td>\n",
       "      <td>5</td>\n",
       "      <td>5</td>\n",
       "      <td>linz</td>\n",
       "      <td>Herr</td>\n",
       "      <td>29664</td>\n",
       "      <td>Walsrode</td>\n",
       "      <td>0</td>\n",
       "      <td>55-64</td>\n",
       "      <td>Niedersachsen</td>\n",
       "      <td>25173</td>\n",
       "      <td>12540</td>\n",
       "      <td>12633</td>\n",
       "      <td>25173</td>\n",
       "      <td>11577</td>\n",
       "      <td>11491</td>\n",
       "      <td>344.326464</td>\n",
       "      <td>344.326464</td>\n",
       "      <td>73.108</td>\n",
       "      <td>11453</td>\n",
       "      <td>20641.89</td>\n",
       "      <td>92.819</td>\n",
       "      <td>98.104</td>\n",
       "      <td>Landregion - Zentrale Stadt</td>\n",
       "      <td>-0.333392</td>\n",
       "      <td>-0.388738</td>\n",
       "      <td>2010</td>\n",
       "      <td>1</td>\n",
       "      <td>1</td>\n",
       "      <td>4</td>\n",
       "      <td>4</td>\n",
       "      <td>Freitag</td>\n",
       "      <td>2010</td>\n",
       "      <td>2</td>\n",
       "      <td>4</td>\n",
       "      <td>13</td>\n",
       "      <td>4</td>\n",
       "      <td>Freitag</td>\n",
       "      <td>2010</td>\n",
       "      <td>2</td>\n",
       "      <td>4</td>\n",
       "      <td>14</td>\n",
       "      <td>5</td>\n",
       "      <td>Samstag</td>\n",
       "      <td>2011</td>\n",
       "      <td>2011</td>\n",
       "      <td>2014</td>\n",
       "      <td>2012</td>\n",
       "      <td>2014</td>\n",
       "      <td>2012</td>\n",
       "      <td>reisebuero</td>\n",
       "      <td>keine</td>\n",
       "      <td>0</td>\n",
       "      <td>8</td>\n",
       "      <td>0</td>\n",
       "      <td>1</td>\n",
       "      <td>63</td>\n",
       "      <td>1491.00</td>\n",
       "      <td>372.75</td>\n",
       "      <td>186.38</td>\n",
       "      <td>2</td>\n",
       "      <td>1</td>\n",
       "      <td>0</td>\n",
       "      <td>0</td>\n",
       "    </tr>\n",
       "    <tr>\n",
       "      <th>1</th>\n",
       "      <td>2010-01-14</td>\n",
       "      <td>2010-04-05</td>\n",
       "      <td>2010-04-10</td>\n",
       "      <td>5</td>\n",
       "      <td>5</td>\n",
       "      <td>2</td>\n",
       "      <td>1437</td>\n",
       "      <td>2010</td>\n",
       "      <td>0</td>\n",
       "      <td>0</td>\n",
       "      <td>1</td>\n",
       "      <td>classic</td>\n",
       "      <td>0</td>\n",
       "      <td>0</td>\n",
       "      <td>1</td>\n",
       "      <td>0</td>\n",
       "      <td>0</td>\n",
       "      <td>544.72</td>\n",
       "      <td>0</td>\n",
       "      <td>2</td>\n",
       "      <td>40</td>\n",
       "      <td>6413</td>\n",
       "      <td>5</td>\n",
       "      <td>5</td>\n",
       "      <td>linz</td>\n",
       "      <td>Frau</td>\n",
       "      <td>50226</td>\n",
       "      <td>Frechen</td>\n",
       "      <td>0</td>\n",
       "      <td>55-64</td>\n",
       "      <td>Nordrhein-Westfalen</td>\n",
       "      <td>52473</td>\n",
       "      <td>25645</td>\n",
       "      <td>26828</td>\n",
       "      <td>52473</td>\n",
       "      <td>26828</td>\n",
       "      <td>25645</td>\n",
       "      <td>45.118960</td>\n",
       "      <td>45.118960</td>\n",
       "      <td>1162.992</td>\n",
       "      <td>26227</td>\n",
       "      <td>25268.58</td>\n",
       "      <td>113.623</td>\n",
       "      <td>111.379</td>\n",
       "      <td>Landregion - Zentrale Stadt</td>\n",
       "      <td>0.853802</td>\n",
       "      <td>-0.345112</td>\n",
       "      <td>2010</td>\n",
       "      <td>1</td>\n",
       "      <td>1</td>\n",
       "      <td>2</td>\n",
       "      <td>3</td>\n",
       "      <td>Donnerstag</td>\n",
       "      <td>2010</td>\n",
       "      <td>2</td>\n",
       "      <td>4</td>\n",
       "      <td>14</td>\n",
       "      <td>0</td>\n",
       "      <td>Montag</td>\n",
       "      <td>2010</td>\n",
       "      <td>2</td>\n",
       "      <td>4</td>\n",
       "      <td>14</td>\n",
       "      <td>5</td>\n",
       "      <td>Samstag</td>\n",
       "      <td>2011</td>\n",
       "      <td>2011</td>\n",
       "      <td>2014</td>\n",
       "      <td>2012</td>\n",
       "      <td>2014</td>\n",
       "      <td>2012</td>\n",
       "      <td>reisebuero</td>\n",
       "      <td>generell</td>\n",
       "      <td>5</td>\n",
       "      <td>5</td>\n",
       "      <td>0</td>\n",
       "      <td>1</td>\n",
       "      <td>81</td>\n",
       "      <td>718.50</td>\n",
       "      <td>287.40</td>\n",
       "      <td>143.70</td>\n",
       "      <td>2</td>\n",
       "      <td>1</td>\n",
       "      <td>0</td>\n",
       "      <td>0</td>\n",
       "    </tr>\n",
       "    <tr>\n",
       "      <th>2</th>\n",
       "      <td>2010-03-01</td>\n",
       "      <td>2010-04-05</td>\n",
       "      <td>2010-04-10</td>\n",
       "      <td>5</td>\n",
       "      <td>5</td>\n",
       "      <td>2</td>\n",
       "      <td>1737</td>\n",
       "      <td>2010</td>\n",
       "      <td>0</td>\n",
       "      <td>0</td>\n",
       "      <td>1</td>\n",
       "      <td>classic</td>\n",
       "      <td>0</td>\n",
       "      <td>0</td>\n",
       "      <td>1</td>\n",
       "      <td>0</td>\n",
       "      <td>0</td>\n",
       "      <td>606.63</td>\n",
       "      <td>0</td>\n",
       "      <td>3</td>\n",
       "      <td>2134</td>\n",
       "      <td>4322</td>\n",
       "      <td>5</td>\n",
       "      <td>5</td>\n",
       "      <td>linz</td>\n",
       "      <td>Herr</td>\n",
       "      <td>23970</td>\n",
       "      <td>Wismar</td>\n",
       "      <td>0</td>\n",
       "      <td>75-84</td>\n",
       "      <td>Mecklenburg-Vorpommern</td>\n",
       "      <td>1423</td>\n",
       "      <td>692</td>\n",
       "      <td>731</td>\n",
       "      <td>46442</td>\n",
       "      <td>21844</td>\n",
       "      <td>20706</td>\n",
       "      <td>50.563027</td>\n",
       "      <td>83.131346</td>\n",
       "      <td>17.117</td>\n",
       "      <td>6355</td>\n",
       "      <td>18697.65</td>\n",
       "      <td>84.076</td>\n",
       "      <td>73.665</td>\n",
       "      <td>Stadtregion - Kleinstädtischer, dörflicher Raum</td>\n",
       "      <td>-1.012536</td>\n",
       "      <td>-1.012536</td>\n",
       "      <td>2010</td>\n",
       "      <td>1</td>\n",
       "      <td>3</td>\n",
       "      <td>9</td>\n",
       "      <td>0</td>\n",
       "      <td>Montag</td>\n",
       "      <td>2010</td>\n",
       "      <td>2</td>\n",
       "      <td>4</td>\n",
       "      <td>14</td>\n",
       "      <td>0</td>\n",
       "      <td>Montag</td>\n",
       "      <td>2010</td>\n",
       "      <td>2</td>\n",
       "      <td>4</td>\n",
       "      <td>14</td>\n",
       "      <td>5</td>\n",
       "      <td>Samstag</td>\n",
       "      <td>2013</td>\n",
       "      <td>2011</td>\n",
       "      <td>2014</td>\n",
       "      <td>2012</td>\n",
       "      <td>2014</td>\n",
       "      <td>2012</td>\n",
       "      <td>reisebuero</td>\n",
       "      <td>keine</td>\n",
       "      <td>0</td>\n",
       "      <td>5</td>\n",
       "      <td>0</td>\n",
       "      <td>1</td>\n",
       "      <td>35</td>\n",
       "      <td>868.50</td>\n",
       "      <td>347.40</td>\n",
       "      <td>173.70</td>\n",
       "      <td>1</td>\n",
       "      <td>1</td>\n",
       "      <td>0</td>\n",
       "      <td>0</td>\n",
       "    </tr>\n",
       "    <tr>\n",
       "      <th>3</th>\n",
       "      <td>2010-01-25</td>\n",
       "      <td>2010-03-21</td>\n",
       "      <td>2010-03-25</td>\n",
       "      <td>4</td>\n",
       "      <td>4</td>\n",
       "      <td>2</td>\n",
       "      <td>1047</td>\n",
       "      <td>2010</td>\n",
       "      <td>0</td>\n",
       "      <td>0</td>\n",
       "      <td>1</td>\n",
       "      <td>classic</td>\n",
       "      <td>0</td>\n",
       "      <td>1</td>\n",
       "      <td>0</td>\n",
       "      <td>0</td>\n",
       "      <td>0</td>\n",
       "      <td>421.59</td>\n",
       "      <td>1</td>\n",
       "      <td>4</td>\n",
       "      <td>776</td>\n",
       "      <td>6414</td>\n",
       "      <td>69</td>\n",
       "      <td>9</td>\n",
       "      <td>linz</td>\n",
       "      <td>Frau</td>\n",
       "      <td>15732</td>\n",
       "      <td>Eichwalde</td>\n",
       "      <td>0</td>\n",
       "      <td>65-74</td>\n",
       "      <td>Brandenburg</td>\n",
       "      <td>14690</td>\n",
       "      <td>7302</td>\n",
       "      <td>7388</td>\n",
       "      <td>14690</td>\n",
       "      <td>4135</td>\n",
       "      <td>4087</td>\n",
       "      <td>11.965427</td>\n",
       "      <td>11.965427</td>\n",
       "      <td>1227.704</td>\n",
       "      <td>7159</td>\n",
       "      <td>23442.06</td>\n",
       "      <td>105.410</td>\n",
       "      <td>104.087</td>\n",
       "      <td>Landregion - Städtischer Raum</td>\n",
       "      <td>0.417226</td>\n",
       "      <td>0.417226</td>\n",
       "      <td>2010</td>\n",
       "      <td>1</td>\n",
       "      <td>1</td>\n",
       "      <td>4</td>\n",
       "      <td>0</td>\n",
       "      <td>Montag</td>\n",
       "      <td>2010</td>\n",
       "      <td>1</td>\n",
       "      <td>3</td>\n",
       "      <td>11</td>\n",
       "      <td>6</td>\n",
       "      <td>Sonntag</td>\n",
       "      <td>2010</td>\n",
       "      <td>1</td>\n",
       "      <td>3</td>\n",
       "      <td>12</td>\n",
       "      <td>3</td>\n",
       "      <td>Donnerstag</td>\n",
       "      <td>2011</td>\n",
       "      <td>2011</td>\n",
       "      <td>2013</td>\n",
       "      <td>2011</td>\n",
       "      <td>2013</td>\n",
       "      <td>2011</td>\n",
       "      <td>reisebuero</td>\n",
       "      <td>keine</td>\n",
       "      <td>0</td>\n",
       "      <td>4</td>\n",
       "      <td>0</td>\n",
       "      <td>1</td>\n",
       "      <td>55</td>\n",
       "      <td>523.50</td>\n",
       "      <td>261.75</td>\n",
       "      <td>130.88</td>\n",
       "      <td>1</td>\n",
       "      <td>1</td>\n",
       "      <td>0</td>\n",
       "      <td>0</td>\n",
       "    </tr>\n",
       "    <tr>\n",
       "      <th>4</th>\n",
       "      <td>2010-01-26</td>\n",
       "      <td>2010-03-07</td>\n",
       "      <td>2010-03-09</td>\n",
       "      <td>2</td>\n",
       "      <td>2</td>\n",
       "      <td>20</td>\n",
       "      <td>5279</td>\n",
       "      <td>2010</td>\n",
       "      <td>0</td>\n",
       "      <td>0</td>\n",
       "      <td>1</td>\n",
       "      <td>classic</td>\n",
       "      <td>1</td>\n",
       "      <td>0</td>\n",
       "      <td>0</td>\n",
       "      <td>0</td>\n",
       "      <td>0</td>\n",
       "      <td>37.88</td>\n",
       "      <td>0</td>\n",
       "      <td>5</td>\n",
       "      <td>813</td>\n",
       "      <td>2938</td>\n",
       "      <td>113</td>\n",
       "      <td>2</td>\n",
       "      <td>duesseldorf</td>\n",
       "      <td>Frau</td>\n",
       "      <td>53881</td>\n",
       "      <td>Euskirchen</td>\n",
       "      <td>1</td>\n",
       "      <td>45-54</td>\n",
       "      <td>Nordrhein-Westfalen</td>\n",
       "      <td>28531</td>\n",
       "      <td>13975</td>\n",
       "      <td>14556</td>\n",
       "      <td>57975</td>\n",
       "      <td>29578</td>\n",
       "      <td>28397</td>\n",
       "      <td>127.679129</td>\n",
       "      <td>139.430913</td>\n",
       "      <td>204.625</td>\n",
       "      <td>11683</td>\n",
       "      <td>23328.82</td>\n",
       "      <td>104.901</td>\n",
       "      <td>120.110</td>\n",
       "      <td>Stadtregion - Kleinstädtischer, dörflicher Raum</td>\n",
       "      <td>0.212335</td>\n",
       "      <td>-0.579173</td>\n",
       "      <td>2010</td>\n",
       "      <td>1</td>\n",
       "      <td>1</td>\n",
       "      <td>4</td>\n",
       "      <td>1</td>\n",
       "      <td>Dienstag</td>\n",
       "      <td>2010</td>\n",
       "      <td>1</td>\n",
       "      <td>3</td>\n",
       "      <td>9</td>\n",
       "      <td>6</td>\n",
       "      <td>Sonntag</td>\n",
       "      <td>2010</td>\n",
       "      <td>1</td>\n",
       "      <td>3</td>\n",
       "      <td>10</td>\n",
       "      <td>1</td>\n",
       "      <td>Dienstag</td>\n",
       "      <td>2011</td>\n",
       "      <td>2011</td>\n",
       "      <td>2013</td>\n",
       "      <td>2011</td>\n",
       "      <td>2013</td>\n",
       "      <td>2011</td>\n",
       "      <td>reisebuero</td>\n",
       "      <td>keine</td>\n",
       "      <td>0</td>\n",
       "      <td>2</td>\n",
       "      <td>0</td>\n",
       "      <td>1</td>\n",
       "      <td>40</td>\n",
       "      <td>263.95</td>\n",
       "      <td>2639.50</td>\n",
       "      <td>131.98</td>\n",
       "      <td>7</td>\n",
       "      <td>1</td>\n",
       "      <td>0</td>\n",
       "      <td>1</td>\n",
       "    </tr>\n",
       "  </tbody>\n",
       "</table>\n",
       "</div>"
      ],
      "text/plain": [
       "  buchungsdatum anreisedatum abreisedatum  naechte_insgesamt  \\\n",
       "0    2010-01-29   2010-04-02   2010-04-10                  8   \n",
       "1    2010-01-14   2010-04-05   2010-04-10                  5   \n",
       "2    2010-03-01   2010-04-05   2010-04-10                  5   \n",
       "3    2010-01-25   2010-03-21   2010-03-25                  4   \n",
       "4    2010-01-26   2010-03-07   2010-03-09                  2   \n",
       "\n",
       "   gebuchte_naechte  personen_anzahl  gesamtpreis  saison  buchung_telefon  \\\n",
       "0                 8                2         2982    2010                0   \n",
       "1                 5                2         1437    2010                0   \n",
       "2                 5                2         1737    2010                0   \n",
       "3                 4                2         1047    2010                0   \n",
       "4                 2               20         5279    2010                0   \n",
       "\n",
       "   buchung_online  buchung_reisebuero zimmerarten  reise_adventure  \\\n",
       "0               0                   1     classic                0   \n",
       "1               0                   1     classic                0   \n",
       "2               0                   1     classic                0   \n",
       "3               0                   1     classic                0   \n",
       "4               0                   1     classic                1   \n",
       "\n",
       "   reise_relax  reise_standard  reise_genuss  kind  entfernung  zahler  \\\n",
       "0            0               0             1     0      535.48       1   \n",
       "1            0               1             0     0      544.72       0   \n",
       "2            0               1             0     0      606.63       0   \n",
       "3            1               0             0     0      421.59       1   \n",
       "4            0               0             0     0       37.88       0   \n",
       "\n",
       "   kunden_id  buchungsnr  buchungsnr_reisebuero  menue_code  zusatzleistung  \\\n",
       "0          1        1151                    456           5               5   \n",
       "1          2          40                   6413           5               5   \n",
       "2          3        2134                   4322           5               5   \n",
       "3          4         776                   6414          69               9   \n",
       "4          5         813                   2938         113               2   \n",
       "\n",
       "   destination anrede    plz         ort  kundenclub jahrgangsalter_klassiert  \\\n",
       "0         linz   Herr  29664    Walsrode           0                    55-64   \n",
       "1         linz   Frau  50226     Frechen           0                    55-64   \n",
       "2         linz   Herr  23970      Wismar           0                    75-84   \n",
       "3         linz   Frau  15732   Eichwalde           0                    65-74   \n",
       "4  duesseldorf   Frau  53881  Euskirchen           1                    45-54   \n",
       "\n",
       "               bundesland  einwohner_adjusted_plz  bev_m_plz  bev_w_plz  \\\n",
       "0           Niedersachsen                   25173      12540      12633   \n",
       "1     Nordrhein-Westfalen                   52473      25645      26828   \n",
       "2  Mecklenburg-Vorpommern                    1423        692        731   \n",
       "3             Brandenburg                   14690       7302       7388   \n",
       "4     Nordrhein-Westfalen                   28531      13975      14556   \n",
       "\n",
       "   bev_insgesamt_ort  bev_weiblich_ort  bev_maennlich_ort     qkm_plz  \\\n",
       "0              25173             11577              11491  344.326464   \n",
       "1              52473             26828              25645   45.118960   \n",
       "2              46442             21844              20706   50.563027   \n",
       "3              14690              4135               4087   11.965427   \n",
       "4              57975             29578              28397  127.679129   \n",
       "\n",
       "   flaeche_ort  einwohnerdichte_prokm2_plz  haushalte_regiog_2017_plz  \\\n",
       "0   344.326464                      73.108                      11453   \n",
       "1    45.118960                    1162.992                      26227   \n",
       "2    83.131346                      17.117                       6355   \n",
       "3    11.965427                    1227.704                       7159   \n",
       "4   139.430913                     204.625                      11683   \n",
       "\n",
       "   kaufkraft_einwohner_in_eur_regio  kk_einwohner_index_regiog_2017  \\\n",
       "0                          20641.89                          92.819   \n",
       "1                          25268.58                         113.623   \n",
       "2                          18697.65                          84.076   \n",
       "3                          23442.06                         105.410   \n",
       "4                          23328.82                         104.901   \n",
       "\n",
       "   kk_hh_index_regiog_2017                       gemeindetyp_regiostar_2016  \\\n",
       "0                   98.104                      Landregion - Zentrale Stadt   \n",
       "1                  111.379                      Landregion - Zentrale Stadt   \n",
       "2                   73.665  Stadtregion - Kleinstädtischer, dörflicher Raum   \n",
       "3                  104.087                    Landregion - Städtischer Raum   \n",
       "4                  120.110  Stadtregion - Kleinstädtischer, dörflicher Raum   \n",
       "\n",
       "   wirtschaftskraftmr1  wirtschaftskraftmr2  buchungsjahr  buchungsquartal  \\\n",
       "0            -0.333392            -0.388738          2010                1   \n",
       "1             0.853802            -0.345112          2010                1   \n",
       "2            -1.012536            -1.012536          2010                1   \n",
       "3             0.417226             0.417226          2010                1   \n",
       "4             0.212335            -0.579173          2010                1   \n",
       "\n",
       "   buchungsmonat  buchungswoche  buchungstag buchung_wochentag  anreisejahr  \\\n",
       "0              1              4            4           Freitag         2010   \n",
       "1              1              2            3        Donnerstag         2010   \n",
       "2              3              9            0            Montag         2010   \n",
       "3              1              4            0            Montag         2010   \n",
       "4              1              4            1          Dienstag         2010   \n",
       "\n",
       "   anreisequartal  anreisemonat  anreisewoche  anreisetag anreise_wochentag  \\\n",
       "0               2             4            13           4           Freitag   \n",
       "1               2             4            14           0            Montag   \n",
       "2               2             4            14           0            Montag   \n",
       "3               1             3            11           6           Sonntag   \n",
       "4               1             3             9           6           Sonntag   \n",
       "\n",
       "   abreisejahr  abreisequartal  abreisemonat  abreisewoche  abreisetag  \\\n",
       "0         2010               2             4            14           5   \n",
       "1         2010               2             4            14           5   \n",
       "2         2010               2             4            14           5   \n",
       "3         2010               1             3            12           3   \n",
       "4         2010               1             3            10           1   \n",
       "\n",
       "  abreise_wochentag  buchungsmonat-jahr  buchungsquartal-jahr  \\\n",
       "0           Samstag                2011                  2011   \n",
       "1           Samstag                2011                  2011   \n",
       "2           Samstag                2013                  2011   \n",
       "3        Donnerstag                2011                  2011   \n",
       "4          Dienstag                2011                  2011   \n",
       "\n",
       "   anreisemonat-jahr  anreisequartal-jahr  abreisemonat-jahr  \\\n",
       "0               2014                 2012               2014   \n",
       "1               2014                 2012               2014   \n",
       "2               2014                 2012               2014   \n",
       "3               2013                 2011               2013   \n",
       "4               2013                 2011               2013   \n",
       "\n",
       "   abreisequartal-jahr buchungskanal werbe_ban  anz_werbe_ban  aufenthalt  \\\n",
       "0                 2012    reisebuero     keine              0           8   \n",
       "1                 2012    reisebuero  generell              5           5   \n",
       "2                 2012    reisebuero     keine              0           5   \n",
       "3                 2011    reisebuero     keine              0           4   \n",
       "4                 2011    reisebuero     keine              0           2   \n",
       "\n",
       "   naechte_ausserhalb  anz_buch  buchungsvorlauf  preis_per  preis_nacht  \\\n",
       "0                   0         1               63    1491.00       372.75   \n",
       "1                   0         1               81     718.50       287.40   \n",
       "2                   0         1               35     868.50       347.40   \n",
       "3                   0         1               55     523.50       261.75   \n",
       "4                   0         1               40     263.95      2639.50   \n",
       "\n",
       "   preis_nacht_per  buch_zeilen  erstbuchung  folgebuchung  repeater  \n",
       "0           186.38            2            1             0         0  \n",
       "1           143.70            2            1             0         0  \n",
       "2           173.70            1            1             0         0  \n",
       "3           130.88            1            1             0         0  \n",
       "4           131.98            7            1             0         1  "
      ]
     },
     "execution_count": 6,
     "metadata": {},
     "output_type": "execute_result"
    }
   ],
   "source": [
    "df.head()"
   ]
  },
  {
   "cell_type": "markdown",
   "metadata": {},
   "source": [
    "## Preparation"
   ]
  },
  {
   "cell_type": "markdown",
   "metadata": {},
   "source": [
    "#### Dropping redundant variables"
   ]
  },
  {
   "cell_type": "code",
   "execution_count": 7,
   "metadata": {
    "ExecuteTime": {
     "end_time": "2020-08-06T20:18:46.617496Z",
     "start_time": "2020-08-06T20:18:46.554665Z"
    }
   },
   "outputs": [],
   "source": [
    "df.drop(\"buchungskanal\", axis=1, inplace=True)\n",
    "df.drop(\"werbe_ban\", axis=1, inplace=True)"
   ]
  },
  {
   "cell_type": "markdown",
   "metadata": {},
   "source": [
    "#### Grouping variables"
   ]
  },
  {
   "cell_type": "code",
   "execution_count": 8,
   "metadata": {
    "ExecuteTime": {
     "end_time": "2020-08-06T20:18:46.649411Z",
     "start_time": "2020-08-06T20:18:46.618494Z"
    }
   },
   "outputs": [
    {
     "data": {
      "text/plain": [
       "True"
      ]
     },
     "execution_count": 8,
     "metadata": {},
     "output_type": "execute_result"
    }
   ],
   "source": [
    "categorial = list(df.columns[df.dtypes==object])\n",
    "datetime64 = ['buchungsdatum', 'anreisedatum', 'abreisedatum']\n",
    "numeric    = list(df.select_dtypes(include=['int64', 'float64']).columns)\n",
    "\n",
    "for entry in ['erstbuchung', 'repeater', 'kunden_id', 'folgebuchung', 'menue_code', 'zusatzleistung', 'plz', 'kundenclub']: \n",
    "    numeric.remove(entry)\n",
    "    \n",
    "for entry in ['menue_code', 'zusatzleistung']: \n",
    "    categorial.append(entry)    \n",
    "\n",
    "categorial.remove('ort')\n",
    "\n",
    "# 7 = 'erstbuchung', 'repeater', 'kunden_id', 'folgebuchung', 'plz', 'kundenclub', 'ort'\n",
    "df.shape[1] == len(categorial) + len(datetime64) + len(numeric) + 7"
   ]
  },
  {
   "cell_type": "markdown",
   "metadata": {},
   "source": [
    "#### renaming destinations"
   ]
  },
  {
   "cell_type": "code",
   "execution_count": 9,
   "metadata": {
    "ExecuteTime": {
     "end_time": "2020-08-06T20:18:46.695794Z",
     "start_time": "2020-08-06T20:18:46.650409Z"
    }
   },
   "outputs": [],
   "source": [
    "aenderung = { \"saint etienne\": \"saint-etienne\",\n",
    "              \"viana do castelo\": \"viana-do-castelo\",\n",
    "            }\n",
    "\n",
    "df.destination.replace(aenderung, inplace=True)\n",
    "\n",
    "aenderung2 = {\n",
    "\"Landregion - Kleinstädtischer, dörflicher Raum\": \"Kleinstädt_(Land)\",\n",
    "\"Landregion - Städtischer Raum\": \"Stadt_(Land)\",\n",
    "\"Landregion - Zentrale Stadt\": \"zen_Stadt_(Land)\",\n",
    "\"Stadtregion - Kleinstädtischer, dörflicher Raum\": \"Kleinstädt_(Stadt)\",\n",
    "\"Stadtregion - Metropole\": \"Metropole\",\n",
    "\"Stadtregion - Mittelstadt, städtischer Raum\": \"Mittelstadt\",\n",
    "\"Stadtregion -Regiopole und Großstadt\": \"Regiopole\"\n",
    "    }\n",
    "\n",
    "df.gemeindetyp_regiostar_2016.replace(aenderung2, inplace=True)"
   ]
  },
  {
   "cell_type": "markdown",
   "metadata": {},
   "source": [
    "### Dummy Variable"
   ]
  },
  {
   "cell_type": "code",
   "execution_count": 10,
   "metadata": {
    "ExecuteTime": {
     "end_time": "2020-08-06T20:18:46.806006Z",
     "start_time": "2020-08-06T20:18:46.696792Z"
    }
   },
   "outputs": [
    {
     "data": {
      "text/plain": [
       "(160259, 67)"
      ]
     },
     "execution_count": 10,
     "metadata": {},
     "output_type": "execute_result"
    }
   ],
   "source": [
    "df_dum = pd.get_dummies(df[categorial])\n",
    "# bei vielen Ausprägungen bins, erst einmal ohne\n",
    "df_dum.shape"
   ]
  },
  {
   "cell_type": "markdown",
   "metadata": {},
   "source": [
    "Transform menue_code and zusatzleistung to string to convert to dummies"
   ]
  },
  {
   "cell_type": "code",
   "execution_count": 11,
   "metadata": {
    "ExecuteTime": {
     "end_time": "2020-08-06T20:18:46.979542Z",
     "start_time": "2020-08-06T20:18:46.807003Z"
    }
   },
   "outputs": [],
   "source": [
    "df.menue_code     = df.menue_code.astype(\"str\")\n",
    "df.zusatzleistung = df.zusatzleistung.astype(\"str\")"
   ]
  },
  {
   "cell_type": "markdown",
   "metadata": {},
   "source": [
    "## Logistic Regression\n",
    "Basic (only numeric features)"
   ]
  },
  {
   "cell_type": "code",
   "execution_count": 12,
   "metadata": {
    "ExecuteTime": {
     "end_time": "2020-08-06T20:18:47.087254Z",
     "start_time": "2020-08-06T20:18:46.980539Z"
    }
   },
   "outputs": [],
   "source": [
    "X = df[numeric]\n",
    "y = df.folgebuchung\n",
    "\n",
    "X_train, X_test, y_train, y_test = train_test_split(X, y, test_size=0.10, random_state=1337)"
   ]
  },
  {
   "cell_type": "code",
   "execution_count": 13,
   "metadata": {
    "ExecuteTime": {
     "end_time": "2020-08-06T20:19:38.162151Z",
     "start_time": "2020-08-06T20:18:47.088252Z"
    }
   },
   "outputs": [],
   "source": [
    "lr1 = LogisticRegression(solver='liblinear', max_iter=10_000)\n",
    "\n",
    "scoring = ['precision_macro', 'recall_macro', 'f1_macro', ]\n",
    "scores1 = cross_validate(lr1, X_train, y_train, cv=5, scoring=scoring, return_train_score=False)\n",
    "# cv can also return train score but we set it to false\n",
    "\n",
    "y_pred1 = cross_val_predict(lr1, X_train, y_train, cv=5)"
   ]
  },
  {
   "cell_type": "markdown",
   "metadata": {},
   "source": [
    "### extended Logistic Regression\n",
    "(categorial variables as dummies)"
   ]
  },
  {
   "cell_type": "code",
   "execution_count": 14,
   "metadata": {
    "ExecuteTime": {
     "end_time": "2020-08-06T20:19:38.384108Z",
     "start_time": "2020-08-06T20:19:38.162151Z"
    }
   },
   "outputs": [],
   "source": [
    "X = pd.concat([df[numeric], df_dum], axis=1)\n",
    "y = df.folgebuchung\n",
    "\n",
    "X_train, X_test, y_train, y_test = train_test_split(X, y, test_size=0.10, random_state=1337)"
   ]
  },
  {
   "cell_type": "code",
   "execution_count": 15,
   "metadata": {
    "ExecuteTime": {
     "end_time": "2020-08-06T20:20:51.567130Z",
     "start_time": "2020-08-06T20:19:38.385106Z"
    }
   },
   "outputs": [],
   "source": [
    "lr2 = LogisticRegression(solver='liblinear', max_iter=10_000)\n",
    "\n",
    "scores2 = cross_validate(lr2, X_train, y_train, cv=5, scoring=scoring, return_train_score=False)\n",
    "\n",
    "y_pred2 = cross_val_predict(lr2, X_train, y_train, cv=5)"
   ]
  },
  {
   "cell_type": "markdown",
   "metadata": {},
   "source": [
    "### Dealing with imbalace \n",
    "in target feature folgebuchung by resampling"
   ]
  },
  {
   "cell_type": "code",
   "execution_count": 16,
   "metadata": {
    "ExecuteTime": {
     "end_time": "2020-08-06T20:20:51.582281Z",
     "start_time": "2020-08-06T20:20:51.567130Z"
    }
   },
   "outputs": [
    {
     "data": {
      "text/plain": [
       "0    129462\n",
       "1     30797\n",
       "Name: folgebuchung, dtype: int64"
      ]
     },
     "execution_count": 16,
     "metadata": {},
     "output_type": "execute_result"
    }
   ],
   "source": [
    "df.folgebuchung.value_counts()"
   ]
  },
  {
   "cell_type": "markdown",
   "metadata": {},
   "source": [
    "#### Upsampling"
   ]
  },
  {
   "cell_type": "code",
   "execution_count": 17,
   "metadata": {
    "ExecuteTime": {
     "end_time": "2020-08-06T20:20:51.815670Z",
     "start_time": "2020-08-06T20:20:51.583278Z"
    }
   },
   "outputs": [
    {
     "data": {
      "text/plain": [
       "1    116558\n",
       "0    116558\n",
       "Name: folgebuchung, dtype: int64"
      ]
     },
     "execution_count": 17,
     "metadata": {},
     "output_type": "execute_result"
    }
   ],
   "source": [
    "# concatenate our training data back together\n",
    "X = pd.concat([X_train, y_train], axis=1)\n",
    "\n",
    "# separate minority and majority classes\n",
    "erstbuchung  = X[X.folgebuchung==0]\n",
    "folgebuchung = X[X.folgebuchung==1]\n",
    "\n",
    "# upsample minority\n",
    "folgebuchung_upsampled = resample(folgebuchung, replace=True, \n",
    "                          n_samples=len(erstbuchung), # match number in majority class\n",
    "                          random_state=1337) \n",
    "\n",
    "# combine majority and upsampled minority\n",
    "upsampled = pd.concat([erstbuchung, folgebuchung_upsampled])\n",
    "\n",
    "upsampled.folgebuchung.value_counts()"
   ]
  },
  {
   "cell_type": "markdown",
   "metadata": {},
   "source": [
    "#### Downsampling"
   ]
  },
  {
   "cell_type": "code",
   "execution_count": 18,
   "metadata": {
    "ExecuteTime": {
     "end_time": "2020-08-06T20:20:51.972754Z",
     "start_time": "2020-08-06T20:20:51.816667Z"
    }
   },
   "outputs": [
    {
     "data": {
      "text/plain": [
       "1    27675\n",
       "0    27675\n",
       "Name: folgebuchung, dtype: int64"
      ]
     },
     "execution_count": 18,
     "metadata": {},
     "output_type": "execute_result"
    }
   ],
   "source": [
    "# concatenate our training data back together\n",
    "X = pd.concat([X_train, y_train], axis=1)\n",
    "\n",
    "# separate minority and majority classes\n",
    "erstbuchung  = X[X.folgebuchung==0]\n",
    "folgebuchung = X[X.folgebuchung==1]\n",
    "\n",
    "# downsample majority\n",
    "erstbuchung_downsampled = resample(erstbuchung, replace=False, \n",
    "                          n_samples=len(folgebuchung), # match minority n\n",
    "                          random_state=1337) \n",
    "\n",
    "# combine majority and upsampled minority\n",
    "downsampled = pd.concat([folgebuchung, erstbuchung_downsampled])\n",
    "\n",
    "downsampled.folgebuchung.value_counts()"
   ]
  },
  {
   "cell_type": "markdown",
   "metadata": {},
   "source": [
    "### balanced Logistic Regression\n",
    "with downsampled data and additional dummy variables"
   ]
  },
  {
   "cell_type": "code",
   "execution_count": 19,
   "metadata": {
    "ExecuteTime": {
     "end_time": "2020-08-06T20:28:31.060479Z",
     "start_time": "2020-08-06T20:20:51.973752Z"
    }
   },
   "outputs": [],
   "source": [
    "y_train = upsampled.folgebuchung\n",
    "X_train = upsampled.drop('folgebuchung', axis=1)\n",
    "\n",
    "lr3 = LogisticRegression(solver='liblinear', max_iter=10_000)\n",
    "\n",
    "scores3 = cross_validate(lr3, X_train, y_train, cv=5, scoring=scoring, return_train_score=False)"
   ]
  },
  {
   "cell_type": "markdown",
   "metadata": {},
   "source": [
    "### balanced Logistic Regression\n",
    "downsampled"
   ]
  },
  {
   "cell_type": "code",
   "execution_count": 20,
   "metadata": {
    "ExecuteTime": {
     "end_time": "2020-08-06T20:29:45.949484Z",
     "start_time": "2020-08-06T20:28:31.060479Z"
    }
   },
   "outputs": [],
   "source": [
    "y_train = downsampled.folgebuchung\n",
    "X_train = downsampled.drop('folgebuchung', axis=1)\n",
    "\n",
    "lr4 = LogisticRegression(solver='liblinear', max_iter=10_000)\n",
    "\n",
    "scores4 = cross_validate(lr4, X_train, y_train, cv=5, scoring=scoring, return_train_score=False)"
   ]
  },
  {
   "cell_type": "markdown",
   "metadata": {},
   "source": [
    "# Decision Trees\n",
    "## Random forest"
   ]
  },
  {
   "cell_type": "code",
   "execution_count": 24,
   "metadata": {
    "ExecuteTime": {
     "end_time": "2020-08-06T20:31:54.231735Z",
     "start_time": "2020-08-06T20:31:54.062477Z"
    }
   },
   "outputs": [
    {
     "ename": "NameError",
     "evalue": "name 'RandomForestClassifier' is not defined",
     "output_type": "error",
     "traceback": [
      "\u001b[1;31m---------------------------------------------------------------------------\u001b[0m",
      "\u001b[1;31mNameError\u001b[0m                                 Traceback (most recent call last)",
      "\u001b[1;32m<ipython-input-24-3c346827bd36>\u001b[0m in \u001b[0;36m<module>\u001b[1;34m\u001b[0m\n\u001b[0;32m      4\u001b[0m \u001b[0mX_train\u001b[0m\u001b[1;33m,\u001b[0m \u001b[0mX_test\u001b[0m\u001b[1;33m,\u001b[0m \u001b[0my_train\u001b[0m\u001b[1;33m,\u001b[0m \u001b[0my_test\u001b[0m \u001b[1;33m=\u001b[0m \u001b[0mtrain_test_split\u001b[0m\u001b[1;33m(\u001b[0m\u001b[0mX\u001b[0m\u001b[1;33m,\u001b[0m \u001b[0my\u001b[0m\u001b[1;33m,\u001b[0m \u001b[0mtest_size\u001b[0m\u001b[1;33m=\u001b[0m\u001b[1;36m0.10\u001b[0m\u001b[1;33m,\u001b[0m \u001b[0mrandom_state\u001b[0m\u001b[1;33m=\u001b[0m\u001b[1;36m1337\u001b[0m\u001b[1;33m)\u001b[0m\u001b[1;33m\u001b[0m\u001b[1;33m\u001b[0m\u001b[0m\n\u001b[0;32m      5\u001b[0m \u001b[1;33m\u001b[0m\u001b[0m\n\u001b[1;32m----> 6\u001b[1;33m \u001b[0mlr5\u001b[0m \u001b[1;33m=\u001b[0m \u001b[0mRandomForestClassifier\u001b[0m\u001b[1;33m(\u001b[0m\u001b[0mmax_depth\u001b[0m\u001b[1;33m=\u001b[0m\u001b[1;36m2\u001b[0m\u001b[1;33m,\u001b[0m \u001b[0mrandom_state\u001b[0m\u001b[1;33m=\u001b[0m\u001b[1;36m0\u001b[0m\u001b[1;33m)\u001b[0m\u001b[1;33m\u001b[0m\u001b[1;33m\u001b[0m\u001b[0m\n\u001b[0m\u001b[0;32m      7\u001b[0m \u001b[1;33m\u001b[0m\u001b[0m\n\u001b[0;32m      8\u001b[0m \u001b[0mscores5\u001b[0m \u001b[1;33m=\u001b[0m \u001b[0mcross_validate\u001b[0m\u001b[1;33m(\u001b[0m\u001b[0mlr5\u001b[0m\u001b[1;33m,\u001b[0m \u001b[0mX_train\u001b[0m\u001b[1;33m,\u001b[0m \u001b[0my_train\u001b[0m\u001b[1;33m,\u001b[0m \u001b[0mcv\u001b[0m\u001b[1;33m=\u001b[0m\u001b[1;36m5\u001b[0m\u001b[1;33m,\u001b[0m \u001b[0mscoring\u001b[0m\u001b[1;33m=\u001b[0m\u001b[0mscoring\u001b[0m\u001b[1;33m,\u001b[0m \u001b[0mreturn_train_score\u001b[0m\u001b[1;33m=\u001b[0m\u001b[1;32mFalse\u001b[0m\u001b[1;33m)\u001b[0m\u001b[1;33m\u001b[0m\u001b[1;33m\u001b[0m\u001b[0m\n",
      "\u001b[1;31mNameError\u001b[0m: name 'RandomForestClassifier' is not defined"
     ]
    }
   ],
   "source": [
    "X = pd.concat([df[numeric], df_dum], axis=1)\n",
    "y = df.folgebuchung\n",
    "\n",
    "#X, y = make_classification(n_samples=1000, n_features=4, n_informative=2, n_redundant=0, random_state=0, shuffle=False)\n",
    "\n",
    "\n",
    "X_train, X_test, y_train, y_test = train_test_split(X, y, test_size=0.10, random_state=1337)\n",
    "\n",
    "lr5 = RandomForestClassifier(max_depth=2, random_state=0)\n",
    "\n",
    "scores5 = cross_validate(lr5, X_train, y_train, cv=5, scoring=scoring, return_train_score=False)"
   ]
  },
  {
   "cell_type": "code",
   "execution_count": null,
   "metadata": {},
   "outputs": [],
   "source": []
  },
  {
   "cell_type": "code",
   "execution_count": null,
   "metadata": {},
   "outputs": [],
   "source": []
  },
  {
   "cell_type": "markdown",
   "metadata": {},
   "source": [
    "a. max_leaves (here: 6)\n",
    "b. max_depth (here: 3)\n",
    "c. min_sample_split (here: 400)\n",
    "d. max_features (here: 6) - not always helpful"
   ]
  },
  {
   "cell_type": "code",
   "execution_count": null,
   "metadata": {},
   "outputs": [],
   "source": []
  },
  {
   "cell_type": "markdown",
   "metadata": {},
   "source": [
    "#### Confusion Matrix & Classification Report\n",
    "<img src=\"img/conf_matrix.png\" alt=\"Drawing\" style=\"width: 400px;\"/>"
   ]
  },
  {
   "cell_type": "code",
   "execution_count": null,
   "metadata": {
    "ExecuteTime": {
     "end_time": "2020-08-06T19:19:25.232236Z",
     "start_time": "2020-08-06T19:17:16.900Z"
    }
   },
   "outputs": [],
   "source": []
  },
  {
   "cell_type": "code",
   "execution_count": null,
   "metadata": {
    "ExecuteTime": {
     "end_time": "2020-08-06T19:19:25.233233Z",
     "start_time": "2020-08-06T19:17:16.901Z"
    }
   },
   "outputs": [],
   "source": []
  },
  {
   "cell_type": "markdown",
   "metadata": {
    "ExecuteTime": {
     "end_time": "2020-08-06T11:38:46.979303Z",
     "start_time": "2020-08-06T11:34:46.984Z"
    }
   },
   "source": [
    "Feature Importance"
   ]
  },
  {
   "cell_type": "code",
   "execution_count": null,
   "metadata": {
    "ExecuteTime": {
     "end_time": "2020-08-06T20:29:46.422480Z",
     "start_time": "2020-08-06T20:18:44.261Z"
    }
   },
   "outputs": [],
   "source": [
    "#clf = svm.SVC(kernel='linear', C=1).fit(X_train, y_train)"
   ]
  },
  {
   "cell_type": "markdown",
   "metadata": {},
   "source": [
    "Receiver Operating Statistic (ROC) and the Area Under the Curve (AUC)"
   ]
  },
  {
   "cell_type": "code",
   "execution_count": null,
   "metadata": {
    "ExecuteTime": {
     "end_time": "2020-08-06T20:29:46.423476Z",
     "start_time": "2020-08-06T20:18:44.266Z"
    }
   },
   "outputs": [],
   "source": [
    "stop\n",
    "\n",
    "fpr_RF, tpr_RF, thresholds_RF = roc_curve(df.actual_label.values, df.model_RF.values)\n",
    "fpr_LR, tpr_LR, thresholds_LR = roc_curve(df.actual_label.values, df.model_LR.values)\n",
    "\n",
    "plt.plot(fpr_RF, tpr_RF,'r-',label = 'RF')\n",
    "plt.plot(fpr_LR,tpr_LR,'b-', label= 'LR')\n",
    "plt.plot([0,1],[0,1],'k-',label='random')\n",
    "plt.plot([0,0,1,1],[0,1,1,1],'g-',label='perfect')\n",
    "plt.legend()\n",
    "plt.xlabel('False Positive Rate')\n",
    "plt.ylabel('True Positive Rate')\n",
    "plt.show()"
   ]
  },
  {
   "cell_type": "code",
   "execution_count": null,
   "metadata": {
    "ExecuteTime": {
     "end_time": "2020-08-06T20:29:46.423476Z",
     "start_time": "2020-08-06T20:18:44.268Z"
    }
   },
   "outputs": [],
   "source": [
    "#https://stackoverflow.com/questions/62658215/convergencewarning-lbfgs-failed-to-converge-status-1-stop-total-no-of-iter\n",
    "\n",
    "#sklearn.pipeline.Pipeline "
   ]
  },
  {
   "cell_type": "code",
   "execution_count": null,
   "metadata": {},
   "outputs": [],
   "source": []
  },
  {
   "cell_type": "code",
   "execution_count": null,
   "metadata": {
    "ExecuteTime": {
     "end_time": "2020-08-06T20:29:46.424474Z",
     "start_time": "2020-08-06T20:18:44.270Z"
    }
   },
   "outputs": [],
   "source": [
    "#df_dum.head(2)"
   ]
  },
  {
   "cell_type": "code",
   "execution_count": null,
   "metadata": {
    "ExecuteTime": {
     "end_time": "2020-08-06T20:29:46.425471Z",
     "start_time": "2020-08-06T20:18:44.272Z"
    }
   },
   "outputs": [],
   "source": [
    "#categorial"
   ]
  },
  {
   "cell_type": "code",
   "execution_count": null,
   "metadata": {
    "ExecuteTime": {
     "end_time": "2020-08-06T20:29:46.425471Z",
     "start_time": "2020-08-06T20:18:44.273Z"
    }
   },
   "outputs": [],
   "source": [
    "conf_matrix1 = confusion_matrix(y_test, y_pred1)\n",
    "class_rep1 = classification_report(y_test, y_pred1)\n",
    "acc1 = accuracy_score(y_test, y_pred)*100\n",
    "pre1 = precision_score(y_test, y_pred)*100\n",
    "rec1 = recall_score(y_test, y_pred)*100\n",
    "f1-1 = f1_score(y_test, y_pred)*100\n",
    "score1"
   ]
  }
 ],
 "metadata": {
  "kernelspec": {
   "display_name": "Python 3",
   "language": "python",
   "name": "python3"
  },
  "language_info": {
   "codemirror_mode": {
    "name": "ipython",
    "version": 3
   },
   "file_extension": ".py",
   "mimetype": "text/x-python",
   "name": "python",
   "nbconvert_exporter": "python",
   "pygments_lexer": "ipython3",
   "version": "3.8.3"
  },
  "latex_envs": {
   "LaTeX_envs_menu_present": true,
   "autoclose": false,
   "autocomplete": true,
   "bibliofile": "biblio.bib",
   "cite_by": "apalike",
   "current_citInitial": 1,
   "eqLabelWithNumbers": true,
   "eqNumInitial": 1,
   "hotkeys": {
    "equation": "Ctrl-E",
    "itemize": "Ctrl-I"
   },
   "labels_anchors": false,
   "latex_user_defs": false,
   "report_style_numbering": false,
   "user_envs_cfg": false
  },
  "varInspector": {
   "cols": {
    "lenName": 16,
    "lenType": 16,
    "lenVar": 40
   },
   "kernels_config": {
    "python": {
     "delete_cmd_postfix": "",
     "delete_cmd_prefix": "del ",
     "library": "var_list.py",
     "varRefreshCmd": "print(var_dic_list())"
    },
    "r": {
     "delete_cmd_postfix": ") ",
     "delete_cmd_prefix": "rm(",
     "library": "var_list.r",
     "varRefreshCmd": "cat(var_dic_list()) "
    }
   },
   "types_to_exclude": [
    "module",
    "function",
    "builtin_function_or_method",
    "instance",
    "_Feature"
   ],
   "window_display": false
  }
 },
 "nbformat": 4,
 "nbformat_minor": 4
}
