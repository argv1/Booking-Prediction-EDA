{
 "cells": [
  {
   "cell_type": "markdown",
   "metadata": {},
   "source": [
    "# Capstone Hotel reservation prediction\n",
    "\n",
    "![Logo](img/hotel-logo.png)"
   ]
  },
  {
   "cell_type": "markdown",
   "metadata": {},
   "source": [
    "## Modelling Repeater\n",
    "#### (Folgebuchung)"
   ]
  },
  {
   "cell_type": "markdown",
   "metadata": {},
   "source": [
    "### Import required libraries"
   ]
  },
  {
   "cell_type": "code",
   "execution_count": 1,
   "metadata": {
    "ExecuteTime": {
     "end_time": "2020-08-23T15:12:50.176283Z",
     "start_time": "2020-08-23T15:12:48.897701Z"
    }
   },
   "outputs": [],
   "source": [
    "import pandas as pd\n",
    "import numpy as np\n",
    "pd.set_option(\"display.max_columns\", None)\n",
    "\n",
    "#modelling\n",
    "from sklearn import preprocessing\n",
    "from sklearn.datasets import make_classification\n",
    "from sklearn.ensemble import AdaBoostClassifier, RandomForestClassifier\n",
    "from sklearn.inspection import permutation_importance\n",
    "from sklearn.linear_model import LogisticRegression\n",
    "from sklearn.metrics import accuracy_score, classification_report, confusion_matrix, f1_score, precision_score, recall_score, roc_auc_score, roc_curve\n",
    "from sklearn.model_selection import cross_val_score, cross_validate, cross_val_predict, RandomizedSearchCV, train_test_split\n",
    "from sklearn.naive_bayes import GaussianNB\n",
    "from sklearn.neighbors import KNeighborsClassifier\n",
    "from sklearn.svm import SVC\n",
    "from sklearn.tree import DecisionTreeClassifier\n",
    "from sklearn.utils import resample\n",
    "\n",
    "#visualisations\n",
    "import seaborn as sns\n",
    "import matplotlib.pyplot as plt\n",
    "sns.set(style=\"whitegrid\")\n",
    "\n",
    "import visuals as vs\n",
    "\n",
    "%matplotlib inline"
   ]
  },
  {
   "cell_type": "markdown",
   "metadata": {},
   "source": [
    "#### Loading cleaned dataset"
   ]
  },
  {
   "cell_type": "code",
   "execution_count": 2,
   "metadata": {
    "ExecuteTime": {
     "end_time": "2020-08-23T15:12:52.072214Z",
     "start_time": "2020-08-23T15:12:50.177281Z"
    }
   },
   "outputs": [],
   "source": [
    "df = pd.read_csv(\"data/dataset_w_feature.csv\", index_col=0, encoding=\"iso-8859-15\")"
   ]
  },
  {
   "cell_type": "code",
   "execution_count": 3,
   "metadata": {
    "ExecuteTime": {
     "end_time": "2020-08-23T15:12:52.211841Z",
     "start_time": "2020-08-23T15:12:52.073211Z"
    }
   },
   "outputs": [],
   "source": [
    "df[\"buchungsdatum\"]      = pd.to_datetime(df[\"buchungsdatum\"])\n",
    "df[\"anreisedatum\"]       = pd.to_datetime(df[\"anreisedatum\"])\n",
    "df[\"abreisedatum\"]       = pd.to_datetime(df[\"abreisedatum\"])"
   ]
  },
  {
   "cell_type": "code",
   "execution_count": 4,
   "metadata": {
    "ExecuteTime": {
     "end_time": "2020-08-23T15:12:52.275670Z",
     "start_time": "2020-08-23T15:12:52.212839Z"
    }
   },
   "outputs": [
    {
     "data": {
      "text/html": [
       "<div>\n",
       "<style scoped>\n",
       "    .dataframe tbody tr th:only-of-type {\n",
       "        vertical-align: middle;\n",
       "    }\n",
       "\n",
       "    .dataframe tbody tr th {\n",
       "        vertical-align: top;\n",
       "    }\n",
       "\n",
       "    .dataframe thead th {\n",
       "        text-align: right;\n",
       "    }\n",
       "</style>\n",
       "<table border=\"1\" class=\"dataframe\">\n",
       "  <thead>\n",
       "    <tr style=\"text-align: right;\">\n",
       "      <th></th>\n",
       "      <th>buchungsdatum</th>\n",
       "      <th>anreisedatum</th>\n",
       "      <th>abreisedatum</th>\n",
       "      <th>naechte_insgesamt</th>\n",
       "      <th>gebuchte_naechte</th>\n",
       "      <th>personen_anzahl</th>\n",
       "      <th>gesamtpreis</th>\n",
       "      <th>saison</th>\n",
       "      <th>buchung_telefon</th>\n",
       "      <th>buchung_online</th>\n",
       "      <th>buchung_reisebuero</th>\n",
       "      <th>zimmerarten</th>\n",
       "      <th>reise_adventure</th>\n",
       "      <th>reise_relax</th>\n",
       "      <th>reise_standard</th>\n",
       "      <th>reise_genuss</th>\n",
       "      <th>kind</th>\n",
       "      <th>entfernung</th>\n",
       "      <th>zahler</th>\n",
       "      <th>kunden_id</th>\n",
       "      <th>buchungsnr</th>\n",
       "      <th>buchungsnr_reisebuero</th>\n",
       "      <th>menue_code</th>\n",
       "      <th>zusatzleistung</th>\n",
       "      <th>destination</th>\n",
       "      <th>anrede</th>\n",
       "      <th>plz</th>\n",
       "      <th>ort</th>\n",
       "      <th>kundenclub</th>\n",
       "      <th>jahrgangsalter_klassiert</th>\n",
       "      <th>bundesland</th>\n",
       "      <th>einwohner_adjusted_plz</th>\n",
       "      <th>bev_m_plz</th>\n",
       "      <th>bev_w_plz</th>\n",
       "      <th>bev_insgesamt_ort</th>\n",
       "      <th>bev_weiblich_ort</th>\n",
       "      <th>bev_maennlich_ort</th>\n",
       "      <th>qkm_plz</th>\n",
       "      <th>flaeche_ort</th>\n",
       "      <th>einwohnerdichte_prokm2_plz</th>\n",
       "      <th>haushalte_regiog_2017_plz</th>\n",
       "      <th>kaufkraft_einwohner_in_eur_regio</th>\n",
       "      <th>kk_einwohner_index_regiog_2017</th>\n",
       "      <th>kk_hh_index_regiog_2017</th>\n",
       "      <th>gemeindetyp_regiostar_2016</th>\n",
       "      <th>wirtschaftskraftmr1</th>\n",
       "      <th>wirtschaftskraftmr2</th>\n",
       "      <th>buchungsjahr</th>\n",
       "      <th>buchungsquartal</th>\n",
       "      <th>buchungsmonat</th>\n",
       "      <th>buchungswoche</th>\n",
       "      <th>buchungstag</th>\n",
       "      <th>buchung_wochentag</th>\n",
       "      <th>anreisejahr</th>\n",
       "      <th>anreisequartal</th>\n",
       "      <th>anreisemonat</th>\n",
       "      <th>anreisewoche</th>\n",
       "      <th>anreisetag</th>\n",
       "      <th>anreise_wochentag</th>\n",
       "      <th>abreisejahr</th>\n",
       "      <th>abreisequartal</th>\n",
       "      <th>abreisemonat</th>\n",
       "      <th>abreisewoche</th>\n",
       "      <th>abreisetag</th>\n",
       "      <th>abreise_wochentag</th>\n",
       "      <th>buchungsmonat-jahr</th>\n",
       "      <th>buchungsquartal-jahr</th>\n",
       "      <th>anreisemonat-jahr</th>\n",
       "      <th>anreisequartal-jahr</th>\n",
       "      <th>abreisemonat-jahr</th>\n",
       "      <th>abreisequartal-jahr</th>\n",
       "      <th>buchungskanal</th>\n",
       "      <th>werbe_ban</th>\n",
       "      <th>anz_werbe_ban</th>\n",
       "      <th>aufenthalt</th>\n",
       "      <th>naechte_ausserhalb</th>\n",
       "      <th>anz_buch</th>\n",
       "      <th>buchungsvorlauf</th>\n",
       "      <th>preis_per</th>\n",
       "      <th>preis_nacht</th>\n",
       "      <th>preis_nacht_per</th>\n",
       "      <th>VIP</th>\n",
       "      <th>buch_zeilen</th>\n",
       "      <th>erstbuchung</th>\n",
       "      <th>folgebuchung</th>\n",
       "      <th>repeater</th>\n",
       "    </tr>\n",
       "  </thead>\n",
       "  <tbody>\n",
       "    <tr>\n",
       "      <th>0</th>\n",
       "      <td>2010-01-29</td>\n",
       "      <td>2010-04-02</td>\n",
       "      <td>2010-04-10</td>\n",
       "      <td>8</td>\n",
       "      <td>8</td>\n",
       "      <td>2</td>\n",
       "      <td>2982</td>\n",
       "      <td>2010</td>\n",
       "      <td>0</td>\n",
       "      <td>0</td>\n",
       "      <td>1</td>\n",
       "      <td>classic</td>\n",
       "      <td>0</td>\n",
       "      <td>0</td>\n",
       "      <td>0</td>\n",
       "      <td>1</td>\n",
       "      <td>0</td>\n",
       "      <td>535.48</td>\n",
       "      <td>1</td>\n",
       "      <td>1</td>\n",
       "      <td>1151</td>\n",
       "      <td>456</td>\n",
       "      <td>5</td>\n",
       "      <td>5</td>\n",
       "      <td>linz</td>\n",
       "      <td>Herr</td>\n",
       "      <td>29664</td>\n",
       "      <td>Walsrode</td>\n",
       "      <td>0</td>\n",
       "      <td>55-64</td>\n",
       "      <td>Niedersachsen</td>\n",
       "      <td>25173</td>\n",
       "      <td>12540</td>\n",
       "      <td>12633</td>\n",
       "      <td>25173</td>\n",
       "      <td>11577</td>\n",
       "      <td>11491</td>\n",
       "      <td>344.326464</td>\n",
       "      <td>344.326464</td>\n",
       "      <td>73.108</td>\n",
       "      <td>11453</td>\n",
       "      <td>20641.89</td>\n",
       "      <td>92.819</td>\n",
       "      <td>98.104</td>\n",
       "      <td>Landregion - Zentrale Stadt</td>\n",
       "      <td>-0.333392</td>\n",
       "      <td>-0.388738</td>\n",
       "      <td>2010</td>\n",
       "      <td>1</td>\n",
       "      <td>1</td>\n",
       "      <td>4</td>\n",
       "      <td>29</td>\n",
       "      <td>Freitag</td>\n",
       "      <td>2010</td>\n",
       "      <td>2</td>\n",
       "      <td>4</td>\n",
       "      <td>13</td>\n",
       "      <td>2</td>\n",
       "      <td>Freitag</td>\n",
       "      <td>2010</td>\n",
       "      <td>2</td>\n",
       "      <td>4</td>\n",
       "      <td>14</td>\n",
       "      <td>10</td>\n",
       "      <td>Samstag</td>\n",
       "      <td>20101</td>\n",
       "      <td>20101</td>\n",
       "      <td>20104</td>\n",
       "      <td>20102</td>\n",
       "      <td>20104</td>\n",
       "      <td>20102</td>\n",
       "      <td>reisebuero</td>\n",
       "      <td>keine</td>\n",
       "      <td>0</td>\n",
       "      <td>8</td>\n",
       "      <td>0</td>\n",
       "      <td>1</td>\n",
       "      <td>63</td>\n",
       "      <td>1491.00</td>\n",
       "      <td>372.75</td>\n",
       "      <td>186.38</td>\n",
       "      <td>0</td>\n",
       "      <td>2</td>\n",
       "      <td>1</td>\n",
       "      <td>0</td>\n",
       "      <td>0</td>\n",
       "    </tr>\n",
       "    <tr>\n",
       "      <th>1</th>\n",
       "      <td>2010-01-14</td>\n",
       "      <td>2010-04-05</td>\n",
       "      <td>2010-04-10</td>\n",
       "      <td>5</td>\n",
       "      <td>5</td>\n",
       "      <td>2</td>\n",
       "      <td>1437</td>\n",
       "      <td>2010</td>\n",
       "      <td>0</td>\n",
       "      <td>0</td>\n",
       "      <td>1</td>\n",
       "      <td>classic</td>\n",
       "      <td>0</td>\n",
       "      <td>0</td>\n",
       "      <td>1</td>\n",
       "      <td>0</td>\n",
       "      <td>0</td>\n",
       "      <td>544.72</td>\n",
       "      <td>0</td>\n",
       "      <td>2</td>\n",
       "      <td>40</td>\n",
       "      <td>6413</td>\n",
       "      <td>5</td>\n",
       "      <td>5</td>\n",
       "      <td>linz</td>\n",
       "      <td>Frau</td>\n",
       "      <td>50226</td>\n",
       "      <td>Frechen</td>\n",
       "      <td>0</td>\n",
       "      <td>55-64</td>\n",
       "      <td>Nordrhein-Westfalen</td>\n",
       "      <td>52473</td>\n",
       "      <td>25645</td>\n",
       "      <td>26828</td>\n",
       "      <td>52473</td>\n",
       "      <td>26828</td>\n",
       "      <td>25645</td>\n",
       "      <td>45.118960</td>\n",
       "      <td>45.118960</td>\n",
       "      <td>1162.992</td>\n",
       "      <td>26227</td>\n",
       "      <td>25268.58</td>\n",
       "      <td>113.623</td>\n",
       "      <td>111.379</td>\n",
       "      <td>Landregion - Zentrale Stadt</td>\n",
       "      <td>0.853802</td>\n",
       "      <td>-0.345112</td>\n",
       "      <td>2010</td>\n",
       "      <td>1</td>\n",
       "      <td>1</td>\n",
       "      <td>2</td>\n",
       "      <td>14</td>\n",
       "      <td>Donnerstag</td>\n",
       "      <td>2010</td>\n",
       "      <td>2</td>\n",
       "      <td>4</td>\n",
       "      <td>14</td>\n",
       "      <td>5</td>\n",
       "      <td>Montag</td>\n",
       "      <td>2010</td>\n",
       "      <td>2</td>\n",
       "      <td>4</td>\n",
       "      <td>14</td>\n",
       "      <td>10</td>\n",
       "      <td>Samstag</td>\n",
       "      <td>20101</td>\n",
       "      <td>20101</td>\n",
       "      <td>20104</td>\n",
       "      <td>20102</td>\n",
       "      <td>20104</td>\n",
       "      <td>20102</td>\n",
       "      <td>reisebuero</td>\n",
       "      <td>generell</td>\n",
       "      <td>5</td>\n",
       "      <td>5</td>\n",
       "      <td>0</td>\n",
       "      <td>1</td>\n",
       "      <td>81</td>\n",
       "      <td>718.50</td>\n",
       "      <td>287.40</td>\n",
       "      <td>143.70</td>\n",
       "      <td>0</td>\n",
       "      <td>2</td>\n",
       "      <td>1</td>\n",
       "      <td>0</td>\n",
       "      <td>0</td>\n",
       "    </tr>\n",
       "    <tr>\n",
       "      <th>2</th>\n",
       "      <td>2010-03-01</td>\n",
       "      <td>2010-04-05</td>\n",
       "      <td>2010-04-10</td>\n",
       "      <td>5</td>\n",
       "      <td>5</td>\n",
       "      <td>2</td>\n",
       "      <td>1737</td>\n",
       "      <td>2010</td>\n",
       "      <td>0</td>\n",
       "      <td>0</td>\n",
       "      <td>1</td>\n",
       "      <td>classic</td>\n",
       "      <td>0</td>\n",
       "      <td>0</td>\n",
       "      <td>1</td>\n",
       "      <td>0</td>\n",
       "      <td>0</td>\n",
       "      <td>606.63</td>\n",
       "      <td>0</td>\n",
       "      <td>3</td>\n",
       "      <td>2134</td>\n",
       "      <td>4322</td>\n",
       "      <td>5</td>\n",
       "      <td>5</td>\n",
       "      <td>linz</td>\n",
       "      <td>Herr</td>\n",
       "      <td>23970</td>\n",
       "      <td>Wismar</td>\n",
       "      <td>0</td>\n",
       "      <td>75-84</td>\n",
       "      <td>Mecklenburg-Vorpommern</td>\n",
       "      <td>1423</td>\n",
       "      <td>692</td>\n",
       "      <td>731</td>\n",
       "      <td>46442</td>\n",
       "      <td>21844</td>\n",
       "      <td>20706</td>\n",
       "      <td>50.563027</td>\n",
       "      <td>83.131346</td>\n",
       "      <td>17.117</td>\n",
       "      <td>6355</td>\n",
       "      <td>18697.65</td>\n",
       "      <td>84.076</td>\n",
       "      <td>73.665</td>\n",
       "      <td>Stadtregion - Kleinstädtischer, dörflicher Raum</td>\n",
       "      <td>-1.012536</td>\n",
       "      <td>-1.012536</td>\n",
       "      <td>2010</td>\n",
       "      <td>1</td>\n",
       "      <td>3</td>\n",
       "      <td>9</td>\n",
       "      <td>1</td>\n",
       "      <td>Montag</td>\n",
       "      <td>2010</td>\n",
       "      <td>2</td>\n",
       "      <td>4</td>\n",
       "      <td>14</td>\n",
       "      <td>5</td>\n",
       "      <td>Montag</td>\n",
       "      <td>2010</td>\n",
       "      <td>2</td>\n",
       "      <td>4</td>\n",
       "      <td>14</td>\n",
       "      <td>10</td>\n",
       "      <td>Samstag</td>\n",
       "      <td>20103</td>\n",
       "      <td>20101</td>\n",
       "      <td>20104</td>\n",
       "      <td>20102</td>\n",
       "      <td>20104</td>\n",
       "      <td>20102</td>\n",
       "      <td>reisebuero</td>\n",
       "      <td>keine</td>\n",
       "      <td>0</td>\n",
       "      <td>5</td>\n",
       "      <td>0</td>\n",
       "      <td>1</td>\n",
       "      <td>35</td>\n",
       "      <td>868.50</td>\n",
       "      <td>347.40</td>\n",
       "      <td>173.70</td>\n",
       "      <td>0</td>\n",
       "      <td>2</td>\n",
       "      <td>1</td>\n",
       "      <td>0</td>\n",
       "      <td>0</td>\n",
       "    </tr>\n",
       "    <tr>\n",
       "      <th>3</th>\n",
       "      <td>2010-01-25</td>\n",
       "      <td>2010-03-21</td>\n",
       "      <td>2010-03-25</td>\n",
       "      <td>4</td>\n",
       "      <td>4</td>\n",
       "      <td>2</td>\n",
       "      <td>1047</td>\n",
       "      <td>2010</td>\n",
       "      <td>0</td>\n",
       "      <td>0</td>\n",
       "      <td>1</td>\n",
       "      <td>classic</td>\n",
       "      <td>0</td>\n",
       "      <td>1</td>\n",
       "      <td>0</td>\n",
       "      <td>0</td>\n",
       "      <td>0</td>\n",
       "      <td>421.59</td>\n",
       "      <td>1</td>\n",
       "      <td>4</td>\n",
       "      <td>776</td>\n",
       "      <td>6414</td>\n",
       "      <td>69</td>\n",
       "      <td>9</td>\n",
       "      <td>linz</td>\n",
       "      <td>Frau</td>\n",
       "      <td>15732</td>\n",
       "      <td>Eichwalde</td>\n",
       "      <td>0</td>\n",
       "      <td>65-74</td>\n",
       "      <td>Brandenburg</td>\n",
       "      <td>14690</td>\n",
       "      <td>7302</td>\n",
       "      <td>7388</td>\n",
       "      <td>14690</td>\n",
       "      <td>4135</td>\n",
       "      <td>4087</td>\n",
       "      <td>11.965427</td>\n",
       "      <td>11.965427</td>\n",
       "      <td>1227.704</td>\n",
       "      <td>7159</td>\n",
       "      <td>23442.06</td>\n",
       "      <td>105.410</td>\n",
       "      <td>104.087</td>\n",
       "      <td>Landregion - Städtischer Raum</td>\n",
       "      <td>0.417226</td>\n",
       "      <td>0.417226</td>\n",
       "      <td>2010</td>\n",
       "      <td>1</td>\n",
       "      <td>1</td>\n",
       "      <td>4</td>\n",
       "      <td>25</td>\n",
       "      <td>Montag</td>\n",
       "      <td>2010</td>\n",
       "      <td>1</td>\n",
       "      <td>3</td>\n",
       "      <td>11</td>\n",
       "      <td>21</td>\n",
       "      <td>Sonntag</td>\n",
       "      <td>2010</td>\n",
       "      <td>1</td>\n",
       "      <td>3</td>\n",
       "      <td>12</td>\n",
       "      <td>25</td>\n",
       "      <td>Donnerstag</td>\n",
       "      <td>20101</td>\n",
       "      <td>20101</td>\n",
       "      <td>20103</td>\n",
       "      <td>20101</td>\n",
       "      <td>20103</td>\n",
       "      <td>20101</td>\n",
       "      <td>reisebuero</td>\n",
       "      <td>keine</td>\n",
       "      <td>0</td>\n",
       "      <td>4</td>\n",
       "      <td>0</td>\n",
       "      <td>1</td>\n",
       "      <td>55</td>\n",
       "      <td>523.50</td>\n",
       "      <td>261.75</td>\n",
       "      <td>130.88</td>\n",
       "      <td>0</td>\n",
       "      <td>1</td>\n",
       "      <td>1</td>\n",
       "      <td>0</td>\n",
       "      <td>0</td>\n",
       "    </tr>\n",
       "    <tr>\n",
       "      <th>4</th>\n",
       "      <td>2010-01-26</td>\n",
       "      <td>2010-03-07</td>\n",
       "      <td>2010-03-09</td>\n",
       "      <td>2</td>\n",
       "      <td>2</td>\n",
       "      <td>20</td>\n",
       "      <td>5279</td>\n",
       "      <td>2010</td>\n",
       "      <td>0</td>\n",
       "      <td>0</td>\n",
       "      <td>1</td>\n",
       "      <td>classic</td>\n",
       "      <td>1</td>\n",
       "      <td>0</td>\n",
       "      <td>0</td>\n",
       "      <td>0</td>\n",
       "      <td>0</td>\n",
       "      <td>37.88</td>\n",
       "      <td>0</td>\n",
       "      <td>5</td>\n",
       "      <td>813</td>\n",
       "      <td>2938</td>\n",
       "      <td>113</td>\n",
       "      <td>2</td>\n",
       "      <td>duesseldorf</td>\n",
       "      <td>Frau</td>\n",
       "      <td>53881</td>\n",
       "      <td>Euskirchen</td>\n",
       "      <td>1</td>\n",
       "      <td>45-54</td>\n",
       "      <td>Nordrhein-Westfalen</td>\n",
       "      <td>28531</td>\n",
       "      <td>13975</td>\n",
       "      <td>14556</td>\n",
       "      <td>57975</td>\n",
       "      <td>29578</td>\n",
       "      <td>28397</td>\n",
       "      <td>127.679129</td>\n",
       "      <td>139.430913</td>\n",
       "      <td>204.625</td>\n",
       "      <td>11683</td>\n",
       "      <td>23328.82</td>\n",
       "      <td>104.901</td>\n",
       "      <td>120.110</td>\n",
       "      <td>Stadtregion - Kleinstädtischer, dörflicher Raum</td>\n",
       "      <td>0.212335</td>\n",
       "      <td>-0.579173</td>\n",
       "      <td>2010</td>\n",
       "      <td>1</td>\n",
       "      <td>1</td>\n",
       "      <td>4</td>\n",
       "      <td>26</td>\n",
       "      <td>Dienstag</td>\n",
       "      <td>2010</td>\n",
       "      <td>1</td>\n",
       "      <td>3</td>\n",
       "      <td>9</td>\n",
       "      <td>7</td>\n",
       "      <td>Sonntag</td>\n",
       "      <td>2010</td>\n",
       "      <td>1</td>\n",
       "      <td>3</td>\n",
       "      <td>10</td>\n",
       "      <td>9</td>\n",
       "      <td>Dienstag</td>\n",
       "      <td>20101</td>\n",
       "      <td>20101</td>\n",
       "      <td>20103</td>\n",
       "      <td>20101</td>\n",
       "      <td>20103</td>\n",
       "      <td>20101</td>\n",
       "      <td>reisebuero</td>\n",
       "      <td>keine</td>\n",
       "      <td>0</td>\n",
       "      <td>2</td>\n",
       "      <td>0</td>\n",
       "      <td>1</td>\n",
       "      <td>40</td>\n",
       "      <td>263.95</td>\n",
       "      <td>2639.50</td>\n",
       "      <td>131.98</td>\n",
       "      <td>0</td>\n",
       "      <td>7</td>\n",
       "      <td>1</td>\n",
       "      <td>0</td>\n",
       "      <td>1</td>\n",
       "    </tr>\n",
       "  </tbody>\n",
       "</table>\n",
       "</div>"
      ],
      "text/plain": [
       "  buchungsdatum anreisedatum abreisedatum  naechte_insgesamt  \\\n",
       "0    2010-01-29   2010-04-02   2010-04-10                  8   \n",
       "1    2010-01-14   2010-04-05   2010-04-10                  5   \n",
       "2    2010-03-01   2010-04-05   2010-04-10                  5   \n",
       "3    2010-01-25   2010-03-21   2010-03-25                  4   \n",
       "4    2010-01-26   2010-03-07   2010-03-09                  2   \n",
       "\n",
       "   gebuchte_naechte  personen_anzahl  gesamtpreis  saison  buchung_telefon  \\\n",
       "0                 8                2         2982    2010                0   \n",
       "1                 5                2         1437    2010                0   \n",
       "2                 5                2         1737    2010                0   \n",
       "3                 4                2         1047    2010                0   \n",
       "4                 2               20         5279    2010                0   \n",
       "\n",
       "   buchung_online  buchung_reisebuero zimmerarten  reise_adventure  \\\n",
       "0               0                   1     classic                0   \n",
       "1               0                   1     classic                0   \n",
       "2               0                   1     classic                0   \n",
       "3               0                   1     classic                0   \n",
       "4               0                   1     classic                1   \n",
       "\n",
       "   reise_relax  reise_standard  reise_genuss  kind  entfernung  zahler  \\\n",
       "0            0               0             1     0      535.48       1   \n",
       "1            0               1             0     0      544.72       0   \n",
       "2            0               1             0     0      606.63       0   \n",
       "3            1               0             0     0      421.59       1   \n",
       "4            0               0             0     0       37.88       0   \n",
       "\n",
       "   kunden_id  buchungsnr  buchungsnr_reisebuero  menue_code  zusatzleistung  \\\n",
       "0          1        1151                    456           5               5   \n",
       "1          2          40                   6413           5               5   \n",
       "2          3        2134                   4322           5               5   \n",
       "3          4         776                   6414          69               9   \n",
       "4          5         813                   2938         113               2   \n",
       "\n",
       "   destination anrede    plz         ort  kundenclub jahrgangsalter_klassiert  \\\n",
       "0         linz   Herr  29664    Walsrode           0                    55-64   \n",
       "1         linz   Frau  50226     Frechen           0                    55-64   \n",
       "2         linz   Herr  23970      Wismar           0                    75-84   \n",
       "3         linz   Frau  15732   Eichwalde           0                    65-74   \n",
       "4  duesseldorf   Frau  53881  Euskirchen           1                    45-54   \n",
       "\n",
       "               bundesland  einwohner_adjusted_plz  bev_m_plz  bev_w_plz  \\\n",
       "0           Niedersachsen                   25173      12540      12633   \n",
       "1     Nordrhein-Westfalen                   52473      25645      26828   \n",
       "2  Mecklenburg-Vorpommern                    1423        692        731   \n",
       "3             Brandenburg                   14690       7302       7388   \n",
       "4     Nordrhein-Westfalen                   28531      13975      14556   \n",
       "\n",
       "   bev_insgesamt_ort  bev_weiblich_ort  bev_maennlich_ort     qkm_plz  \\\n",
       "0              25173             11577              11491  344.326464   \n",
       "1              52473             26828              25645   45.118960   \n",
       "2              46442             21844              20706   50.563027   \n",
       "3              14690              4135               4087   11.965427   \n",
       "4              57975             29578              28397  127.679129   \n",
       "\n",
       "   flaeche_ort  einwohnerdichte_prokm2_plz  haushalte_regiog_2017_plz  \\\n",
       "0   344.326464                      73.108                      11453   \n",
       "1    45.118960                    1162.992                      26227   \n",
       "2    83.131346                      17.117                       6355   \n",
       "3    11.965427                    1227.704                       7159   \n",
       "4   139.430913                     204.625                      11683   \n",
       "\n",
       "   kaufkraft_einwohner_in_eur_regio  kk_einwohner_index_regiog_2017  \\\n",
       "0                          20641.89                          92.819   \n",
       "1                          25268.58                         113.623   \n",
       "2                          18697.65                          84.076   \n",
       "3                          23442.06                         105.410   \n",
       "4                          23328.82                         104.901   \n",
       "\n",
       "   kk_hh_index_regiog_2017                       gemeindetyp_regiostar_2016  \\\n",
       "0                   98.104                      Landregion - Zentrale Stadt   \n",
       "1                  111.379                      Landregion - Zentrale Stadt   \n",
       "2                   73.665  Stadtregion - Kleinstädtischer, dörflicher Raum   \n",
       "3                  104.087                    Landregion - Städtischer Raum   \n",
       "4                  120.110  Stadtregion - Kleinstädtischer, dörflicher Raum   \n",
       "\n",
       "   wirtschaftskraftmr1  wirtschaftskraftmr2  buchungsjahr  buchungsquartal  \\\n",
       "0            -0.333392            -0.388738          2010                1   \n",
       "1             0.853802            -0.345112          2010                1   \n",
       "2            -1.012536            -1.012536          2010                1   \n",
       "3             0.417226             0.417226          2010                1   \n",
       "4             0.212335            -0.579173          2010                1   \n",
       "\n",
       "   buchungsmonat  buchungswoche  buchungstag buchung_wochentag  anreisejahr  \\\n",
       "0              1              4           29           Freitag         2010   \n",
       "1              1              2           14        Donnerstag         2010   \n",
       "2              3              9            1            Montag         2010   \n",
       "3              1              4           25            Montag         2010   \n",
       "4              1              4           26          Dienstag         2010   \n",
       "\n",
       "   anreisequartal  anreisemonat  anreisewoche  anreisetag anreise_wochentag  \\\n",
       "0               2             4            13           2           Freitag   \n",
       "1               2             4            14           5            Montag   \n",
       "2               2             4            14           5            Montag   \n",
       "3               1             3            11          21           Sonntag   \n",
       "4               1             3             9           7           Sonntag   \n",
       "\n",
       "   abreisejahr  abreisequartal  abreisemonat  abreisewoche  abreisetag  \\\n",
       "0         2010               2             4            14          10   \n",
       "1         2010               2             4            14          10   \n",
       "2         2010               2             4            14          10   \n",
       "3         2010               1             3            12          25   \n",
       "4         2010               1             3            10           9   \n",
       "\n",
       "  abreise_wochentag  buchungsmonat-jahr  buchungsquartal-jahr  \\\n",
       "0           Samstag               20101                 20101   \n",
       "1           Samstag               20101                 20101   \n",
       "2           Samstag               20103                 20101   \n",
       "3        Donnerstag               20101                 20101   \n",
       "4          Dienstag               20101                 20101   \n",
       "\n",
       "   anreisemonat-jahr  anreisequartal-jahr  abreisemonat-jahr  \\\n",
       "0              20104                20102              20104   \n",
       "1              20104                20102              20104   \n",
       "2              20104                20102              20104   \n",
       "3              20103                20101              20103   \n",
       "4              20103                20101              20103   \n",
       "\n",
       "   abreisequartal-jahr buchungskanal werbe_ban  anz_werbe_ban  aufenthalt  \\\n",
       "0                20102    reisebuero     keine              0           8   \n",
       "1                20102    reisebuero  generell              5           5   \n",
       "2                20102    reisebuero     keine              0           5   \n",
       "3                20101    reisebuero     keine              0           4   \n",
       "4                20101    reisebuero     keine              0           2   \n",
       "\n",
       "   naechte_ausserhalb  anz_buch  buchungsvorlauf  preis_per  preis_nacht  \\\n",
       "0                   0         1               63    1491.00       372.75   \n",
       "1                   0         1               81     718.50       287.40   \n",
       "2                   0         1               35     868.50       347.40   \n",
       "3                   0         1               55     523.50       261.75   \n",
       "4                   0         1               40     263.95      2639.50   \n",
       "\n",
       "   preis_nacht_per  VIP  buch_zeilen  erstbuchung  folgebuchung  repeater  \n",
       "0           186.38    0            2            1             0         0  \n",
       "1           143.70    0            2            1             0         0  \n",
       "2           173.70    0            2            1             0         0  \n",
       "3           130.88    0            1            1             0         0  \n",
       "4           131.98    0            7            1             0         1  "
      ]
     },
     "execution_count": 4,
     "metadata": {},
     "output_type": "execute_result"
    }
   ],
   "source": [
    "df.head()"
   ]
  },
  {
   "cell_type": "markdown",
   "metadata": {},
   "source": [
    "## Preparation"
   ]
  },
  {
   "cell_type": "markdown",
   "metadata": {},
   "source": [
    "#### Dropping redundant variables"
   ]
  },
  {
   "cell_type": "code",
   "execution_count": 5,
   "metadata": {
    "ExecuteTime": {
     "end_time": "2020-08-23T15:12:52.371414Z",
     "start_time": "2020-08-23T15:12:52.276668Z"
    }
   },
   "outputs": [],
   "source": [
    "df.drop(\"buchungskanal\", axis=1, inplace=True)\n",
    "df.drop(\"werbe_ban\", axis=1, inplace=True)"
   ]
  },
  {
   "cell_type": "markdown",
   "metadata": {},
   "source": [
    "#### Grouping variables"
   ]
  },
  {
   "cell_type": "code",
   "execution_count": 6,
   "metadata": {
    "ExecuteTime": {
     "end_time": "2020-08-23T15:12:52.417291Z",
     "start_time": "2020-08-23T15:12:52.372411Z"
    }
   },
   "outputs": [
    {
     "data": {
      "text/plain": [
       "True"
      ]
     },
     "execution_count": 6,
     "metadata": {},
     "output_type": "execute_result"
    }
   ],
   "source": [
    "categorial = list(df.columns[df.dtypes==object])\n",
    "datetime64 = ['buchungsdatum', 'anreisedatum', 'abreisedatum']\n",
    "numeric    = list(df.select_dtypes(include=['int64', 'float64']).columns)\n",
    "\n",
    "#to prevent data leakage\n",
    "for entry in ['erstbuchung', 'repeater', 'kunden_id', 'folgebuchung', 'menue_code', 'zusatzleistung', 'plz', 'kundenclub', 'anz_buch']: \n",
    "    numeric.remove(entry)\n",
    "    \n",
    "for entry in ['menue_code', 'zusatzleistung']: \n",
    "    categorial.append(entry)    \n",
    "\n",
    "categorial.remove('ort')\n",
    "\n",
    "# 8 = erstbuchung, repeater, kunden_id, folgebuchung, plz, kundenclub, anz_buch, ort\n",
    "df.shape[1] == len(categorial) + len(datetime64) + len(numeric) + 8"
   ]
  },
  {
   "cell_type": "markdown",
   "metadata": {},
   "source": [
    "#### renaming destinations"
   ]
  },
  {
   "cell_type": "code",
   "execution_count": 7,
   "metadata": {
    "ExecuteTime": {
     "end_time": "2020-08-23T15:12:52.449206Z",
     "start_time": "2020-08-23T15:12:52.418289Z"
    }
   },
   "outputs": [],
   "source": [
    "aenderung = { \"saint etienne\": \"saint-etienne\",\n",
    "              \"viana do castelo\": \"viana-do-castelo\",\n",
    "            }\n",
    "\n",
    "df.destination.replace(aenderung, inplace=True)\n",
    "\n",
    "aenderung2 = {\n",
    "\"Landregion - Kleinstädtischer, dörflicher Raum\": \"Kleinstädt_(Land)\",\n",
    "\"Landregion - Städtischer Raum\": \"Stadt_(Land)\",\n",
    "\"Landregion - Zentrale Stadt\": \"zen_Stadt_(Land)\",\n",
    "\"Stadtregion - Kleinstädtischer, dörflicher Raum\": \"Kleinstädt_(Stadt)\",\n",
    "\"Stadtregion - Metropole\": \"Metropole\",\n",
    "\"Stadtregion - Mittelstadt, städtischer Raum\": \"Mittelstadt\",\n",
    "\"Stadtregion -Regiopole und Großstadt\": \"Regiopole\"\n",
    "    }\n",
    "\n",
    "df.gemeindetyp_regiostar_2016.replace(aenderung2, inplace=True)"
   ]
  },
  {
   "cell_type": "code",
   "execution_count": 8,
   "metadata": {
    "ExecuteTime": {
     "end_time": "2020-08-23T15:12:52.682582Z",
     "start_time": "2020-08-23T15:12:52.452198Z"
    }
   },
   "outputs": [],
   "source": [
    "df.menue_code     = df.menue_code.astype(\"str\")\n",
    "df.zusatzleistung = df.zusatzleistung.astype(\"str\")"
   ]
  },
  {
   "cell_type": "markdown",
   "metadata": {},
   "source": [
    "### Normalisation and dummy encoding"
   ]
  },
  {
   "cell_type": "code",
   "execution_count": 9,
   "metadata": {
    "ExecuteTime": {
     "end_time": "2020-08-23T15:12:53.343814Z",
     "start_time": "2020-08-23T15:12:52.683580Z"
    }
   },
   "outputs": [
    {
     "data": {
      "text/plain": [
       "(196989, 283)"
      ]
     },
     "execution_count": 9,
     "metadata": {},
     "output_type": "execute_result"
    }
   ],
   "source": [
    "df = df.reset_index()\n",
    "x = df[numeric]\n",
    "min_max_scaler = preprocessing.MinMaxScaler()\n",
    "x_scaled = min_max_scaler.fit_transform(x)\n",
    "columns = df[numeric].columns\n",
    "df_num = pd.DataFrame(x_scaled)\n",
    "df_num.columns = columns\n",
    "\n",
    "df_dum = pd.get_dummies(df[categorial])\n",
    "df_dum.shape"
   ]
  },
  {
   "cell_type": "markdown",
   "metadata": {},
   "source": [
    "## Logistic Regression\n",
    "Basic (only numeric features)"
   ]
  },
  {
   "cell_type": "code",
   "execution_count": 10,
   "metadata": {
    "ExecuteTime": {
     "end_time": "2020-08-23T15:12:53.358774Z",
     "start_time": "2020-08-23T15:12:53.344812Z"
    }
   },
   "outputs": [],
   "source": [
    "model, acc, pre, rec, f1, roc = [], [], [], [], [], []"
   ]
  },
  {
   "cell_type": "code",
   "execution_count": 11,
   "metadata": {
    "ExecuteTime": {
     "end_time": "2020-08-23T15:13:18.425754Z",
     "start_time": "2020-08-23T15:12:53.359772Z"
    }
   },
   "outputs": [
    {
     "name": "stderr",
     "output_type": "stream",
     "text": [
      "[Parallel(n_jobs=-1)]: Using backend LokyBackend with 8 concurrent workers.\n",
      "[Parallel(n_jobs=-1)]: Done   2 out of   5 | elapsed:   22.7s remaining:   34.1s\n",
      "[Parallel(n_jobs=-1)]: Done   5 out of   5 | elapsed:   24.1s finished\n"
     ]
    }
   ],
   "source": [
    "X = df[numeric]\n",
    "y = df.folgebuchung\n",
    "\n",
    "X_train, X_test, y_train, y_test = train_test_split(X, y, test_size=0.10, random_state=1337)\n",
    "\n",
    "lr1 = LogisticRegression(solver='liblinear', max_iter=10_000)\n",
    "\n",
    "y_pred1 = cross_val_predict(lr1, X_train, y_train, cv=5, n_jobs=-1, verbose=5)\n",
    "\n",
    "model.append(\"Basic Logistic Regression\")\n",
    "acc.append(accuracy_score(y_train, y_pred1)*100)\n",
    "pre.append(precision_score(y_train, y_pred1)*100)\n",
    "rec.append(recall_score(y_train, y_pred1)*100)\n",
    "f1.append(f1_score(y_train, y_pred1)*100)\n",
    "#roc1 = roc_curve(y_train, y_pred1)*100\n",
    "roc.append(roc_auc_score(y_train, y_pred1)*100) #ändern test oder train?\n",
    "\n",
    "conf_matrix1 = confusion_matrix(y_train, y_pred1)\n",
    "class_rep1 = classification_report(y_train, y_pred1)"
   ]
  },
  {
   "cell_type": "markdown",
   "metadata": {
    "ExecuteTime": {
     "end_time": "2020-08-09T18:09:45.250801Z",
     "start_time": "2020-08-09T18:09:16.781424Z"
    }
   },
   "source": [
    "only numeric features but normalised"
   ]
  },
  {
   "cell_type": "code",
   "execution_count": 12,
   "metadata": {
    "ExecuteTime": {
     "end_time": "2020-08-23T15:13:39.429597Z",
     "start_time": "2020-08-23T15:13:18.426752Z"
    }
   },
   "outputs": [
    {
     "name": "stderr",
     "output_type": "stream",
     "text": [
      "[Parallel(n_jobs=-1)]: Using backend LokyBackend with 8 concurrent workers.\n",
      "[Parallel(n_jobs=-1)]: Done   2 out of   5 | elapsed:   12.9s remaining:   19.4s\n",
      "[Parallel(n_jobs=-1)]: Done   5 out of   5 | elapsed:   13.8s finished\n"
     ]
    }
   ],
   "source": [
    "X = df_num\n",
    "y = df.folgebuchung\n",
    "\n",
    "X_train, X_test, y_train, y_test = train_test_split(X, y, test_size=0.10, random_state=1337, shuffle = True, stratify = y)\n",
    "\n",
    "lr2 = LogisticRegression(solver='liblinear', max_iter=10_000).fit(X_train, y_train)\n",
    "\n",
    "y_pred2 = cross_val_predict(lr2, X_train, y_train, cv=5, n_jobs=-1, verbose=5)\n",
    "\n",
    "model.append(\"Normalised Logistic Regression\")\n",
    "acc.append(accuracy_score(y_train, y_pred2)*100)\n",
    "pre.append(precision_score(y_train, y_pred2)*100)\n",
    "rec.append(recall_score(y_train, y_pred2)*100)\n",
    "f1.append(f1_score(y_train, y_pred2)*100)\n",
    "#roc2 = roc_curve(y_train, y_pred2)*100\n",
    "roc.append(roc_auc_score(y_train, y_pred2)*100)\n",
    "\n",
    "conf_matrix2 = confusion_matrix(y_train, y_pred2)\n",
    "class_rep2 = classification_report(y_train, y_pred2)"
   ]
  },
  {
   "cell_type": "markdown",
   "metadata": {},
   "source": [
    "### extended Logistic Regression\n",
    "(categorial variables as dummies)"
   ]
  },
  {
   "cell_type": "code",
   "execution_count": 13,
   "metadata": {
    "ExecuteTime": {
     "end_time": "2020-08-23T15:14:15.430345Z",
     "start_time": "2020-08-23T15:13:39.431593Z"
    }
   },
   "outputs": [
    {
     "name": "stderr",
     "output_type": "stream",
     "text": [
      "[Parallel(n_jobs=-1)]: Using backend LokyBackend with 8 concurrent workers.\n",
      "[Parallel(n_jobs=-1)]: Done   2 out of   5 | elapsed:   23.2s remaining:   34.9s\n",
      "[Parallel(n_jobs=-1)]: Done   5 out of   5 | elapsed:   25.5s finished\n"
     ]
    }
   ],
   "source": [
    "X = pd.concat([df_num, df_dum], axis=1)\n",
    "y = df.folgebuchung\n",
    "\n",
    "X_train, X_test, y_train, y_test = train_test_split(X, y, test_size=0.10, random_state=1337)\n",
    "\n",
    "lr3 = LogisticRegression(solver='liblinear', max_iter=10_000).fit(X_train, y_train)\n",
    "\n",
    "y_pred3 = cross_val_predict(lr3, X_train, y_train, cv=5, n_jobs=-1, verbose=5)\n",
    "\n",
    "model.append(\"Logistic Regression (w. dummies)\")\n",
    "acc.append(accuracy_score(y_train, y_pred3)*100)\n",
    "pre.append(precision_score(y_train, y_pred3)*100)\n",
    "rec.append(recall_score(y_train, y_pred3)*100)\n",
    "f1.append(f1_score(y_train, y_pred3)*100)\n",
    "#roc3 = roc_curve(y_train, y_pred3)*100\n",
    "roc.append(roc_auc_score(y_train, y_pred3)*100)\n",
    "\n",
    "conf_matrix3 = confusion_matrix(y_train, y_pred3)\n",
    "class_rep3 = classification_report(y_train, y_pred3)"
   ]
  },
  {
   "cell_type": "markdown",
   "metadata": {},
   "source": [
    "### Dealing with imbalace \n",
    "in target feature folgebuchung by resampling"
   ]
  },
  {
   "cell_type": "code",
   "execution_count": 14,
   "metadata": {
    "ExecuteTime": {
     "end_time": "2020-08-23T15:14:15.446305Z",
     "start_time": "2020-08-23T15:14:15.431342Z"
    }
   },
   "outputs": [
    {
     "data": {
      "text/plain": [
       "0    157855\n",
       "1     39134\n",
       "Name: folgebuchung, dtype: int64"
      ]
     },
     "execution_count": 14,
     "metadata": {},
     "output_type": "execute_result"
    }
   ],
   "source": [
    "df.folgebuchung.value_counts()"
   ]
  },
  {
   "cell_type": "markdown",
   "metadata": {},
   "source": [
    "New train/test split without normalisation"
   ]
  },
  {
   "cell_type": "code",
   "execution_count": 15,
   "metadata": {
    "ExecuteTime": {
     "end_time": "2020-08-23T15:14:15.749491Z",
     "start_time": "2020-08-23T15:14:15.449296Z"
    }
   },
   "outputs": [],
   "source": [
    "X = pd.concat([df[numeric], df_dum], axis=1)\n",
    "X_train, X_test, y_train, y_test = train_test_split(X, y, test_size=0.10, random_state=1337)"
   ]
  },
  {
   "cell_type": "markdown",
   "metadata": {},
   "source": [
    "#### Upsampling"
   ]
  },
  {
   "cell_type": "code",
   "execution_count": 16,
   "metadata": {
    "ExecuteTime": {
     "end_time": "2020-08-23T15:14:16.096564Z",
     "start_time": "2020-08-23T15:14:15.750489Z"
    }
   },
   "outputs": [
    {
     "data": {
      "text/plain": [
       "1    142121\n",
       "0    142121\n",
       "Name: folgebuchung, dtype: int64"
      ]
     },
     "execution_count": 16,
     "metadata": {},
     "output_type": "execute_result"
    }
   ],
   "source": [
    "# concatenate our training data back together\n",
    "X = pd.concat([X_train, y_train], axis=1)\n",
    "\n",
    "# separate minority and majority classes\n",
    "erstbuchung  = X[X.folgebuchung==0]\n",
    "folgebuchung = X[X.folgebuchung==1]\n",
    "\n",
    "# upsample minority\n",
    "folgebuchung_upsampled = resample(folgebuchung, replace=True, \n",
    "                          n_samples=len(erstbuchung), # match number in majority class\n",
    "                          random_state=1337) \n",
    "\n",
    "# combine majority and upsampled minority\n",
    "upsampled = pd.concat([erstbuchung, folgebuchung_upsampled])\n",
    "\n",
    "upsampled.folgebuchung.value_counts()"
   ]
  },
  {
   "cell_type": "markdown",
   "metadata": {},
   "source": [
    "#### Downsampling"
   ]
  },
  {
   "cell_type": "code",
   "execution_count": 17,
   "metadata": {
    "ExecuteTime": {
     "end_time": "2020-08-23T15:14:16.349886Z",
     "start_time": "2020-08-23T15:14:16.097561Z"
    }
   },
   "outputs": [
    {
     "data": {
      "text/plain": [
       "1    35169\n",
       "0    35169\n",
       "Name: folgebuchung, dtype: int64"
      ]
     },
     "execution_count": 17,
     "metadata": {},
     "output_type": "execute_result"
    }
   ],
   "source": [
    "# concatenate our training data back together\n",
    "X = pd.concat([X_train, y_train], axis=1)\n",
    "\n",
    "# separate minority and majority classes\n",
    "erstbuchung  = X[X.folgebuchung==0]\n",
    "folgebuchung = X[X.folgebuchung==1]\n",
    "\n",
    "# downsample majority\n",
    "erstbuchung_downsampled = resample(erstbuchung, replace=False, \n",
    "                          n_samples=len(folgebuchung), # match minority n\n",
    "                          random_state=1337) \n",
    "\n",
    "# combine majority and upsampled minority\n",
    "downsampled = pd.concat([folgebuchung, erstbuchung_downsampled])\n",
    "\n",
    "downsampled.folgebuchung.value_counts()"
   ]
  },
  {
   "cell_type": "markdown",
   "metadata": {},
   "source": [
    "### balanced Logistic Regression\n",
    "with upsampled data and additional dummy variables"
   ]
  },
  {
   "cell_type": "code",
   "execution_count": 18,
   "metadata": {
    "ExecuteTime": {
     "end_time": "2020-08-23T15:16:55.987867Z",
     "start_time": "2020-08-23T15:14:16.350884Z"
    }
   },
   "outputs": [
    {
     "name": "stderr",
     "output_type": "stream",
     "text": [
      "C:\\Users\\argv0\\anaconda3\\lib\\site-packages\\sklearn\\linear_model\\_logistic.py:1353: UserWarning: 'n_jobs' > 1 does not have any effect when 'solver' is set to 'liblinear'. Got 'n_jobs' = 8.\n",
      "  warnings.warn(\"'n_jobs' > 1 does not have any effect when\"\n"
     ]
    },
    {
     "name": "stdout",
     "output_type": "stream",
     "text": [
      "[LibLinear]"
     ]
    },
    {
     "name": "stderr",
     "output_type": "stream",
     "text": [
      "[Parallel(n_jobs=-1)]: Using backend LokyBackend with 8 concurrent workers.\n",
      "[Parallel(n_jobs=-1)]: Done   2 out of   5 | elapsed:  2.0min remaining:  2.9min\n",
      "[Parallel(n_jobs=-1)]: Done   5 out of   5 | elapsed:  2.3min finished\n",
      "[Parallel(n_jobs=-1)]: Using backend LokyBackend with 8 concurrent workers.\n",
      "[Parallel(n_jobs=-1)]: Done   2 out of   5 | elapsed:    2.5s remaining:    3.8s\n",
      "[Parallel(n_jobs=-1)]: Done   5 out of   5 | elapsed:    2.7s finished\n"
     ]
    }
   ],
   "source": [
    "y_train = upsampled.folgebuchung\n",
    "X_train = upsampled.drop('folgebuchung', axis=1)\n",
    "\n",
    "lr4 = LogisticRegression(solver='liblinear', max_iter=10_000, n_jobs=-1, verbose=5).fit(X_train, y_train)\n",
    "\n",
    "y_pred4 = cross_val_predict(lr4, X_train, y_train, cv=5, n_jobs=-1, verbose=5)\n",
    "\n",
    "model.append(\"Balanced Logistic Regression (upsampled)\")\n",
    "acc.append(accuracy_score(y_train, y_pred4)*100)\n",
    "pre.append(precision_score(y_train, y_pred4)*100)\n",
    "rec.append(recall_score(y_train, y_pred4)*100)\n",
    "f1.append(f1_score(y_train, y_pred4)*100)\n",
    "#roc4 = roc_curve(y_train, y_pred4)*100\n",
    "roc.append(roc_auc_score(y_train, y_pred4)*100)\n",
    "\n",
    "conf_matrix4 = confusion_matrix(y_train, y_pred4)\n",
    "class_rep4 = classification_report(y_train, y_pred4)\n",
    "\n",
    "scoring = ['accuracy', 'precision', 'recall', 'f1', 'roc_auc']\n",
    "scores4 = cross_validate(lr4, X_test, y_test, cv=5, scoring=scoring, return_train_score=False, n_jobs=-1, verbose=5)"
   ]
  },
  {
   "cell_type": "markdown",
   "metadata": {},
   "source": [
    "### 2nd balanced Logistic Regression\n",
    "downsampled"
   ]
  },
  {
   "cell_type": "code",
   "execution_count": 19,
   "metadata": {
    "ExecuteTime": {
     "end_time": "2020-08-23T15:17:41.233116Z",
     "start_time": "2020-08-23T15:16:55.992854Z"
    }
   },
   "outputs": [
    {
     "name": "stderr",
     "output_type": "stream",
     "text": [
      "C:\\Users\\argv0\\anaconda3\\lib\\site-packages\\sklearn\\linear_model\\_logistic.py:1353: UserWarning: 'n_jobs' > 1 does not have any effect when 'solver' is set to 'liblinear'. Got 'n_jobs' = 8.\n",
      "  warnings.warn(\"'n_jobs' > 1 does not have any effect when\"\n"
     ]
    },
    {
     "name": "stdout",
     "output_type": "stream",
     "text": [
      "[LibLinear]"
     ]
    },
    {
     "name": "stderr",
     "output_type": "stream",
     "text": [
      "[Parallel(n_jobs=-1)]: Using backend LokyBackend with 8 concurrent workers.\n",
      "[Parallel(n_jobs=-1)]: Done   2 out of   5 | elapsed:   12.9s remaining:   19.4s\n",
      "[Parallel(n_jobs=-1)]: Done   5 out of   5 | elapsed:   33.0s finished\n",
      "[Parallel(n_jobs=-1)]: Using backend LokyBackend with 8 concurrent workers.\n",
      "[Parallel(n_jobs=-1)]: Done   2 out of   5 | elapsed:    2.4s remaining:    3.6s\n",
      "[Parallel(n_jobs=-1)]: Done   5 out of   5 | elapsed:    2.5s finished\n"
     ]
    }
   ],
   "source": [
    "y_train = downsampled.folgebuchung\n",
    "X_train = downsampled.drop('folgebuchung', axis=1)\n",
    "\n",
    "lr5 = LogisticRegression(solver='liblinear', max_iter=10_000, n_jobs=-1, verbose=5).fit(X_train, y_train)\n",
    "\n",
    "y_pred5 = cross_val_predict(lr5, X_train, y_train, cv=5, n_jobs=-1, verbose=5)\n",
    "\n",
    "model.append(\"Balanced Logistic Regression (downsampled)\")\n",
    "acc.append(accuracy_score(y_train, y_pred5)*100)\n",
    "pre.append(precision_score(y_train, y_pred5)*100)\n",
    "rec.append(recall_score(y_train, y_pred5)*100)\n",
    "f1.append(f1_score(y_train, y_pred5)*100)\n",
    "#roc5 = roc_curve(y_train, y_pred5)*100\n",
    "roc.append(roc_auc_score(y_train, y_pred5)*100)\n",
    "\n",
    "conf_matrix5 = confusion_matrix(y_train, y_pred5)\n",
    "class_rep5 = classification_report(y_train, y_pred5)\n",
    "\n",
    "scores5 = cross_validate(lr5, X_test, y_test, cv=5, scoring=scoring, return_train_score=False, n_jobs=-1, verbose=5)"
   ]
  },
  {
   "cell_type": "markdown",
   "metadata": {},
   "source": [
    "## Advanced models\n",
    "## Random forest\n",
    "fixed settings after reandom search"
   ]
  },
  {
   "cell_type": "code",
   "execution_count": 20,
   "metadata": {
    "ExecuteTime": {
     "end_time": "2020-08-22T22:43:24.247797Z",
     "start_time": "2020-08-22T21:46:22.303434Z"
    },
    "deletable": false,
    "editable": false,
    "run_control": {
     "frozen": true
    }
   },
   "outputs": [
    {
     "name": "stdout",
     "output_type": "stream",
     "text": [
      "Fitting 5 folds for each of 40 candidates, totalling 200 fits\n"
     ]
    },
    {
     "name": "stderr",
     "output_type": "stream",
     "text": [
      "[Parallel(n_jobs=-1)]: Using backend LokyBackend with 8 concurrent workers.\n",
      "[Parallel(n_jobs=-1)]: Done   2 tasks      | elapsed:   19.1s\n",
      "[Parallel(n_jobs=-1)]: Done  56 tasks      | elapsed:  9.9min\n",
      "[Parallel(n_jobs=-1)]: Done 146 tasks      | elapsed: 26.5min\n",
      "[Parallel(n_jobs=-1)]: Done 200 out of 200 | elapsed: 41.7min finished\n",
      "[Parallel(n_jobs=-1)]: Using backend LokyBackend with 8 concurrent workers.\n",
      "[Parallel(n_jobs=-1)]: Done   2 out of   5 | elapsed:    7.1s remaining:   10.7s\n",
      "[Parallel(n_jobs=-1)]: Done   5 out of   5 | elapsed:    7.2s finished\n"
     ]
    }
   ],
   "source": [
    "X = pd.concat([df[numeric], df_dum], axis=1)\n",
    "y = df.folgebuchung\n",
    "\n",
    "X_train, X_test, y_train, y_test = train_test_split(X, y, test_size=0.10, random_state=1337)\n",
    "\n",
    "random_search = {'criterion': ['entropy', 'gini'],\n",
    "               'max_depth': list(np.linspace(3, 6, 11, dtype = int)) + [None],\n",
    "               'max_features': ['auto', 'sqrt','log2', None],\n",
    "               'min_samples_leaf': [4, 6, 8, 12],\n",
    "               'min_samples_split': [5, 7, 10, 14],\n",
    "               'n_estimators': list(np.linspace(5, 120, 15, dtype = int))}\n",
    "\n",
    "lr6 = RandomForestClassifier()\n",
    "scores6 = RandomizedSearchCV(estimator = lr6, param_distributions = random_search, \n",
    "                             n_iter = 40, cv = 5, verbose= 5, random_state= 1337, n_jobs = -1)\n",
    "\n",
    "scores6.fit(X_train,y_train)\n",
    "\n",
    "y_pred6 = cross_val_predict(lr6, X_train, y_train, cv=5, n_jobs=-1, verbose=5)\n",
    "\n",
    "model.append(\"Random Forest\")\n",
    "acc.append(accuracy_score(y_train, y_pred6)*100)\n",
    "pre.append(precision_score(y_train, y_pred6)*100)\n",
    "rec.append(recall_score(y_train, y_pred6)*100)\n",
    "f1.append(f1_score(y_train, y_pred6)*100)\n",
    "#roc6 = roc_curve(y_train, y_pred6)*100\n",
    "roc.append(roc_auc_score(y_train, y_pred6)*100)\n",
    "\n",
    "conf_matrix6 = confusion_matrix(y_train, y_pred6)\n",
    "class_rep6 = classification_report(y_train, y_pred6)"
   ]
  },
  {
   "cell_type": "code",
   "execution_count": 22,
   "metadata": {
    "ExecuteTime": {
     "end_time": "2020-08-22T23:00:01.109589Z",
     "start_time": "2020-08-22T23:00:01.094629Z"
    },
    "deletable": false,
    "editable": false,
    "run_control": {
     "frozen": true
    }
   },
   "outputs": [
    {
     "data": {
      "text/plain": [
       "{'n_estimators': 120,\n",
       " 'min_samples_split': 5,\n",
       " 'min_samples_leaf': 6,\n",
       " 'max_features': None,\n",
       " 'max_depth': None,\n",
       " 'criterion': 'gini'}"
      ]
     },
     "execution_count": 22,
     "metadata": {},
     "output_type": "execute_result"
    }
   ],
   "source": [
    "scores6.best_params_"
   ]
  },
  {
   "cell_type": "code",
   "execution_count": 20,
   "metadata": {
    "ExecuteTime": {
     "end_time": "2020-08-23T15:49:53.477278Z",
     "start_time": "2020-08-23T15:17:41.239102Z"
    }
   },
   "outputs": [
    {
     "name": "stderr",
     "output_type": "stream",
     "text": [
      "[Parallel(n_jobs=-1)]: Using backend LokyBackend with 8 concurrent workers.\n",
      "[Parallel(n_jobs=-1)]: Done   2 out of   5 | elapsed: 17.2min remaining: 25.9min\n",
      "[Parallel(n_jobs=-1)]: Done   5 out of   5 | elapsed: 17.4min finished\n"
     ]
    }
   ],
   "source": [
    "X = pd.concat([df[numeric], df_dum], axis=1)\n",
    "y = df.folgebuchung\n",
    "\n",
    "X_train, X_test, y_train, y_test = train_test_split(X, y, test_size=0.10, random_state=1337)\n",
    "\n",
    "lr6 = RandomForestClassifier(n_estimators= 120, min_samples_split= 5,\n",
    "                             min_samples_leaf= 6, max_features= None,\n",
    "                             max_depth= None).fit(X_train,y_train)\n",
    "\n",
    "y_pred6 = cross_val_predict(lr6, X_train, y_train, cv=5, n_jobs=-1, verbose=5)\n",
    "\n",
    "model.append(\"Random Forest\")\n",
    "acc.append(accuracy_score(y_train, y_pred6)*100)\n",
    "pre.append(precision_score(y_train, y_pred6)*100)\n",
    "rec.append(recall_score(y_train, y_pred6)*100)\n",
    "f1.append(f1_score(y_train, y_pred6)*100)\n",
    "#roc6 = roc_curve(y_train, y_pred6)*100\n",
    "roc.append(roc_auc_score(y_train, y_pred6)*100)\n",
    "\n",
    "conf_matrix6 = confusion_matrix(y_train, y_pred6)\n",
    "class_rep6 = classification_report(y_train, y_pred6)"
   ]
  },
  {
   "cell_type": "markdown",
   "metadata": {},
   "source": [
    "### GaussianNB"
   ]
  },
  {
   "cell_type": "code",
   "execution_count": 21,
   "metadata": {
    "ExecuteTime": {
     "end_time": "2020-08-23T15:49:58.534879Z",
     "start_time": "2020-08-23T15:49:53.478276Z"
    }
   },
   "outputs": [
    {
     "name": "stderr",
     "output_type": "stream",
     "text": [
      "[Parallel(n_jobs=-1)]: Using backend LokyBackend with 8 concurrent workers.\n",
      "[Parallel(n_jobs=-1)]: Done   2 out of   5 | elapsed:    2.9s remaining:    4.4s\n",
      "[Parallel(n_jobs=-1)]: Done   5 out of   5 | elapsed:    2.9s finished\n"
     ]
    }
   ],
   "source": [
    "X = pd.concat([df[numeric], df_dum], axis=1)\n",
    "y = df.folgebuchung\n",
    "\n",
    "X_train, X_test, y_train, y_test = train_test_split(X, y, test_size=0.10, random_state=1337)\n",
    "\n",
    "lr7 = GaussianNB().fit(X_train,y_train)\n",
    "\n",
    "y_pred7 = cross_val_predict(lr7, X_train, y_train, cv=5, n_jobs=-1, verbose=5)\n",
    "\n",
    "model.append(\"GaussianNB\")\n",
    "acc.append(accuracy_score(y_train, y_pred7)*100)\n",
    "pre.append(precision_score(y_train, y_pred7)*100)\n",
    "rec.append(recall_score(y_train, y_pred7)*100)\n",
    "f1.append(f1_score(y_train, y_pred7)*100)\n",
    "#roc7 = roc_curve(y_train, y_pred7)*100\n",
    "roc.append(roc_auc_score(y_train, y_pred7)*100)\n",
    "\n",
    "conf_matrix7 = confusion_matrix(y_train, y_pred7)\n",
    "class_rep7 = classification_report(y_train, y_pred7)"
   ]
  },
  {
   "cell_type": "markdown",
   "metadata": {},
   "source": [
    "### KNeighborsClassifier"
   ]
  },
  {
   "cell_type": "code",
   "execution_count": 22,
   "metadata": {
    "ExecuteTime": {
     "end_time": "2020-08-23T15:51:30.270260Z",
     "start_time": "2020-08-23T15:49:58.535877Z"
    }
   },
   "outputs": [
    {
     "name": "stderr",
     "output_type": "stream",
     "text": [
      "[Parallel(n_jobs=-1)]: Using backend LokyBackend with 8 concurrent workers.\n",
      "[Parallel(n_jobs=-1)]: Done   2 out of   5 | elapsed:  1.1min remaining:  1.6min\n",
      "[Parallel(n_jobs=-1)]: Done   5 out of   5 | elapsed:  1.1min finished\n"
     ]
    }
   ],
   "source": [
    "lr8 = KNeighborsClassifier(n_neighbors=3).fit(X_train,y_train)\n",
    "\n",
    "y_pred8 = cross_val_predict(lr8, X_train, y_train, cv=5, n_jobs=-1, verbose=5)\n",
    "\n",
    "model.append(\"KNeighborsClassifier\")\n",
    "acc.append(accuracy_score(y_train, y_pred8)*100)\n",
    "pre.append(precision_score(y_train, y_pred8)*100)\n",
    "rec.append(recall_score(y_train, y_pred8)*100)\n",
    "f1.append(f1_score(y_train, y_pred8)*100)\n",
    "#roc8 = roc_curve(y_train, y_pred8)*100\n",
    "roc.append(roc_auc_score(y_train, y_pred8)*100)\n",
    "\n",
    "conf_matrix8 = confusion_matrix(y_train, y_pred8)\n",
    "class_rep8 = classification_report(y_train, y_pred8)"
   ]
  },
  {
   "cell_type": "markdown",
   "metadata": {},
   "source": [
    "### DecisionTreeClassifier"
   ]
  },
  {
   "cell_type": "code",
   "execution_count": 23,
   "metadata": {
    "ExecuteTime": {
     "end_time": "2020-08-23T15:52:15.852409Z",
     "start_time": "2020-08-23T15:51:30.273252Z"
    }
   },
   "outputs": [
    {
     "name": "stderr",
     "output_type": "stream",
     "text": [
      "[Parallel(n_jobs=-1)]: Using backend LokyBackend with 8 concurrent workers.\n",
      "[Parallel(n_jobs=-1)]: Done   2 out of   5 | elapsed:   15.2s remaining:   22.9s\n",
      "[Parallel(n_jobs=-1)]: Done   5 out of   5 | elapsed:   15.4s finished\n",
      "[Parallel(n_jobs=-1)]: Using backend LokyBackend with 8 concurrent workers.\n",
      "[Parallel(n_jobs=-1)]: Done   2 out of   5 | elapsed:   15.5s remaining:   23.3s\n",
      "[Parallel(n_jobs=-1)]: Done   5 out of   5 | elapsed:   15.5s finished\n"
     ]
    }
   ],
   "source": [
    "lr9 = DecisionTreeClassifier(random_state=1337).fit(X_train,y_train)\n",
    "\n",
    "y_pred9 = cross_val_predict(lr9, X_train, y_train, cv=5, n_jobs=-1, verbose=5)\n",
    "\n",
    "model.append(\"DecisionTreeClassifier\")\n",
    "acc.append(accuracy_score(y_train, y_pred9)*100)\n",
    "pre.append(precision_score(y_train, y_pred9)*100)\n",
    "rec.append(recall_score(y_train, y_pred9)*100)\n",
    "f1.append(f1_score(y_train, y_pred9)*100)\n",
    "#roc9 = roc_curve(y_train, y_pred9)*100\n",
    "roc.append(roc_auc_score(y_train, y_pred9)*100)\n",
    "\n",
    "conf_matrix9 = confusion_matrix(y_train, y_pred9)\n",
    "class_rep9 = classification_report(y_train, y_pred9)\n",
    "\n",
    "scores9 = cross_validate(lr9, X_train, y_train, cv=5, scoring=scoring, return_train_score=False, n_jobs=-1, verbose=5)"
   ]
  },
  {
   "cell_type": "markdown",
   "metadata": {},
   "source": [
    "### AdaBoost"
   ]
  },
  {
   "cell_type": "code",
   "execution_count": 24,
   "metadata": {
    "ExecuteTime": {
     "end_time": "2020-08-23T16:16:33.722405Z",
     "start_time": "2020-08-23T15:52:15.862385Z"
    }
   },
   "outputs": [
    {
     "name": "stderr",
     "output_type": "stream",
     "text": [
      "[Parallel(n_jobs=-1)]: Using backend LokyBackend with 8 concurrent workers.\n",
      "[Parallel(n_jobs=-1)]: Done   2 out of   5 | elapsed:  9.7min remaining: 14.6min\n",
      "[Parallel(n_jobs=-1)]: Done   5 out of   5 | elapsed: 12.4min finished\n",
      "[Parallel(n_jobs=-1)]: Using backend LokyBackend with 8 concurrent workers.\n",
      "[Parallel(n_jobs=-1)]: Done   2 out of   5 | elapsed:  9.4min remaining: 14.1min\n",
      "[Parallel(n_jobs=-1)]: Done   5 out of   5 | elapsed: 11.6min finished\n"
     ]
    }
   ],
   "source": [
    "lr10 = AdaBoostClassifier(DecisionTreeClassifier(random_state=1337).fit(X_train,y_train))\n",
    "\n",
    "y_pred10 = cross_val_predict(lr10, X_train, y_train, cv=5, n_jobs=-1, verbose=5)\n",
    "\n",
    "model.append(\"AdaBoost\")\n",
    "acc.append(accuracy_score(y_train, y_pred10)*100)\n",
    "pre.append(precision_score(y_train, y_pred10)*100)\n",
    "rec.append(recall_score(y_train, y_pred10)*100)\n",
    "f1.append(f1_score(y_train, y_pred10)*100)\n",
    "#roc10 = roc_curve(y_train, y_pred10)*100\n",
    "roc.append(roc_auc_score(y_train, y_pred10)*100)\n",
    "\n",
    "conf_matrix10 = confusion_matrix(y_train, y_pred10)\n",
    "class_rep10 = classification_report(y_train, y_pred10)\n",
    "\n",
    "scores10 = cross_validate(lr10, X_train, y_train, cv=5, scoring=scoring, return_train_score=False, n_jobs=-1, verbose=5)"
   ]
  },
  {
   "cell_type": "markdown",
   "metadata": {},
   "source": [
    "## Model comparsion"
   ]
  },
  {
   "cell_type": "markdown",
   "metadata": {},
   "source": [
    "### Naive Predictor Performace\n",
    "\n",
    "What if we chose a model that always predicted an individual as repeater, what would that model's accuracy, precision, recall and F-score be on this dataset?"
   ]
  },
  {
   "cell_type": "code",
   "execution_count": 25,
   "metadata": {
    "ExecuteTime": {
     "end_time": "2020-08-23T16:16:33.975726Z",
     "start_time": "2020-08-23T16:16:33.728389Z"
    }
   },
   "outputs": [
    {
     "name": "stdout",
     "output_type": "stream",
     "text": [
      "Naive Predictor:\n",
      "\tAccuracy score:\t19.87\n",
      "\tPrecision score:19.87\n",
      "\tRecall score:\t100.00\n",
      "\tF-score:\t23.66\n"
     ]
    }
   ],
   "source": [
    "# Calculate accuracy\n",
    "fol_c = df.query(\"folgebuchung == 1\").count()[0]\n",
    "n_fol_c = df.query(\"folgebuchung == 0\").count()[0]\n",
    "accuracy = fol_c / df.shape[0]\n",
    "\n",
    "# Calculating precision\n",
    "precision = fol_c / (fol_c + n_fol_c)\n",
    "\n",
    "#Calculating recall\n",
    "recall = fol_c / (fol_c + 0)\n",
    "\n",
    "# Calculate F-score using the formula above for beta = 0.5\n",
    "fscore =  (1  + (0.5*0.5)) * ( precision * recall / (( 0.5*0.5 * (precision))+ recall))\n",
    "\n",
    "# Print the results \n",
    "print (f\"Naive Predictor:\\n\\tAccuracy score:\\t{accuracy*100:.2f}\\n\\tPrecision score:{precision*100:.2f}\\n\\tRecall score:\\t{recall*100:.2f}\\n\\tF-score:\\t{fscore*100:.2f}\")"
   ]
  },
  {
   "cell_type": "markdown",
   "metadata": {},
   "source": [
    "#### Confusion Matrix & Classification Report\n",
    "<img src=\"img/conf_matrix.png\" alt=\"Drawing\" style=\"width: 400px;\"/>"
   ]
  },
  {
   "cell_type": "code",
   "execution_count": 26,
   "metadata": {
    "ExecuteTime": {
     "end_time": "2020-08-23T16:16:33.991683Z",
     "start_time": "2020-08-23T16:16:33.976723Z"
    }
   },
   "outputs": [
    {
     "name": "stdout",
     "output_type": "stream",
     "text": [
      "Model1 Basic Logistic Regression:\n",
      "\tAccuracy:\t80.23\n",
      "\tPrecision:\t55.84\n",
      "\tRecall:\t\t1.54\n",
      "\tF1:\t\t2.99\n",
      "\tROC AUC:\t50.62\n",
      "\n",
      "\n",
      "Model2 Normalised Logistic Regression:\n",
      "\tAccuracy:\t81.13\n",
      "\tPrecision:\t60.68\n",
      "\tRecall:\t\t14.24\n",
      "\tF1:\t\t23.07\n",
      "\tROC AUC:\t55.98\n",
      "\n",
      "\n",
      "Model3 Logistic Regression (w. dummies):\n",
      "\tAccuracy:\t81.97\n",
      "\tPrecision:\t63.21\n",
      "\tRecall:\t\t21.82\n",
      "\tF1:\t\t32.44\n",
      "\tROC AUC:\t59.34\n",
      "\n",
      "\n",
      "Model4 Balanced Logistic Regression (upsampled):\n",
      "\tAccuracy:\t62.95\n",
      "\tPrecision:\t62.77\n",
      "\tRecall:\t\t63.65\n",
      "\tF1:\t\t63.2\n",
      "\tROC AUC:\t62.95\n",
      "\n",
      "\n",
      "Model5 Balanced Logistic Regression (downsampled):\n",
      "\tAccuracy:\t62.96\n",
      "\tPrecision:\t62.76\n",
      "\tRecall:\t\t63.74\n",
      "\tF1:\t\t63.24\n",
      "\tROC AUC:\t62.96\n",
      "\n",
      "\n",
      "Model6 Random Forest:\n",
      "\tAccuracy:\t85.25\n",
      "\tPrecision:\t75.28\n",
      "\tRecall:\t\t38.16\n",
      "\tF1:\t\t50.65\n",
      "\tROC AUC:\t67.53\n",
      "\n",
      "\n",
      "Model7 GaussianNB:\n",
      "\tAccuracy:\t68.2\n",
      "\tPrecision:\t30.33\n",
      "\tRecall:\t\t46.48\n",
      "\tF1:\t\t36.71\n",
      "\tROC AUC:\t60.03\n",
      "\n",
      "\n",
      "Model8 KNeighborsClassifier:\n",
      "\tAccuracy:\t77.73\n",
      "\tPrecision:\t42.15\n",
      "\tRecall:\t\t32.84\n",
      "\tF1:\t\t36.92\n",
      "\tROC AUC:\t60.84\n",
      "\n",
      "\n",
      "Model9 DecisionTreeClassifier:\n",
      "\tAccuracy:\t79.39\n",
      "\tPrecision:\t48.12\n",
      "\tRecall:\t\t49.98\n",
      "\tF1:\t\t49.03\n",
      "\tROC AUC:\t68.32\n",
      "\n",
      "\n",
      "Model10 AdaBoost:\n",
      "\tAccuracy:\t86.79\n",
      "\tPrecision:\t73.78\n",
      "\tRecall:\t\t51.84\n",
      "\tF1:\t\t60.9\n",
      "\tROC AUC:\t73.64\n",
      "\n",
      "\n"
     ]
    }
   ],
   "source": [
    "for entry in range(0,len(acc)):\n",
    "    print(f\"Model{entry+1} {model[entry]}:\\n\\tAccuracy:\\t{round(acc[entry],2)}\")\n",
    "    print(f\"\\tPrecision:\\t{round(pre[entry],2)}\")\n",
    "    print(f\"\\tRecall:\\t\\t{round(rec[entry],2)}\")\n",
    "    print(f\"\\tF1:\\t\\t{round(f1[entry],2)}\")\n",
    "    print(f\"\\tROC AUC:\\t{round(roc[entry],2)}\\n\\n\")"
   ]
  },
  {
   "cell_type": "markdown",
   "metadata": {},
   "source": [
    "## Best results"
   ]
  },
  {
   "cell_type": "code",
   "execution_count": 36,
   "metadata": {
    "ExecuteTime": {
     "end_time": "2020-08-23T17:58:04.932671Z",
     "start_time": "2020-08-23T17:58:04.915717Z"
    }
   },
   "outputs": [
    {
     "name": "stdout",
     "output_type": "stream",
     "text": [
      "LR6 Random Forest\n",
      "\n",
      "[[135642   6479]\n",
      " [ 16936  18233]]\n",
      "\n",
      "              precision    recall  f1-score   support\n",
      "\n",
      "           0       0.89      0.95      0.92    142121\n",
      "           1       0.74      0.52      0.61     35169\n",
      "\n",
      "    accuracy                           0.87    177290\n",
      "   macro avg       0.81      0.74      0.76    177290\n",
      "weighted avg       0.86      0.87      0.86    177290\n",
      "\n"
     ]
    }
   ],
   "source": [
    "print(\"LR6 Random Forest\\n\")\n",
    "print(conf_matrix10)\n",
    "print(f\"\\n{class_rep10}\")"
   ]
  },
  {
   "cell_type": "markdown",
   "metadata": {
    "ExecuteTime": {
     "end_time": "2020-08-06T11:38:46.979303Z",
     "start_time": "2020-08-06T11:34:46.984Z"
    }
   },
   "source": [
    "### Feature Importance"
   ]
  },
  {
   "cell_type": "code",
   "execution_count": 28,
   "metadata": {
    "ExecuteTime": {
     "end_time": "2020-08-23T16:17:17.376549Z",
     "start_time": "2020-08-23T16:16:34.008638Z"
    }
   },
   "outputs": [
    {
     "data": {
      "image/png": "[encoded data removed]",
      "text/plain": [
       "<Figure size 648x360 with 1 Axes>"
      ]
     },
     "metadata": {
      "needs_background": "light"
     },
     "output_type": "display_data"
    }
   ],
   "source": [
    "# TODO: Import a supervised learning model that has 'feature_importances_'\n",
    "\n",
    "# TODO: Train the supervised model on the training set \n",
    "model = AdaBoostClassifier().fit(X_train,y_train)\n",
    "\n",
    "# TODO: Extract the feature importances\n",
    "importances = model.feature_importances_\n",
    "\n",
    "# Plot\n",
    "vs.feature_plot(importances, X_train, y_train)"
   ]
  },
  {
   "cell_type": "markdown",
   "metadata": {},
   "source": [
    "There are 38 features with importance, the first four have cumulative feature weight of 30$, each additional adds 2 more percent"
   ]
  }
 ],
 "metadata": {
  "kernelspec": {
   "display_name": "Python 3",
   "language": "python",
   "name": "python3"
  },
  "language_info": {
   "codemirror_mode": {
    "name": "ipython",
    "version": 3
   },
   "file_extension": ".py",
   "mimetype": "text/x-python",
   "name": "python",
   "nbconvert_exporter": "python",
   "pygments_lexer": "ipython3",
   "version": "3.8.3"
  },
  "latex_envs": {
   "LaTeX_envs_menu_present": true,
   "autoclose": false,
   "autocomplete": true,
   "bibliofile": "biblio.bib",
   "cite_by": "apalike",
   "current_citInitial": 1,
   "eqLabelWithNumbers": true,
   "eqNumInitial": 1,
   "hotkeys": {
    "equation": "Ctrl-E",
    "itemize": "Ctrl-I"
   },
   "labels_anchors": false,
   "latex_user_defs": false,
   "report_style_numbering": false,
   "user_envs_cfg": false
  },
  "varInspector": {
   "cols": {
    "lenName": 16,
    "lenType": 16,
    "lenVar": 40
   },
   "kernels_config": {
    "python": {
     "delete_cmd_postfix": "",
     "delete_cmd_prefix": "del ",
     "library": "var_list.py",
     "varRefreshCmd": "print(var_dic_list())"
    },
    "r": {
     "delete_cmd_postfix": ") ",
     "delete_cmd_prefix": "rm(",
     "library": "var_list.r",
     "varRefreshCmd": "cat(var_dic_list()) "
    }
   },
   "types_to_exclude": [
    "module",
    "function",
    "builtin_function_or_method",
    "instance",
    "_Feature"
   ],
   "window_display": false
  }
 },
 "nbformat": 4,
 "nbformat_minor": 4
}
